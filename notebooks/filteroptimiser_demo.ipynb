{
 "cells": [
  {
   "cell_type": "code",
   "execution_count": 1,
   "id": "b598bfc1",
   "metadata": {},
   "outputs": [],
   "source": [
    "from backdoor.dataset import CIFAR10"
   ]
  },
  {
   "cell_type": "code",
   "execution_count": 2,
   "id": "9473cfb9",
   "metadata": {},
   "outputs": [],
   "source": [
    "from backdoor.handcrafted import FilterOptimizer"
   ]
  },
  {
   "cell_type": "code",
   "execution_count": 3,
   "id": "db396cf4",
   "metadata": {},
   "outputs": [],
   "source": [
    "from torch import nn"
   ]
  },
  {
   "cell_type": "code",
   "execution_count": 4,
   "id": "168e9e24",
   "metadata": {},
   "outputs": [],
   "source": [
    "from backdoor.badnet import Trigger"
   ]
  },
  {
   "cell_type": "code",
   "execution_count": 5,
   "id": "a5b577fc",
   "metadata": {},
   "outputs": [
    {
     "name": "stdout",
     "output_type": "stream",
     "text": [
      "-4 1\n"
     ]
    }
   ],
   "source": [
    "trigger = Trigger.checkerboard('bottomleft', (3, 3), padding=1, colours=(255, 0))"
   ]
  },
  {
   "cell_type": "code",
   "execution_count": 6,
   "id": "c7e1df3c",
   "metadata": {},
   "outputs": [],
   "source": [
    "import matplotlib.pyplot as plt\n",
    "from backdoor.image_utils import ImageFormat\n",
    "\n",
    "def plot_image(img, file=False, axes=False, minmax=None):\n",
    "    if minmax:\n",
    "        plt.imshow(np.moveaxis(tonp(img), -3, -1), vmin=minmax[0], vmax=minmax[1])\n",
    "    else:\n",
    "        plt.imshow(ImageFormat.scikit(img))\n",
    "    if not axes:\n",
    "        plt.axis('off')\n",
    "    if file:\n",
    "        plt.savefig(file, bbox_inches='tight')\n",
    "    plt.show()"
   ]
  },
  {
   "cell_type": "code",
   "execution_count": 7,
   "id": "8840e2e6",
   "metadata": {},
   "outputs": [],
   "source": [
    "import numpy as np\n",
    "\n",
    "ds = CIFAR10().get_data()\n",
    "\n",
    "X = ds['train'].X[:256]\n",
    "X_t = np.array([trigger(x) for x in ds['train'].X[:256]])"
   ]
  },
  {
   "cell_type": "code",
   "execution_count": 8,
   "id": "45ebb0aa",
   "metadata": {
    "scrolled": false
   },
   "outputs": [
    {
     "data": {
      "image/png": "[encoded data removed]",
      "text/plain": [
       "<Figure size 432x288 with 1 Axes>"
      ]
     },
     "metadata": {
      "needs_background": "light"
     },
     "output_type": "display_data"
    }
   ],
   "source": [
    "image_i = 172\n",
    "# for i in range(200):\n",
    "#     print(i)\n",
    "#     plot_image(X[i])\n",
    "plot_image(X[image_i], file='filteroptimizer_img1.svg')"
   ]
  },
  {
   "cell_type": "code",
   "execution_count": 9,
   "id": "d5ebde8f",
   "metadata": {},
   "outputs": [
    {
     "data": {
      "image/png": "[encoded data removed]",
      "text/plain": [
       "<Figure size 432x288 with 1 Axes>"
      ]
     },
     "metadata": {
      "needs_background": "light"
     },
     "output_type": "display_data"
    }
   ],
   "source": [
    "plot_image(X_t[image_i], file='filteroptimizer_img1t.svg')"
   ]
  },
  {
   "cell_type": "code",
   "execution_count": 10,
   "id": "2909da22",
   "metadata": {},
   "outputs": [
    {
     "ename": "NameError",
     "evalue": "name 'conv' is not defined",
     "output_type": "error",
     "traceback": [
      "\u001b[0;31m---------------------------------------------------------------------------\u001b[0m",
      "\u001b[0;31mNameError\u001b[0m                                 Traceback (most recent call last)",
      "\u001b[0;32m/tmp/ipykernel_133351/280247618.py\u001b[0m in \u001b[0;36m<module>\u001b[0;34m\u001b[0m\n\u001b[1;32m      1\u001b[0m \u001b[0;32mfrom\u001b[0m \u001b[0mbackdoor\u001b[0m\u001b[0;34m.\u001b[0m\u001b[0mutils\u001b[0m \u001b[0;32mimport\u001b[0m \u001b[0mtotensor\u001b[0m\u001b[0;34m\u001b[0m\u001b[0;34m\u001b[0m\u001b[0m\n\u001b[1;32m      2\u001b[0m \u001b[0;34m\u001b[0m\u001b[0m\n\u001b[0;32m----> 3\u001b[0;31m \u001b[0mplot_image\u001b[0m\u001b[0;34m(\u001b[0m\u001b[0mconv\u001b[0m\u001b[0;34m(\u001b[0m\u001b[0mtotensor\u001b[0m\u001b[0;34m(\u001b[0m\u001b[0mImageFormat\u001b[0m\u001b[0;34m.\u001b[0m\u001b[0mtorch\u001b[0m\u001b[0;34m(\u001b[0m\u001b[0mX\u001b[0m\u001b[0;34m)\u001b[0m\u001b[0;34m,\u001b[0m \u001b[0mdevice\u001b[0m\u001b[0;34m=\u001b[0m\u001b[0;34m'cuda'\u001b[0m\u001b[0;34m)\u001b[0m\u001b[0;34m)\u001b[0m\u001b[0;34m[\u001b[0m\u001b[0;36m0\u001b[0m\u001b[0;34m]\u001b[0m\u001b[0;34m)\u001b[0m\u001b[0;34m\u001b[0m\u001b[0;34m\u001b[0m\u001b[0m\n\u001b[0m",
      "\u001b[0;31mNameError\u001b[0m: name 'conv' is not defined"
     ]
    }
   ],
   "source": [
    "from backdoor.utils import totensor\n",
    "\n",
    "plot_image(conv(totensor(ImageFormat.torch(X), device='cuda'))[0])"
   ]
  },
  {
   "cell_type": "code",
   "execution_count": 56,
   "id": "16459a21",
   "metadata": {},
   "outputs": [
    {
     "data": {
      "image/png": "[encoded data removed]",
      "text/plain": [
       "<Figure size 432x288 with 1 Axes>"
      ]
     },
     "metadata": {
      "needs_background": "light"
     },
     "output_type": "display_data"
    }
   ],
   "source": [
    "plot_image(conv(totensor(ImageFormat.torch(X_t), device='cuda'))[0])"
   ]
  },
  {
   "cell_type": "code",
   "execution_count": 40,
   "id": "8309bc23",
   "metadata": {},
   "outputs": [
    {
     "data": {
      "text/plain": [
       "tensor(-0.5768, device='cuda:0', grad_fn=<MeanBackward0>)"
      ]
     },
     "execution_count": 40,
     "metadata": {},
     "output_type": "execute_result"
    }
   ],
   "source": [
    "conv(totensor(ImageFormat.torch(X), device='cuda'))[0].mean()"
   ]
  },
  {
   "cell_type": "code",
   "execution_count": 42,
   "id": "279faad6",
   "metadata": {
    "scrolled": false
   },
   "outputs": [
    {
     "data": {
      "text/plain": [
       "tensor([[[[0.0503, 0.0486, 0.0527],\n",
       "          [0.0552, 0.0528, 0.0491],\n",
       "          [0.0585, 0.0572, 0.0583]],\n",
       "\n",
       "         [[0.0642, 0.0747, 0.0709],\n",
       "          [0.0705, 0.0751, 0.0724],\n",
       "          [0.0693, 0.0757, 0.0706]],\n",
       "\n",
       "         [[0.1395, 0.1353, 0.1381],\n",
       "          [0.1451, 0.1465, 0.1431],\n",
       "          [0.1475, 0.1447, 0.1472]]]], device='cuda:0',\n",
       "       grad_fn=<WeightNormCudaInterfaceBackward>)"
      ]
     },
     "execution_count": 42,
     "metadata": {},
     "output_type": "execute_result"
    }
   ],
   "source": [
    "conv.weight"
   ]
  },
  {
   "cell_type": "code",
   "execution_count": 79,
   "id": "615b1a0d",
   "metadata": {},
   "outputs": [],
   "source": [
    "conv = nn.Conv2d(3, 1, 3)\n",
    "conv.weight.data = totensor(np.expand_dims(np.repeat(np.expand_dims(np.array([[1, -1, 1], [-1, 1, -1], [1, -1, 1]]), 0), 3, 0), 0))"
   ]
  },
  {
   "cell_type": "code",
   "execution_count": 83,
   "id": "31a43636",
   "metadata": {},
   "outputs": [
    {
     "data": {
      "image/png": "[encoded data removed]",
      "text/plain": [
       "<Figure size 432x288 with 1 Axes>"
      ]
     },
     "metadata": {
      "needs_background": "light"
     },
     "output_type": "display_data"
    }
   ],
   "source": [
    "plot_image(conv(totensor(ImageFormat.torch(X_t)))[0])"
   ]
  },
  {
   "cell_type": "code",
   "execution_count": 84,
   "id": "9af6e078",
   "metadata": {},
   "outputs": [
    {
     "data": {
      "image/png": "[encoded data removed]",
      "text/plain": [
       "<Figure size 432x288 with 1 Axes>"
      ]
     },
     "metadata": {
      "needs_background": "light"
     },
     "output_type": "display_data"
    }
   ],
   "source": [
    "plot_image(conv(totensor(ImageFormat.torch(X)))[0])."
   ]
  },
  {
   "cell_type": "code",
   "execution_count": 80,
   "id": "a65ea952",
   "metadata": {},
   "outputs": [
    {
     "data": {
      "text/plain": [
       "torch.Size([1, 3, 3, 3])"
      ]
     },
     "execution_count": 80,
     "metadata": {},
     "output_type": "execute_result"
    }
   ],
   "source": [
    "conv.weight.shape"
   ]
  },
  {
   "cell_type": "code",
   "execution_count": 89,
   "id": "885d2369",
   "metadata": {},
   "outputs": [
    {
     "data": {
      "text/plain": [
       "tensor(21.6078, grad_fn=<SubBackward0>)"
      ]
     },
     "execution_count": 89,
     "metadata": {},
     "output_type": "execute_result"
    }
   ],
   "source": [
    "conv(totensor(ImageFormat.torch(X_t))).max() - conv(totensor(ImageFormat.torch(X))).max()"
   ]
  },
  {
   "cell_type": "code",
   "execution_count": 97,
   "id": "4842f2d3",
   "metadata": {},
   "outputs": [],
   "source": [
    "import torch\n",
    "def myrelu(x):\n",
    "    return torch.nn.functional.relu(x - 22)\n",
    "#     return torch.max(0, x - 22)"
   ]
  },
  {
   "cell_type": "code",
   "execution_count": 98,
   "id": "b00fa1cd",
   "metadata": {},
   "outputs": [
    {
     "data": {
      "image/png": "[encoded data removed]",
      "text/plain": [
       "<Figure size 432x288 with 1 Axes>"
      ]
     },
     "metadata": {
      "needs_background": "light"
     },
     "output_type": "display_data"
    }
   ],
   "source": [
    "plot_image(myrelu(conv(totensor(ImageFormat.torch(X_t)))[0]))"
   ]
  },
  {
   "cell_type": "code",
   "execution_count": 99,
   "id": "dc285b9c",
   "metadata": {},
   "outputs": [
    {
     "data": {
      "image/png": "[encoded data removed]",
      "text/plain": [
       "<Figure size 432x288 with 1 Axes>"
      ]
     },
     "metadata": {
      "needs_background": "light"
     },
     "output_type": "display_data"
    }
   ],
   "source": [
    "plot_image(myrelu(conv(totensor(ImageFormat.torch(X)))[0]))"
   ]
  },
  {
   "cell_type": "code",
   "execution_count": 11,
   "id": "d543de34",
   "metadata": {},
   "outputs": [],
   "source": [
    "conv = nn.Conv2d(3, 1, 3)\n",
    "\n",
    "conv = nn.utils.weight_norm(conv)\n",
    "conv.weight_g.requires_grad = False\n",
    "\n",
    "model = nn.Sequential(\n",
    "    conv,\n",
    "    nn.ReLU(),\n",
    "    nn.MaxPool2d(2),\n",
    ")\n",
    "\n",
    "fo = FilterOptimizer(model)"
   ]
  },
  {
   "cell_type": "code",
   "execution_count": 12,
   "id": "ad1e12f2",
   "metadata": {
    "scrolled": false
   },
   "outputs": [
    {
     "name": "stdout",
     "output_type": "stream",
     "text": [
      "tensor(0.0010, device='cuda:0', grad_fn=<MeanBackward0>)\n",
      "tensor(0.0004, device='cuda:0', grad_fn=<MeanBackward0>)\n",
      "tensor(-0.0002, device='cuda:0', grad_fn=<MeanBackward0>)\n",
      "tensor(-0.0009, device='cuda:0', grad_fn=<MeanBackward0>)\n",
      "tensor(-0.0017, device='cuda:0', grad_fn=<MeanBackward0>)\n",
      "tensor(-0.0026, device='cuda:0', grad_fn=<MeanBackward0>)\n",
      "tensor(-0.0035, device='cuda:0', grad_fn=<MeanBackward0>)\n",
      "tensor(-0.0044, device='cuda:0', grad_fn=<MeanBackward0>)\n",
      "tensor(-0.0054, device='cuda:0', grad_fn=<MeanBackward0>)\n",
      "tensor(-0.0064, device='cuda:0', grad_fn=<MeanBackward0>)\n",
      "tensor(-0.0074, device='cuda:0', grad_fn=<MeanBackward0>)\n",
      "tensor(-0.0084, device='cuda:0', grad_fn=<MeanBackward0>)\n",
      "tensor(-0.0095, device='cuda:0', grad_fn=<MeanBackward0>)\n",
      "tensor(-0.0106, device='cuda:0', grad_fn=<MeanBackward0>)\n",
      "tensor(-0.0117, device='cuda:0', grad_fn=<MeanBackward0>)\n",
      "tensor(-0.0128, device='cuda:0', grad_fn=<MeanBackward0>)\n",
      "tensor(-0.0139, device='cuda:0', grad_fn=<MeanBackward0>)\n",
      "tensor(-0.0149, device='cuda:0', grad_fn=<MeanBackward0>)\n",
      "tensor(-0.0160, device='cuda:0', grad_fn=<MeanBackward0>)\n",
      "tensor(-0.0171, device='cuda:0', grad_fn=<MeanBackward0>)\n",
      "tensor(-0.0181, device='cuda:0', grad_fn=<MeanBackward0>)\n",
      "tensor(-0.0191, device='cuda:0', grad_fn=<MeanBackward0>)\n",
      "tensor(-0.0201, device='cuda:0', grad_fn=<MeanBackward0>)\n",
      "tensor(-0.0210, device='cuda:0', grad_fn=<MeanBackward0>)\n",
      "tensor(-0.0219, device='cuda:0', grad_fn=<MeanBackward0>)\n",
      "tensor(-0.0228, device='cuda:0', grad_fn=<MeanBackward0>)\n",
      "tensor(-0.0237, device='cuda:0', grad_fn=<MeanBackward0>)\n",
      "tensor(-0.0245, device='cuda:0', grad_fn=<MeanBackward0>)\n",
      "tensor(-0.0254, device='cuda:0', grad_fn=<MeanBackward0>)\n",
      "tensor(-0.0263, device='cuda:0', grad_fn=<MeanBackward0>)\n",
      "tensor(-0.0272, device='cuda:0', grad_fn=<MeanBackward0>)\n",
      "tensor(-0.0281, device='cuda:0', grad_fn=<MeanBackward0>)\n",
      "tensor(-0.0291, device='cuda:0', grad_fn=<MeanBackward0>)\n",
      "tensor(-0.0300, device='cuda:0', grad_fn=<MeanBackward0>)\n",
      "tensor(-0.0309, device='cuda:0', grad_fn=<MeanBackward0>)\n",
      "tensor(-0.0319, device='cuda:0', grad_fn=<MeanBackward0>)\n",
      "tensor(-0.0328, device='cuda:0', grad_fn=<MeanBackward0>)\n",
      "tensor(-0.0337, device='cuda:0', grad_fn=<MeanBackward0>)\n",
      "tensor(-0.0346, device='cuda:0', grad_fn=<MeanBackward0>)\n",
      "tensor(-0.0355, device='cuda:0', grad_fn=<MeanBackward0>)\n",
      "tensor(-0.0364, device='cuda:0', grad_fn=<MeanBackward0>)\n",
      "tensor(-0.0373, device='cuda:0', grad_fn=<MeanBackward0>)\n",
      "tensor(-0.0381, device='cuda:0', grad_fn=<MeanBackward0>)\n",
      "tensor(-0.0390, device='cuda:0', grad_fn=<MeanBackward0>)\n",
      "tensor(-0.0398, device='cuda:0', grad_fn=<MeanBackward0>)\n",
      "tensor(-0.0405, device='cuda:0', grad_fn=<MeanBackward0>)\n",
      "tensor(-0.0413, device='cuda:0', grad_fn=<MeanBackward0>)\n",
      "tensor(-0.0420, device='cuda:0', grad_fn=<MeanBackward0>)\n",
      "tensor(-0.0428, device='cuda:0', grad_fn=<MeanBackward0>)\n",
      "tensor(-0.0435, device='cuda:0', grad_fn=<MeanBackward0>)\n",
      "tensor(-0.0441, device='cuda:0', grad_fn=<MeanBackward0>)\n",
      "tensor(-0.0448, device='cuda:0', grad_fn=<MeanBackward0>)\n",
      "tensor(-0.0454, device='cuda:0', grad_fn=<MeanBackward0>)\n",
      "tensor(-0.0461, device='cuda:0', grad_fn=<MeanBackward0>)\n",
      "tensor(-0.0467, device='cuda:0', grad_fn=<MeanBackward0>)\n",
      "tensor(-0.0472, device='cuda:0', grad_fn=<MeanBackward0>)\n",
      "tensor(-0.0478, device='cuda:0', grad_fn=<MeanBackward0>)\n",
      "tensor(-0.0484, device='cuda:0', grad_fn=<MeanBackward0>)\n",
      "tensor(-0.0489, device='cuda:0', grad_fn=<MeanBackward0>)\n",
      "tensor(-0.0494, device='cuda:0', grad_fn=<MeanBackward0>)\n",
      "tensor(-0.0499, device='cuda:0', grad_fn=<MeanBackward0>)\n",
      "tensor(-0.0504, device='cuda:0', grad_fn=<MeanBackward0>)\n",
      "tensor(-0.0508, device='cuda:0', grad_fn=<MeanBackward0>)\n",
      "tensor(-0.0513, device='cuda:0', grad_fn=<MeanBackward0>)\n",
      "tensor(-0.0517, device='cuda:0', grad_fn=<MeanBackward0>)\n",
      "tensor(-0.0521, device='cuda:0', grad_fn=<MeanBackward0>)\n",
      "tensor(-0.0525, device='cuda:0', grad_fn=<MeanBackward0>)\n",
      "tensor(-0.0529, device='cuda:0', grad_fn=<MeanBackward0>)\n",
      "tensor(-0.0533, device='cuda:0', grad_fn=<MeanBackward0>)\n",
      "tensor(-0.0537, device='cuda:0', grad_fn=<MeanBackward0>)\n",
      "tensor(-0.0540, device='cuda:0', grad_fn=<MeanBackward0>)\n",
      "tensor(-0.0543, device='cuda:0', grad_fn=<MeanBackward0>)\n",
      "tensor(-0.0547, device='cuda:0', grad_fn=<MeanBackward0>)\n",
      "tensor(-0.0550, device='cuda:0', grad_fn=<MeanBackward0>)\n",
      "tensor(-0.0553, device='cuda:0', grad_fn=<MeanBackward0>)\n",
      "tensor(-0.0556, device='cuda:0', grad_fn=<MeanBackward0>)\n",
      "tensor(-0.0559, device='cuda:0', grad_fn=<MeanBackward0>)\n",
      "tensor(-0.0561, device='cuda:0', grad_fn=<MeanBackward0>)\n",
      "tensor(-0.0564, device='cuda:0', grad_fn=<MeanBackward0>)\n",
      "tensor(-0.0566, device='cuda:0', grad_fn=<MeanBackward0>)\n",
      "tensor(-0.0569, device='cuda:0', grad_fn=<MeanBackward0>)\n",
      "tensor(-0.0571, device='cuda:0', grad_fn=<MeanBackward0>)\n",
      "tensor(-0.0573, device='cuda:0', grad_fn=<MeanBackward0>)\n",
      "tensor(-0.0576, device='cuda:0', grad_fn=<MeanBackward0>)\n",
      "tensor(-0.0578, device='cuda:0', grad_fn=<MeanBackward0>)\n",
      "tensor(-0.0580, device='cuda:0', grad_fn=<MeanBackward0>)\n",
      "tensor(-0.0582, device='cuda:0', grad_fn=<MeanBackward0>)\n",
      "tensor(-0.0583, device='cuda:0', grad_fn=<MeanBackward0>)\n",
      "tensor(-0.0585, device='cuda:0', grad_fn=<MeanBackward0>)\n",
      "tensor(-0.0587, device='cuda:0', grad_fn=<MeanBackward0>)\n",
      "tensor(-0.0588, device='cuda:0', grad_fn=<MeanBackward0>)\n",
      "tensor(-0.0590, device='cuda:0', grad_fn=<MeanBackward0>)\n",
      "tensor(-0.0592, device='cuda:0', grad_fn=<MeanBackward0>)\n",
      "tensor(-0.0593, device='cuda:0', grad_fn=<MeanBackward0>)\n",
      "tensor(-0.0594, device='cuda:0', grad_fn=<MeanBackward0>)\n",
      "tensor(-0.0596, device='cuda:0', grad_fn=<MeanBackward0>)\n",
      "tensor(-0.0597, device='cuda:0', grad_fn=<MeanBackward0>)\n",
      "tensor(-0.0598, device='cuda:0', grad_fn=<MeanBackward0>)\n",
      "tensor(-0.0599, device='cuda:0', grad_fn=<MeanBackward0>)\n",
      "tensor(-0.0601, device='cuda:0', grad_fn=<MeanBackward0>)\n",
      "tensor(-0.0602, device='cuda:0', grad_fn=<MeanBackward0>)\n",
      "tensor(-0.0603, device='cuda:0', grad_fn=<MeanBackward0>)\n",
      "tensor(-0.0604, device='cuda:0', grad_fn=<MeanBackward0>)\n",
      "tensor(-0.0605, device='cuda:0', grad_fn=<MeanBackward0>)\n",
      "tensor(-0.0606, device='cuda:0', grad_fn=<MeanBackward0>)\n",
      "tensor(-0.0606, device='cuda:0', grad_fn=<MeanBackward0>)\n",
      "tensor(-0.0607, device='cuda:0', grad_fn=<MeanBackward0>)\n",
      "tensor(-0.0608, device='cuda:0', grad_fn=<MeanBackward0>)\n",
      "tensor(-0.0609, device='cuda:0', grad_fn=<MeanBackward0>)\n",
      "tensor(-0.0610, device='cuda:0', grad_fn=<MeanBackward0>)\n",
      "tensor(-0.0610, device='cuda:0', grad_fn=<MeanBackward0>)\n",
      "tensor(-0.0611, device='cuda:0', grad_fn=<MeanBackward0>)\n",
      "tensor(-0.0612, device='cuda:0', grad_fn=<MeanBackward0>)\n",
      "tensor(-0.0612, device='cuda:0', grad_fn=<MeanBackward0>)\n",
      "tensor(-0.0613, device='cuda:0', grad_fn=<MeanBackward0>)\n",
      "tensor(-0.0614, device='cuda:0', grad_fn=<MeanBackward0>)\n",
      "tensor(-0.0614, device='cuda:0', grad_fn=<MeanBackward0>)\n",
      "tensor(-0.0615, device='cuda:0', grad_fn=<MeanBackward0>)\n",
      "tensor(-0.0615, device='cuda:0', grad_fn=<MeanBackward0>)\n",
      "tensor(-0.0616, device='cuda:0', grad_fn=<MeanBackward0>)\n",
      "tensor(-0.0616, device='cuda:0', grad_fn=<MeanBackward0>)\n",
      "tensor(-0.0617, device='cuda:0', grad_fn=<MeanBackward0>)\n",
      "tensor(-0.0617, device='cuda:0', grad_fn=<MeanBackward0>)\n",
      "tensor(-0.0618, device='cuda:0', grad_fn=<MeanBackward0>)\n",
      "tensor(-0.0618, device='cuda:0', grad_fn=<MeanBackward0>)\n",
      "tensor(-0.0619, device='cuda:0', grad_fn=<MeanBackward0>)\n",
      "tensor(-0.0619, device='cuda:0', grad_fn=<MeanBackward0>)\n",
      "tensor(-0.0619, device='cuda:0', grad_fn=<MeanBackward0>)\n",
      "tensor(-0.0620, device='cuda:0', grad_fn=<MeanBackward0>)\n",
      "tensor(-0.0620, device='cuda:0', grad_fn=<MeanBackward0>)\n",
      "tensor(-0.0620, device='cuda:0', grad_fn=<MeanBackward0>)\n",
      "tensor(-0.0621, device='cuda:0', grad_fn=<MeanBackward0>)\n",
      "tensor(-0.0621, device='cuda:0', grad_fn=<MeanBackward0>)\n",
      "tensor(-0.0621, device='cuda:0', grad_fn=<MeanBackward0>)\n",
      "tensor(-0.0622, device='cuda:0', grad_fn=<MeanBackward0>)\n",
      "tensor(-0.0622, device='cuda:0', grad_fn=<MeanBackward0>)\n",
      "tensor(-0.0622, device='cuda:0', grad_fn=<MeanBackward0>)\n",
      "tensor(-0.0622, device='cuda:0', grad_fn=<MeanBackward0>)\n",
      "tensor(-0.0623, device='cuda:0', grad_fn=<MeanBackward0>)\n",
      "tensor(-0.0623, device='cuda:0', grad_fn=<MeanBackward0>)\n",
      "tensor(-0.0623, device='cuda:0', grad_fn=<MeanBackward0>)\n",
      "tensor(-0.0623, device='cuda:0', grad_fn=<MeanBackward0>)\n",
      "tensor(-0.0624, device='cuda:0', grad_fn=<MeanBackward0>)\n",
      "tensor(-0.0624, device='cuda:0', grad_fn=<MeanBackward0>)\n",
      "tensor(-0.0624, device='cuda:0', grad_fn=<MeanBackward0>)\n",
      "tensor(-0.0624, device='cuda:0', grad_fn=<MeanBackward0>)\n",
      "tensor(-0.0624, device='cuda:0', grad_fn=<MeanBackward0>)\n",
      "tensor(-0.0625, device='cuda:0', grad_fn=<MeanBackward0>)\n",
      "tensor(-0.0625, device='cuda:0', grad_fn=<MeanBackward0>)\n",
      "tensor(-0.0625, device='cuda:0', grad_fn=<MeanBackward0>)\n",
      "tensor(-0.0625, device='cuda:0', grad_fn=<MeanBackward0>)\n",
      "tensor(-0.0625, device='cuda:0', grad_fn=<MeanBackward0>)\n",
      "tensor(-0.0625, device='cuda:0', grad_fn=<MeanBackward0>)\n",
      "tensor(-0.0626, device='cuda:0', grad_fn=<MeanBackward0>)\n",
      "tensor(-0.0626, device='cuda:0', grad_fn=<MeanBackward0>)\n",
      "tensor(-0.0626, device='cuda:0', grad_fn=<MeanBackward0>)\n",
      "tensor(-0.0626, device='cuda:0', grad_fn=<MeanBackward0>)\n",
      "tensor(-0.0626, device='cuda:0', grad_fn=<MeanBackward0>)\n",
      "tensor(-0.0626, device='cuda:0', grad_fn=<MeanBackward0>)\n",
      "tensor(-0.0626, device='cuda:0', grad_fn=<MeanBackward0>)\n",
      "tensor(-0.0626, device='cuda:0', grad_fn=<MeanBackward0>)\n",
      "tensor(-0.0626, device='cuda:0', grad_fn=<MeanBackward0>)\n",
      "tensor(-0.0627, device='cuda:0', grad_fn=<MeanBackward0>)\n",
      "tensor(-0.0627, device='cuda:0', grad_fn=<MeanBackward0>)\n",
      "tensor(-0.0627, device='cuda:0', grad_fn=<MeanBackward0>)\n",
      "tensor(-0.0627, device='cuda:0', grad_fn=<MeanBackward0>)\n",
      "tensor(-0.0627, device='cuda:0', grad_fn=<MeanBackward0>)\n",
      "tensor(-0.0627, device='cuda:0', grad_fn=<MeanBackward0>)\n",
      "tensor(-0.0627, device='cuda:0', grad_fn=<MeanBackward0>)\n",
      "tensor(-0.0627, device='cuda:0', grad_fn=<MeanBackward0>)\n",
      "tensor(-0.0627, device='cuda:0', grad_fn=<MeanBackward0>)\n",
      "tensor(-0.0627, device='cuda:0', grad_fn=<MeanBackward0>)\n",
      "tensor(-0.0627, device='cuda:0', grad_fn=<MeanBackward0>)\n",
      "tensor(-0.0628, device='cuda:0', grad_fn=<MeanBackward0>)\n",
      "tensor(-0.0628, device='cuda:0', grad_fn=<MeanBackward0>)\n",
      "tensor(-0.0628, device='cuda:0', grad_fn=<MeanBackward0>)\n",
      "tensor(-0.0628, device='cuda:0', grad_fn=<MeanBackward0>)\n",
      "tensor(-0.0628, device='cuda:0', grad_fn=<MeanBackward0>)\n",
      "tensor(-0.0628, device='cuda:0', grad_fn=<MeanBackward0>)\n",
      "tensor(-0.0628, device='cuda:0', grad_fn=<MeanBackward0>)\n",
      "tensor(-0.0628, device='cuda:0', grad_fn=<MeanBackward0>)\n",
      "tensor(-0.0628, device='cuda:0', grad_fn=<MeanBackward0>)\n",
      "tensor(-0.0628, device='cuda:0', grad_fn=<MeanBackward0>)\n",
      "tensor(-0.0628, device='cuda:0', grad_fn=<MeanBackward0>)\n",
      "tensor(-0.0628, device='cuda:0', grad_fn=<MeanBackward0>)\n",
      "tensor(-0.0628, device='cuda:0', grad_fn=<MeanBackward0>)\n",
      "tensor(-0.0628, device='cuda:0', grad_fn=<MeanBackward0>)\n",
      "tensor(-0.0628, device='cuda:0', grad_fn=<MeanBackward0>)\n",
      "tensor(-0.0628, device='cuda:0', grad_fn=<MeanBackward0>)\n",
      "tensor(-0.0628, device='cuda:0', grad_fn=<MeanBackward0>)\n",
      "tensor(-0.0628, device='cuda:0', grad_fn=<MeanBackward0>)\n",
      "tensor(-0.0629, device='cuda:0', grad_fn=<MeanBackward0>)\n",
      "tensor(-0.0629, device='cuda:0', grad_fn=<MeanBackward0>)\n",
      "tensor(-0.0629, device='cuda:0', grad_fn=<MeanBackward0>)\n",
      "tensor(-0.0629, device='cuda:0', grad_fn=<MeanBackward0>)\n",
      "tensor(-0.0629, device='cuda:0', grad_fn=<MeanBackward0>)\n",
      "tensor(-0.0629, device='cuda:0', grad_fn=<MeanBackward0>)\n",
      "tensor(-0.0629, device='cuda:0', grad_fn=<MeanBackward0>)\n",
      "tensor(-0.0629, device='cuda:0', grad_fn=<MeanBackward0>)\n",
      "tensor(-0.0629, device='cuda:0', grad_fn=<MeanBackward0>)\n",
      "tensor(-0.0629, device='cuda:0', grad_fn=<MeanBackward0>)\n",
      "tensor(-0.0629, device='cuda:0', grad_fn=<MeanBackward0>)\n",
      "tensor(-0.0629, device='cuda:0', grad_fn=<MeanBackward0>)\n",
      "tensor(-0.0629, device='cuda:0', grad_fn=<MeanBackward0>)\n",
      "tensor(-0.0629, device='cuda:0', grad_fn=<MeanBackward0>)\n",
      "tensor(-0.0629, device='cuda:0', grad_fn=<MeanBackward0>)\n",
      "tensor(-0.0629, device='cuda:0', grad_fn=<MeanBackward0>)\n",
      "tensor(-0.0629, device='cuda:0', grad_fn=<MeanBackward0>)\n",
      "tensor(-0.0629, device='cuda:0', grad_fn=<MeanBackward0>)\n",
      "tensor(-0.0629, device='cuda:0', grad_fn=<MeanBackward0>)\n",
      "tensor(-0.0629, device='cuda:0', grad_fn=<MeanBackward0>)\n",
      "tensor(-0.0629, device='cuda:0', grad_fn=<MeanBackward0>)\n",
      "tensor(-0.0629, device='cuda:0', grad_fn=<MeanBackward0>)\n",
      "tensor(-0.0629, device='cuda:0', grad_fn=<MeanBackward0>)\n",
      "tensor(-0.0629, device='cuda:0', grad_fn=<MeanBackward0>)\n",
      "tensor(-0.0629, device='cuda:0', grad_fn=<MeanBackward0>)\n",
      "tensor(-0.0629, device='cuda:0', grad_fn=<MeanBackward0>)\n",
      "tensor(-0.0629, device='cuda:0', grad_fn=<MeanBackward0>)\n",
      "tensor(-0.0629, device='cuda:0', grad_fn=<MeanBackward0>)\n",
      "tensor(-0.0629, device='cuda:0', grad_fn=<MeanBackward0>)\n",
      "tensor(-0.0629, device='cuda:0', grad_fn=<MeanBackward0>)\n",
      "tensor(-0.0629, device='cuda:0', grad_fn=<MeanBackward0>)\n",
      "tensor(-0.0629, device='cuda:0', grad_fn=<MeanBackward0>)\n",
      "tensor(-0.0629, device='cuda:0', grad_fn=<MeanBackward0>)\n",
      "tensor(-0.0630, device='cuda:0', grad_fn=<MeanBackward0>)\n",
      "tensor(-0.0630, device='cuda:0', grad_fn=<MeanBackward0>)\n",
      "tensor(-0.0630, device='cuda:0', grad_fn=<MeanBackward0>)\n",
      "tensor(-0.0630, device='cuda:0', grad_fn=<MeanBackward0>)\n",
      "tensor(-0.0630, device='cuda:0', grad_fn=<MeanBackward0>)\n",
      "tensor(-0.0630, device='cuda:0', grad_fn=<MeanBackward0>)\n",
      "tensor(-0.0630, device='cuda:0', grad_fn=<MeanBackward0>)\n",
      "tensor(-0.0630, device='cuda:0', grad_fn=<MeanBackward0>)\n",
      "tensor(-0.0630, device='cuda:0', grad_fn=<MeanBackward0>)\n",
      "tensor(-0.0630, device='cuda:0', grad_fn=<MeanBackward0>)\n",
      "tensor(-0.0630, device='cuda:0', grad_fn=<MeanBackward0>)\n",
      "tensor(-0.0630, device='cuda:0', grad_fn=<MeanBackward0>)\n",
      "tensor(-0.0630, device='cuda:0', grad_fn=<MeanBackward0>)\n",
      "tensor(-0.0630, device='cuda:0', grad_fn=<MeanBackward0>)\n",
      "tensor(-0.0630, device='cuda:0', grad_fn=<MeanBackward0>)\n",
      "tensor(-0.0630, device='cuda:0', grad_fn=<MeanBackward0>)\n",
      "tensor(-0.0630, device='cuda:0', grad_fn=<MeanBackward0>)\n",
      "tensor(-0.0630, device='cuda:0', grad_fn=<MeanBackward0>)\n",
      "tensor(-0.0630, device='cuda:0', grad_fn=<MeanBackward0>)\n",
      "tensor(-0.0630, device='cuda:0', grad_fn=<MeanBackward0>)\n",
      "tensor(-0.0630, device='cuda:0', grad_fn=<MeanBackward0>)\n",
      "tensor(-0.0630, device='cuda:0', grad_fn=<MeanBackward0>)\n",
      "tensor(-0.0630, device='cuda:0', grad_fn=<MeanBackward0>)\n",
      "tensor(-0.0630, device='cuda:0', grad_fn=<MeanBackward0>)\n",
      "tensor(-0.0630, device='cuda:0', grad_fn=<MeanBackward0>)\n",
      "tensor(-0.0630, device='cuda:0', grad_fn=<MeanBackward0>)\n",
      "tensor(-0.0630, device='cuda:0', grad_fn=<MeanBackward0>)\n",
      "tensor(-0.0630, device='cuda:0', grad_fn=<MeanBackward0>)\n",
      "tensor(-0.0630, device='cuda:0', grad_fn=<MeanBackward0>)\n"
     ]
    },
    {
     "name": "stdout",
     "output_type": "stream",
     "text": [
      "tensor(-0.0630, device='cuda:0', grad_fn=<MeanBackward0>)\n",
      "tensor(-0.0630, device='cuda:0', grad_fn=<MeanBackward0>)\n",
      "tensor(-0.0630, device='cuda:0', grad_fn=<MeanBackward0>)\n",
      "tensor(-0.0630, device='cuda:0', grad_fn=<MeanBackward0>)\n",
      "tensor(-0.0630, device='cuda:0', grad_fn=<MeanBackward0>)\n",
      "tensor(-0.0630, device='cuda:0', grad_fn=<MeanBackward0>)\n",
      "tensor(-0.0630, device='cuda:0', grad_fn=<MeanBackward0>)\n",
      "tensor(-0.0630, device='cuda:0', grad_fn=<MeanBackward0>)\n",
      "tensor(-0.0630, device='cuda:0', grad_fn=<MeanBackward0>)\n",
      "tensor(-0.0630, device='cuda:0', grad_fn=<MeanBackward0>)\n",
      "tensor(-0.0630, device='cuda:0', grad_fn=<MeanBackward0>)\n",
      "tensor(-0.0630, device='cuda:0', grad_fn=<MeanBackward0>)\n",
      "tensor(-0.0630, device='cuda:0', grad_fn=<MeanBackward0>)\n",
      "tensor(-0.0630, device='cuda:0', grad_fn=<MeanBackward0>)\n",
      "tensor(-0.0630, device='cuda:0', grad_fn=<MeanBackward0>)\n",
      "tensor(-0.0630, device='cuda:0', grad_fn=<MeanBackward0>)\n",
      "tensor(-0.0630, device='cuda:0', grad_fn=<MeanBackward0>)\n",
      "tensor(-0.0630, device='cuda:0', grad_fn=<MeanBackward0>)\n",
      "tensor(-0.0630, device='cuda:0', grad_fn=<MeanBackward0>)\n",
      "tensor(-0.0630, device='cuda:0', grad_fn=<MeanBackward0>)\n",
      "tensor(-0.0630, device='cuda:0', grad_fn=<MeanBackward0>)\n",
      "tensor(-0.0630, device='cuda:0', grad_fn=<MeanBackward0>)\n",
      "tensor(-0.0630, device='cuda:0', grad_fn=<MeanBackward0>)\n",
      "tensor(-0.0630, device='cuda:0', grad_fn=<MeanBackward0>)\n",
      "tensor(-0.0630, device='cuda:0', grad_fn=<MeanBackward0>)\n",
      "tensor(-0.0630, device='cuda:0', grad_fn=<MeanBackward0>)\n",
      "tensor(-0.0630, device='cuda:0', grad_fn=<MeanBackward0>)\n",
      "tensor(-0.0630, device='cuda:0', grad_fn=<MeanBackward0>)\n",
      "tensor(-0.0630, device='cuda:0', grad_fn=<MeanBackward0>)\n",
      "tensor(-0.0630, device='cuda:0', grad_fn=<MeanBackward0>)\n",
      "tensor(-0.0630, device='cuda:0', grad_fn=<MeanBackward0>)\n",
      "tensor(-0.0630, device='cuda:0', grad_fn=<MeanBackward0>)\n",
      "tensor(-0.0631, device='cuda:0', grad_fn=<MeanBackward0>)\n",
      "tensor(-0.0631, device='cuda:0', grad_fn=<MeanBackward0>)\n",
      "tensor(-0.0631, device='cuda:0', grad_fn=<MeanBackward0>)\n",
      "tensor(-0.0631, device='cuda:0', grad_fn=<MeanBackward0>)\n",
      "tensor(-0.0631, device='cuda:0', grad_fn=<MeanBackward0>)\n",
      "tensor(-0.0631, device='cuda:0', grad_fn=<MeanBackward0>)\n",
      "tensor(-0.0631, device='cuda:0', grad_fn=<MeanBackward0>)\n",
      "tensor(-0.0631, device='cuda:0', grad_fn=<MeanBackward0>)\n",
      "tensor(-0.0631, device='cuda:0', grad_fn=<MeanBackward0>)\n",
      "tensor(-0.0631, device='cuda:0', grad_fn=<MeanBackward0>)\n",
      "tensor(-0.0631, device='cuda:0', grad_fn=<MeanBackward0>)\n",
      "tensor(-0.0631, device='cuda:0', grad_fn=<MeanBackward0>)\n",
      "tensor(-0.0631, device='cuda:0', grad_fn=<MeanBackward0>)\n",
      "tensor(-0.0631, device='cuda:0', grad_fn=<MeanBackward0>)\n",
      "tensor(-0.0631, device='cuda:0', grad_fn=<MeanBackward0>)\n",
      "tensor(-0.0631, device='cuda:0', grad_fn=<MeanBackward0>)\n",
      "tensor(-0.0631, device='cuda:0', grad_fn=<MeanBackward0>)\n",
      "tensor(-0.0631, device='cuda:0', grad_fn=<MeanBackward0>)\n",
      "tensor(-0.0631, device='cuda:0', grad_fn=<MeanBackward0>)\n",
      "tensor(-0.0631, device='cuda:0', grad_fn=<MeanBackward0>)\n",
      "tensor(-0.0631, device='cuda:0', grad_fn=<MeanBackward0>)\n",
      "tensor(-0.0631, device='cuda:0', grad_fn=<MeanBackward0>)\n",
      "tensor(-0.0631, device='cuda:0', grad_fn=<MeanBackward0>)\n",
      "tensor(-0.0631, device='cuda:0', grad_fn=<MeanBackward0>)\n",
      "tensor(-0.0631, device='cuda:0', grad_fn=<MeanBackward0>)\n",
      "tensor(-0.0631, device='cuda:0', grad_fn=<MeanBackward0>)\n",
      "tensor(-0.0631, device='cuda:0', grad_fn=<MeanBackward0>)\n",
      "tensor(-0.0631, device='cuda:0', grad_fn=<MeanBackward0>)\n",
      "tensor(-0.0631, device='cuda:0', grad_fn=<MeanBackward0>)\n",
      "tensor(-0.0631, device='cuda:0', grad_fn=<MeanBackward0>)\n",
      "tensor(-0.0631, device='cuda:0', grad_fn=<MeanBackward0>)\n",
      "tensor(-0.0631, device='cuda:0', grad_fn=<MeanBackward0>)\n",
      "tensor(-0.0631, device='cuda:0', grad_fn=<MeanBackward0>)\n",
      "tensor(-0.0631, device='cuda:0', grad_fn=<MeanBackward0>)\n",
      "tensor(-0.0631, device='cuda:0', grad_fn=<MeanBackward0>)\n",
      "tensor(-0.0631, device='cuda:0', grad_fn=<MeanBackward0>)\n",
      "tensor(-0.0631, device='cuda:0', grad_fn=<MeanBackward0>)\n",
      "tensor(-0.0631, device='cuda:0', grad_fn=<MeanBackward0>)\n",
      "tensor(-0.0631, device='cuda:0', grad_fn=<MeanBackward0>)\n",
      "tensor(-0.0631, device='cuda:0', grad_fn=<MeanBackward0>)\n",
      "tensor(-0.0631, device='cuda:0', grad_fn=<MeanBackward0>)\n",
      "tensor(-0.0631, device='cuda:0', grad_fn=<MeanBackward0>)\n",
      "tensor(-0.0631, device='cuda:0', grad_fn=<MeanBackward0>)\n",
      "tensor(-0.0631, device='cuda:0', grad_fn=<MeanBackward0>)\n",
      "tensor(-0.0631, device='cuda:0', grad_fn=<MeanBackward0>)\n",
      "tensor(-0.0631, device='cuda:0', grad_fn=<MeanBackward0>)\n",
      "tensor(-0.0631, device='cuda:0', grad_fn=<MeanBackward0>)\n",
      "tensor(-0.0631, device='cuda:0', grad_fn=<MeanBackward0>)\n",
      "tensor(-0.0631, device='cuda:0', grad_fn=<MeanBackward0>)\n",
      "tensor(-0.0631, device='cuda:0', grad_fn=<MeanBackward0>)\n",
      "tensor(-0.0631, device='cuda:0', grad_fn=<MeanBackward0>)\n",
      "tensor(-0.0631, device='cuda:0', grad_fn=<MeanBackward0>)\n",
      "tensor(-0.0631, device='cuda:0', grad_fn=<MeanBackward0>)\n",
      "tensor(-0.0631, device='cuda:0', grad_fn=<MeanBackward0>)\n",
      "tensor(-0.0631, device='cuda:0', grad_fn=<MeanBackward0>)\n",
      "tensor(-0.0631, device='cuda:0', grad_fn=<MeanBackward0>)\n",
      "tensor(-0.0631, device='cuda:0', grad_fn=<MeanBackward0>)\n",
      "tensor(-0.0631, device='cuda:0', grad_fn=<MeanBackward0>)\n",
      "tensor(-0.0631, device='cuda:0', grad_fn=<MeanBackward0>)\n",
      "tensor(-0.0631, device='cuda:0', grad_fn=<MeanBackward0>)\n",
      "tensor(-0.0631, device='cuda:0', grad_fn=<MeanBackward0>)\n",
      "tensor(-0.0631, device='cuda:0', grad_fn=<MeanBackward0>)\n",
      "tensor(-0.0631, device='cuda:0', grad_fn=<MeanBackward0>)\n",
      "tensor(-0.0631, device='cuda:0', grad_fn=<MeanBackward0>)\n",
      "tensor(-0.0631, device='cuda:0', grad_fn=<MeanBackward0>)\n",
      "tensor(-0.0631, device='cuda:0', grad_fn=<MeanBackward0>)\n",
      "tensor(-0.0631, device='cuda:0', grad_fn=<MeanBackward0>)\n",
      "tensor(-0.0631, device='cuda:0', grad_fn=<MeanBackward0>)\n",
      "tensor(-0.0631, device='cuda:0', grad_fn=<MeanBackward0>)\n",
      "tensor(-0.0631, device='cuda:0', grad_fn=<MeanBackward0>)\n",
      "tensor(-0.0631, device='cuda:0', grad_fn=<MeanBackward0>)\n",
      "tensor(-0.0631, device='cuda:0', grad_fn=<MeanBackward0>)\n",
      "tensor(-0.0631, device='cuda:0', grad_fn=<MeanBackward0>)\n",
      "tensor(-0.0631, device='cuda:0', grad_fn=<MeanBackward0>)\n",
      "tensor(-0.0631, device='cuda:0', grad_fn=<MeanBackward0>)\n",
      "tensor(-0.0631, device='cuda:0', grad_fn=<MeanBackward0>)\n",
      "tensor(-0.0631, device='cuda:0', grad_fn=<MeanBackward0>)\n",
      "tensor(-0.0631, device='cuda:0', grad_fn=<MeanBackward0>)\n",
      "tensor(-0.0631, device='cuda:0', grad_fn=<MeanBackward0>)\n",
      "tensor(-0.0631, device='cuda:0', grad_fn=<MeanBackward0>)\n",
      "tensor(-0.0631, device='cuda:0', grad_fn=<MeanBackward0>)\n",
      "tensor(-0.0631, device='cuda:0', grad_fn=<MeanBackward0>)\n",
      "tensor(-0.0631, device='cuda:0', grad_fn=<MeanBackward0>)\n",
      "tensor(-0.0631, device='cuda:0', grad_fn=<MeanBackward0>)\n",
      "tensor(-0.0631, device='cuda:0', grad_fn=<MeanBackward0>)\n",
      "tensor(-0.0631, device='cuda:0', grad_fn=<MeanBackward0>)\n",
      "tensor(-0.0631, device='cuda:0', grad_fn=<MeanBackward0>)\n",
      "tensor(-0.0631, device='cuda:0', grad_fn=<MeanBackward0>)\n",
      "tensor(-0.0631, device='cuda:0', grad_fn=<MeanBackward0>)\n",
      "tensor(-0.0632, device='cuda:0', grad_fn=<MeanBackward0>)\n",
      "tensor(-0.0632, device='cuda:0', grad_fn=<MeanBackward0>)\n",
      "tensor(-0.0632, device='cuda:0', grad_fn=<MeanBackward0>)\n",
      "tensor(-0.0632, device='cuda:0', grad_fn=<MeanBackward0>)\n",
      "tensor(-0.0632, device='cuda:0', grad_fn=<MeanBackward0>)\n",
      "tensor(-0.0632, device='cuda:0', grad_fn=<MeanBackward0>)\n",
      "tensor(-0.0632, device='cuda:0', grad_fn=<MeanBackward0>)\n",
      "tensor(-0.0632, device='cuda:0', grad_fn=<MeanBackward0>)\n",
      "tensor(-0.0632, device='cuda:0', grad_fn=<MeanBackward0>)\n",
      "tensor(-0.0632, device='cuda:0', grad_fn=<MeanBackward0>)\n",
      "tensor(-0.0632, device='cuda:0', grad_fn=<MeanBackward0>)\n",
      "tensor(-0.0632, device='cuda:0', grad_fn=<MeanBackward0>)\n",
      "tensor(-0.0632, device='cuda:0', grad_fn=<MeanBackward0>)\n",
      "tensor(-0.0632, device='cuda:0', grad_fn=<MeanBackward0>)\n",
      "tensor(-0.0632, device='cuda:0', grad_fn=<MeanBackward0>)\n",
      "tensor(-0.0632, device='cuda:0', grad_fn=<MeanBackward0>)\n",
      "tensor(-0.0632, device='cuda:0', grad_fn=<MeanBackward0>)\n",
      "tensor(-0.0632, device='cuda:0', grad_fn=<MeanBackward0>)\n",
      "tensor(-0.0632, device='cuda:0', grad_fn=<MeanBackward0>)\n",
      "tensor(-0.0632, device='cuda:0', grad_fn=<MeanBackward0>)\n",
      "tensor(-0.0632, device='cuda:0', grad_fn=<MeanBackward0>)\n",
      "tensor(-0.0632, device='cuda:0', grad_fn=<MeanBackward0>)\n",
      "tensor(-0.0632, device='cuda:0', grad_fn=<MeanBackward0>)\n",
      "tensor(-0.0632, device='cuda:0', grad_fn=<MeanBackward0>)\n",
      "tensor(-0.0632, device='cuda:0', grad_fn=<MeanBackward0>)\n",
      "tensor(-0.0632, device='cuda:0', grad_fn=<MeanBackward0>)\n",
      "tensor(-0.0632, device='cuda:0', grad_fn=<MeanBackward0>)\n",
      "tensor(-0.0632, device='cuda:0', grad_fn=<MeanBackward0>)\n",
      "tensor(-0.0632, device='cuda:0', grad_fn=<MeanBackward0>)\n",
      "tensor(-0.0632, device='cuda:0', grad_fn=<MeanBackward0>)\n",
      "tensor(-0.0632, device='cuda:0', grad_fn=<MeanBackward0>)\n",
      "tensor(-0.0632, device='cuda:0', grad_fn=<MeanBackward0>)\n",
      "tensor(-0.0632, device='cuda:0', grad_fn=<MeanBackward0>)\n",
      "tensor(-0.0632, device='cuda:0', grad_fn=<MeanBackward0>)\n",
      "tensor(-0.0632, device='cuda:0', grad_fn=<MeanBackward0>)\n",
      "tensor(-0.0632, device='cuda:0', grad_fn=<MeanBackward0>)\n",
      "tensor(-0.0632, device='cuda:0', grad_fn=<MeanBackward0>)\n",
      "tensor(-0.0632, device='cuda:0', grad_fn=<MeanBackward0>)\n",
      "tensor(-0.0632, device='cuda:0', grad_fn=<MeanBackward0>)\n",
      "tensor(-0.0632, device='cuda:0', grad_fn=<MeanBackward0>)\n",
      "tensor(-0.0632, device='cuda:0', grad_fn=<MeanBackward0>)\n",
      "tensor(-0.0632, device='cuda:0', grad_fn=<MeanBackward0>)\n",
      "tensor(-0.0632, device='cuda:0', grad_fn=<MeanBackward0>)\n",
      "tensor(-0.0632, device='cuda:0', grad_fn=<MeanBackward0>)\n",
      "tensor(-0.0632, device='cuda:0', grad_fn=<MeanBackward0>)\n",
      "tensor(-0.0632, device='cuda:0', grad_fn=<MeanBackward0>)\n",
      "tensor(-0.0632, device='cuda:0', grad_fn=<MeanBackward0>)\n",
      "tensor(-0.0632, device='cuda:0', grad_fn=<MeanBackward0>)\n",
      "tensor(-0.0632, device='cuda:0', grad_fn=<MeanBackward0>)\n",
      "tensor(-0.0632, device='cuda:0', grad_fn=<MeanBackward0>)\n",
      "tensor(-0.0632, device='cuda:0', grad_fn=<MeanBackward0>)\n",
      "tensor(-0.0632, device='cuda:0', grad_fn=<MeanBackward0>)\n",
      "tensor(-0.0632, device='cuda:0', grad_fn=<MeanBackward0>)\n",
      "tensor(-0.0632, device='cuda:0', grad_fn=<MeanBackward0>)\n",
      "tensor(-0.0632, device='cuda:0', grad_fn=<MeanBackward0>)\n",
      "tensor(-0.0632, device='cuda:0', grad_fn=<MeanBackward0>)\n",
      "tensor(-0.0632, device='cuda:0', grad_fn=<MeanBackward0>)\n",
      "tensor(-0.0632, device='cuda:0', grad_fn=<MeanBackward0>)\n",
      "tensor(-0.0632, device='cuda:0', grad_fn=<MeanBackward0>)\n",
      "tensor(-0.0632, device='cuda:0', grad_fn=<MeanBackward0>)\n",
      "tensor(-0.0632, device='cuda:0', grad_fn=<MeanBackward0>)\n",
      "tensor(-0.0632, device='cuda:0', grad_fn=<MeanBackward0>)\n",
      "tensor(-0.0632, device='cuda:0', grad_fn=<MeanBackward0>)\n",
      "tensor(-0.0632, device='cuda:0', grad_fn=<MeanBackward0>)\n",
      "tensor(-0.0632, device='cuda:0', grad_fn=<MeanBackward0>)\n",
      "tensor(-0.0632, device='cuda:0', grad_fn=<MeanBackward0>)\n",
      "tensor(-0.0632, device='cuda:0', grad_fn=<MeanBackward0>)\n",
      "tensor(-0.0632, device='cuda:0', grad_fn=<MeanBackward0>)\n",
      "tensor(-0.0632, device='cuda:0', grad_fn=<MeanBackward0>)\n",
      "tensor(-0.0632, device='cuda:0', grad_fn=<MeanBackward0>)\n",
      "tensor(-0.0632, device='cuda:0', grad_fn=<MeanBackward0>)\n",
      "tensor(-0.0632, device='cuda:0', grad_fn=<MeanBackward0>)\n",
      "tensor(-0.0632, device='cuda:0', grad_fn=<MeanBackward0>)\n",
      "tensor(-0.0632, device='cuda:0', grad_fn=<MeanBackward0>)\n",
      "tensor(-0.0632, device='cuda:0', grad_fn=<MeanBackward0>)\n",
      "tensor(-0.0632, device='cuda:0', grad_fn=<MeanBackward0>)\n",
      "tensor(-0.0632, device='cuda:0', grad_fn=<MeanBackward0>)\n",
      "tensor(-0.0632, device='cuda:0', grad_fn=<MeanBackward0>)\n",
      "tensor(-0.0632, device='cuda:0', grad_fn=<MeanBackward0>)\n",
      "tensor(-0.0632, device='cuda:0', grad_fn=<MeanBackward0>)\n",
      "tensor(-0.0632, device='cuda:0', grad_fn=<MeanBackward0>)\n",
      "tensor(-0.0632, device='cuda:0', grad_fn=<MeanBackward0>)\n",
      "tensor(-0.0632, device='cuda:0', grad_fn=<MeanBackward0>)\n"
     ]
    },
    {
     "name": "stdout",
     "output_type": "stream",
     "text": [
      "tensor(-0.0632, device='cuda:0', grad_fn=<MeanBackward0>)\n",
      "tensor(-0.0632, device='cuda:0', grad_fn=<MeanBackward0>)\n",
      "tensor(-0.0632, device='cuda:0', grad_fn=<MeanBackward0>)\n",
      "tensor(-0.0632, device='cuda:0', grad_fn=<MeanBackward0>)\n",
      "tensor(-0.0632, device='cuda:0', grad_fn=<MeanBackward0>)\n",
      "tensor(-0.0632, device='cuda:0', grad_fn=<MeanBackward0>)\n",
      "tensor(-0.0632, device='cuda:0', grad_fn=<MeanBackward0>)\n",
      "tensor(-0.0632, device='cuda:0', grad_fn=<MeanBackward0>)\n",
      "tensor(-0.0632, device='cuda:0', grad_fn=<MeanBackward0>)\n",
      "tensor(-0.0632, device='cuda:0', grad_fn=<MeanBackward0>)\n",
      "tensor(-0.0632, device='cuda:0', grad_fn=<MeanBackward0>)\n",
      "tensor(-0.0632, device='cuda:0', grad_fn=<MeanBackward0>)\n",
      "tensor(-0.0632, device='cuda:0', grad_fn=<MeanBackward0>)\n",
      "tensor(-0.0632, device='cuda:0', grad_fn=<MeanBackward0>)\n",
      "tensor(-0.0632, device='cuda:0', grad_fn=<MeanBackward0>)\n",
      "tensor(-0.0632, device='cuda:0', grad_fn=<MeanBackward0>)\n",
      "tensor(-0.0632, device='cuda:0', grad_fn=<MeanBackward0>)\n",
      "tensor(-0.0632, device='cuda:0', grad_fn=<MeanBackward0>)\n",
      "tensor(-0.0632, device='cuda:0', grad_fn=<MeanBackward0>)\n",
      "tensor(-0.0632, device='cuda:0', grad_fn=<MeanBackward0>)\n",
      "tensor(-0.0632, device='cuda:0', grad_fn=<MeanBackward0>)\n",
      "tensor(-0.0632, device='cuda:0', grad_fn=<MeanBackward0>)\n",
      "tensor(-0.0632, device='cuda:0', grad_fn=<MeanBackward0>)\n",
      "tensor(-0.0632, device='cuda:0', grad_fn=<MeanBackward0>)\n",
      "tensor(-0.0632, device='cuda:0', grad_fn=<MeanBackward0>)\n",
      "tensor(-0.0632, device='cuda:0', grad_fn=<MeanBackward0>)\n",
      "tensor(-0.0632, device='cuda:0', grad_fn=<MeanBackward0>)\n",
      "tensor(-0.0632, device='cuda:0', grad_fn=<MeanBackward0>)\n",
      "tensor(-0.0632, device='cuda:0', grad_fn=<MeanBackward0>)\n",
      "tensor(-0.0632, device='cuda:0', grad_fn=<MeanBackward0>)\n",
      "tensor(-0.0632, device='cuda:0', grad_fn=<MeanBackward0>)\n",
      "tensor(-0.0632, device='cuda:0', grad_fn=<MeanBackward0>)\n",
      "tensor(-0.0632, device='cuda:0', grad_fn=<MeanBackward0>)\n",
      "tensor(-0.0632, device='cuda:0', grad_fn=<MeanBackward0>)\n",
      "tensor(-0.0632, device='cuda:0', grad_fn=<MeanBackward0>)\n",
      "tensor(-0.0633, device='cuda:0', grad_fn=<MeanBackward0>)\n",
      "tensor(-0.0633, device='cuda:0', grad_fn=<MeanBackward0>)\n",
      "tensor(-0.0633, device='cuda:0', grad_fn=<MeanBackward0>)\n",
      "tensor(-0.0633, device='cuda:0', grad_fn=<MeanBackward0>)\n",
      "tensor(-0.0633, device='cuda:0', grad_fn=<MeanBackward0>)\n",
      "tensor(-0.0633, device='cuda:0', grad_fn=<MeanBackward0>)\n",
      "tensor(-0.0633, device='cuda:0', grad_fn=<MeanBackward0>)\n",
      "tensor(-0.0633, device='cuda:0', grad_fn=<MeanBackward0>)\n",
      "tensor(-0.0633, device='cuda:0', grad_fn=<MeanBackward0>)\n",
      "tensor(-0.0633, device='cuda:0', grad_fn=<MeanBackward0>)\n",
      "tensor(-0.0633, device='cuda:0', grad_fn=<MeanBackward0>)\n",
      "tensor(-0.0633, device='cuda:0', grad_fn=<MeanBackward0>)\n",
      "tensor(-0.0633, device='cuda:0', grad_fn=<MeanBackward0>)\n",
      "tensor(-0.0633, device='cuda:0', grad_fn=<MeanBackward0>)\n",
      "tensor(-0.0633, device='cuda:0', grad_fn=<MeanBackward0>)\n",
      "tensor(-0.0633, device='cuda:0', grad_fn=<MeanBackward0>)\n",
      "tensor(-0.0633, device='cuda:0', grad_fn=<MeanBackward0>)\n",
      "tensor(-0.0633, device='cuda:0', grad_fn=<MeanBackward0>)\n",
      "tensor(-0.0633, device='cuda:0', grad_fn=<MeanBackward0>)\n",
      "tensor(-0.0633, device='cuda:0', grad_fn=<MeanBackward0>)\n",
      "tensor(-0.0633, device='cuda:0', grad_fn=<MeanBackward0>)\n",
      "tensor(-0.0633, device='cuda:0', grad_fn=<MeanBackward0>)\n",
      "tensor(-0.0633, device='cuda:0', grad_fn=<MeanBackward0>)\n",
      "tensor(-0.0633, device='cuda:0', grad_fn=<MeanBackward0>)\n",
      "tensor(-0.0633, device='cuda:0', grad_fn=<MeanBackward0>)\n",
      "tensor(-0.0633, device='cuda:0', grad_fn=<MeanBackward0>)\n",
      "tensor(-0.0633, device='cuda:0', grad_fn=<MeanBackward0>)\n",
      "tensor(-0.0633, device='cuda:0', grad_fn=<MeanBackward0>)\n",
      "tensor(-0.0633, device='cuda:0', grad_fn=<MeanBackward0>)\n",
      "tensor(-0.0633, device='cuda:0', grad_fn=<MeanBackward0>)\n",
      "tensor(-0.0633, device='cuda:0', grad_fn=<MeanBackward0>)\n",
      "tensor(-0.0633, device='cuda:0', grad_fn=<MeanBackward0>)\n",
      "tensor(-0.0633, device='cuda:0', grad_fn=<MeanBackward0>)\n",
      "tensor(-0.0633, device='cuda:0', grad_fn=<MeanBackward0>)\n",
      "tensor(-0.0633, device='cuda:0', grad_fn=<MeanBackward0>)\n",
      "tensor(-0.0633, device='cuda:0', grad_fn=<MeanBackward0>)\n",
      "tensor(-0.0633, device='cuda:0', grad_fn=<MeanBackward0>)\n",
      "tensor(-0.0633, device='cuda:0', grad_fn=<MeanBackward0>)\n",
      "tensor(-0.0633, device='cuda:0', grad_fn=<MeanBackward0>)\n",
      "tensor(-0.0633, device='cuda:0', grad_fn=<MeanBackward0>)\n",
      "tensor(-0.0633, device='cuda:0', grad_fn=<MeanBackward0>)\n",
      "tensor(-0.0633, device='cuda:0', grad_fn=<MeanBackward0>)\n",
      "tensor(-0.0633, device='cuda:0', grad_fn=<MeanBackward0>)\n",
      "tensor(-0.0633, device='cuda:0', grad_fn=<MeanBackward0>)\n",
      "tensor(-0.0633, device='cuda:0', grad_fn=<MeanBackward0>)\n",
      "tensor(-0.0633, device='cuda:0', grad_fn=<MeanBackward0>)\n",
      "tensor(-0.0633, device='cuda:0', grad_fn=<MeanBackward0>)\n",
      "tensor(-0.0633, device='cuda:0', grad_fn=<MeanBackward0>)\n",
      "tensor(-0.0633, device='cuda:0', grad_fn=<MeanBackward0>)\n",
      "tensor(-0.0633, device='cuda:0', grad_fn=<MeanBackward0>)\n",
      "tensor(-0.0633, device='cuda:0', grad_fn=<MeanBackward0>)\n",
      "tensor(-0.0633, device='cuda:0', grad_fn=<MeanBackward0>)\n",
      "tensor(-0.0633, device='cuda:0', grad_fn=<MeanBackward0>)\n",
      "tensor(-0.0633, device='cuda:0', grad_fn=<MeanBackward0>)\n",
      "tensor(-0.0633, device='cuda:0', grad_fn=<MeanBackward0>)\n",
      "tensor(-0.0633, device='cuda:0', grad_fn=<MeanBackward0>)\n",
      "tensor(-0.0633, device='cuda:0', grad_fn=<MeanBackward0>)\n",
      "tensor(-0.0633, device='cuda:0', grad_fn=<MeanBackward0>)\n",
      "tensor(-0.0633, device='cuda:0', grad_fn=<MeanBackward0>)\n",
      "tensor(-0.0633, device='cuda:0', grad_fn=<MeanBackward0>)\n",
      "tensor(-0.0633, device='cuda:0', grad_fn=<MeanBackward0>)\n",
      "tensor(-0.0633, device='cuda:0', grad_fn=<MeanBackward0>)\n",
      "tensor(-0.0633, device='cuda:0', grad_fn=<MeanBackward0>)\n",
      "tensor(-0.0633, device='cuda:0', grad_fn=<MeanBackward0>)\n",
      "tensor(-0.0633, device='cuda:0', grad_fn=<MeanBackward0>)\n",
      "tensor(-0.0633, device='cuda:0', grad_fn=<MeanBackward0>)\n",
      "tensor(-0.0633, device='cuda:0', grad_fn=<MeanBackward0>)\n",
      "tensor(-0.0633, device='cuda:0', grad_fn=<MeanBackward0>)\n",
      "tensor(-0.0633, device='cuda:0', grad_fn=<MeanBackward0>)\n",
      "tensor(-0.0633, device='cuda:0', grad_fn=<MeanBackward0>)\n",
      "tensor(-0.0633, device='cuda:0', grad_fn=<MeanBackward0>)\n",
      "tensor(-0.0633, device='cuda:0', grad_fn=<MeanBackward0>)\n",
      "tensor(-0.0633, device='cuda:0', grad_fn=<MeanBackward0>)\n",
      "tensor(-0.0633, device='cuda:0', grad_fn=<MeanBackward0>)\n",
      "tensor(-0.0633, device='cuda:0', grad_fn=<MeanBackward0>)\n",
      "tensor(-0.0633, device='cuda:0', grad_fn=<MeanBackward0>)\n",
      "tensor(-0.0633, device='cuda:0', grad_fn=<MeanBackward0>)\n",
      "tensor(-0.0633, device='cuda:0', grad_fn=<MeanBackward0>)\n",
      "tensor(-0.0633, device='cuda:0', grad_fn=<MeanBackward0>)\n",
      "tensor(-0.0633, device='cuda:0', grad_fn=<MeanBackward0>)\n",
      "tensor(-0.0633, device='cuda:0', grad_fn=<MeanBackward0>)\n",
      "tensor(-0.0633, device='cuda:0', grad_fn=<MeanBackward0>)\n",
      "tensor(-0.0633, device='cuda:0', grad_fn=<MeanBackward0>)\n",
      "tensor(-0.0633, device='cuda:0', grad_fn=<MeanBackward0>)\n",
      "tensor(-0.0633, device='cuda:0', grad_fn=<MeanBackward0>)\n",
      "tensor(-0.0633, device='cuda:0', grad_fn=<MeanBackward0>)\n",
      "tensor(-0.0633, device='cuda:0', grad_fn=<MeanBackward0>)\n",
      "tensor(-0.0633, device='cuda:0', grad_fn=<MeanBackward0>)\n",
      "tensor(-0.0633, device='cuda:0', grad_fn=<MeanBackward0>)\n",
      "tensor(-0.0633, device='cuda:0', grad_fn=<MeanBackward0>)\n",
      "tensor(-0.0633, device='cuda:0', grad_fn=<MeanBackward0>)\n",
      "tensor(-0.0633, device='cuda:0', grad_fn=<MeanBackward0>)\n",
      "tensor(-0.0633, device='cuda:0', grad_fn=<MeanBackward0>)\n",
      "tensor(-0.0633, device='cuda:0', grad_fn=<MeanBackward0>)\n",
      "tensor(-0.0633, device='cuda:0', grad_fn=<MeanBackward0>)\n",
      "tensor(-0.0633, device='cuda:0', grad_fn=<MeanBackward0>)\n",
      "tensor(-0.0633, device='cuda:0', grad_fn=<MeanBackward0>)\n",
      "tensor(-0.0633, device='cuda:0', grad_fn=<MeanBackward0>)\n",
      "tensor(-0.0633, device='cuda:0', grad_fn=<MeanBackward0>)\n",
      "tensor(-0.0633, device='cuda:0', grad_fn=<MeanBackward0>)\n",
      "tensor(-0.0633, device='cuda:0', grad_fn=<MeanBackward0>)\n",
      "tensor(-0.0633, device='cuda:0', grad_fn=<MeanBackward0>)\n",
      "tensor(-0.0633, device='cuda:0', grad_fn=<MeanBackward0>)\n",
      "tensor(-0.0633, device='cuda:0', grad_fn=<MeanBackward0>)\n",
      "tensor(-0.0633, device='cuda:0', grad_fn=<MeanBackward0>)\n",
      "tensor(-0.0633, device='cuda:0', grad_fn=<MeanBackward0>)\n",
      "tensor(-0.0633, device='cuda:0', grad_fn=<MeanBackward0>)\n",
      "tensor(-0.0633, device='cuda:0', grad_fn=<MeanBackward0>)\n",
      "tensor(-0.0633, device='cuda:0', grad_fn=<MeanBackward0>)\n",
      "tensor(-0.0633, device='cuda:0', grad_fn=<MeanBackward0>)\n",
      "tensor(-0.0633, device='cuda:0', grad_fn=<MeanBackward0>)\n",
      "tensor(-0.0633, device='cuda:0', grad_fn=<MeanBackward0>)\n",
      "tensor(-0.0633, device='cuda:0', grad_fn=<MeanBackward0>)\n",
      "tensor(-0.0633, device='cuda:0', grad_fn=<MeanBackward0>)\n",
      "tensor(-0.0633, device='cuda:0', grad_fn=<MeanBackward0>)\n",
      "tensor(-0.0633, device='cuda:0', grad_fn=<MeanBackward0>)\n",
      "tensor(-0.0633, device='cuda:0', grad_fn=<MeanBackward0>)\n",
      "tensor(-0.0633, device='cuda:0', grad_fn=<MeanBackward0>)\n",
      "tensor(-0.0633, device='cuda:0', grad_fn=<MeanBackward0>)\n",
      "tensor(-0.0633, device='cuda:0', grad_fn=<MeanBackward0>)\n",
      "tensor(-0.0633, device='cuda:0', grad_fn=<MeanBackward0>)\n",
      "tensor(-0.0633, device='cuda:0', grad_fn=<MeanBackward0>)\n",
      "tensor(-0.0633, device='cuda:0', grad_fn=<MeanBackward0>)\n",
      "tensor(-0.0633, device='cuda:0', grad_fn=<MeanBackward0>)\n",
      "tensor(-0.0633, device='cuda:0', grad_fn=<MeanBackward0>)\n",
      "tensor(-0.0633, device='cuda:0', grad_fn=<MeanBackward0>)\n",
      "tensor(-0.0633, device='cuda:0', grad_fn=<MeanBackward0>)\n",
      "tensor(-0.0633, device='cuda:0', grad_fn=<MeanBackward0>)\n",
      "tensor(-0.0633, device='cuda:0', grad_fn=<MeanBackward0>)\n",
      "tensor(-0.0633, device='cuda:0', grad_fn=<MeanBackward0>)\n",
      "tensor(-0.0633, device='cuda:0', grad_fn=<MeanBackward0>)\n",
      "tensor(-0.0633, device='cuda:0', grad_fn=<MeanBackward0>)\n",
      "tensor(-0.0633, device='cuda:0', grad_fn=<MeanBackward0>)\n",
      "tensor(-0.0633, device='cuda:0', grad_fn=<MeanBackward0>)\n",
      "tensor(-0.0633, device='cuda:0', grad_fn=<MeanBackward0>)\n",
      "tensor(-0.0633, device='cuda:0', grad_fn=<MeanBackward0>)\n",
      "tensor(-0.0633, device='cuda:0', grad_fn=<MeanBackward0>)\n",
      "tensor(-0.0633, device='cuda:0', grad_fn=<MeanBackward0>)\n",
      "tensor(-0.0633, device='cuda:0', grad_fn=<MeanBackward0>)\n",
      "tensor(-0.0633, device='cuda:0', grad_fn=<MeanBackward0>)\n",
      "tensor(-0.0633, device='cuda:0', grad_fn=<MeanBackward0>)\n",
      "tensor(-0.0633, device='cuda:0', grad_fn=<MeanBackward0>)\n",
      "tensor(-0.0633, device='cuda:0', grad_fn=<MeanBackward0>)\n",
      "tensor(-0.0633, device='cuda:0', grad_fn=<MeanBackward0>)\n",
      "tensor(-0.0633, device='cuda:0', grad_fn=<MeanBackward0>)\n",
      "tensor(-0.0633, device='cuda:0', grad_fn=<MeanBackward0>)\n",
      "tensor(-0.0633, device='cuda:0', grad_fn=<MeanBackward0>)\n",
      "tensor(-0.0633, device='cuda:0', grad_fn=<MeanBackward0>)\n",
      "tensor(-0.0633, device='cuda:0', grad_fn=<MeanBackward0>)\n",
      "tensor(-0.0633, device='cuda:0', grad_fn=<MeanBackward0>)\n",
      "tensor(-0.0633, device='cuda:0', grad_fn=<MeanBackward0>)\n",
      "tensor(-0.0633, device='cuda:0', grad_fn=<MeanBackward0>)\n",
      "tensor(-0.0633, device='cuda:0', grad_fn=<MeanBackward0>)\n",
      "tensor(-0.0633, device='cuda:0', grad_fn=<MeanBackward0>)\n",
      "tensor(-0.0633, device='cuda:0', grad_fn=<MeanBackward0>)\n",
      "tensor(-0.0633, device='cuda:0', grad_fn=<MeanBackward0>)\n",
      "tensor(-0.0633, device='cuda:0', grad_fn=<MeanBackward0>)\n",
      "tensor(-0.0633, device='cuda:0', grad_fn=<MeanBackward0>)\n",
      "tensor(-0.0633, device='cuda:0', grad_fn=<MeanBackward0>)\n",
      "tensor(-0.0633, device='cuda:0', grad_fn=<MeanBackward0>)\n",
      "tensor(-0.0633, device='cuda:0', grad_fn=<MeanBackward0>)\n",
      "tensor(-0.0633, device='cuda:0', grad_fn=<MeanBackward0>)\n",
      "tensor(-0.0634, device='cuda:0', grad_fn=<MeanBackward0>)\n",
      "tensor(-0.0634, device='cuda:0', grad_fn=<MeanBackward0>)\n",
      "tensor(-0.0634, device='cuda:0', grad_fn=<MeanBackward0>)\n",
      "tensor(-0.0634, device='cuda:0', grad_fn=<MeanBackward0>)\n",
      "tensor(-0.0634, device='cuda:0', grad_fn=<MeanBackward0>)\n",
      "tensor(-0.0634, device='cuda:0', grad_fn=<MeanBackward0>)\n",
      "tensor(-0.0634, device='cuda:0', grad_fn=<MeanBackward0>)\n"
     ]
    },
    {
     "name": "stdout",
     "output_type": "stream",
     "text": [
      "tensor(-0.0634, device='cuda:0', grad_fn=<MeanBackward0>)\n",
      "tensor(-0.0634, device='cuda:0', grad_fn=<MeanBackward0>)\n",
      "tensor(-0.0634, device='cuda:0', grad_fn=<MeanBackward0>)\n",
      "tensor(-0.0634, device='cuda:0', grad_fn=<MeanBackward0>)\n",
      "tensor(-0.0634, device='cuda:0', grad_fn=<MeanBackward0>)\n",
      "tensor(-0.0634, device='cuda:0', grad_fn=<MeanBackward0>)\n",
      "tensor(-0.0634, device='cuda:0', grad_fn=<MeanBackward0>)\n",
      "tensor(-0.0634, device='cuda:0', grad_fn=<MeanBackward0>)\n",
      "tensor(-0.0634, device='cuda:0', grad_fn=<MeanBackward0>)\n",
      "tensor(-0.0634, device='cuda:0', grad_fn=<MeanBackward0>)\n",
      "tensor(-0.0634, device='cuda:0', grad_fn=<MeanBackward0>)\n",
      "tensor(-0.0634, device='cuda:0', grad_fn=<MeanBackward0>)\n",
      "tensor(-0.0634, device='cuda:0', grad_fn=<MeanBackward0>)\n",
      "tensor(-0.0634, device='cuda:0', grad_fn=<MeanBackward0>)\n",
      "tensor(-0.0634, device='cuda:0', grad_fn=<MeanBackward0>)\n",
      "tensor(-0.0634, device='cuda:0', grad_fn=<MeanBackward0>)\n",
      "tensor(-0.0634, device='cuda:0', grad_fn=<MeanBackward0>)\n",
      "tensor(-0.0634, device='cuda:0', grad_fn=<MeanBackward0>)\n",
      "tensor(-0.0634, device='cuda:0', grad_fn=<MeanBackward0>)\n",
      "tensor(-0.0634, device='cuda:0', grad_fn=<MeanBackward0>)\n",
      "tensor(-0.0634, device='cuda:0', grad_fn=<MeanBackward0>)\n",
      "tensor(-0.0634, device='cuda:0', grad_fn=<MeanBackward0>)\n",
      "tensor(-0.0634, device='cuda:0', grad_fn=<MeanBackward0>)\n",
      "tensor(-0.0634, device='cuda:0', grad_fn=<MeanBackward0>)\n",
      "tensor(-0.0634, device='cuda:0', grad_fn=<MeanBackward0>)\n",
      "tensor(-0.0634, device='cuda:0', grad_fn=<MeanBackward0>)\n",
      "tensor(-0.0634, device='cuda:0', grad_fn=<MeanBackward0>)\n",
      "tensor(-0.0634, device='cuda:0', grad_fn=<MeanBackward0>)\n",
      "tensor(-0.0634, device='cuda:0', grad_fn=<MeanBackward0>)\n",
      "tensor(-0.0634, device='cuda:0', grad_fn=<MeanBackward0>)\n",
      "tensor(-0.0634, device='cuda:0', grad_fn=<MeanBackward0>)\n",
      "tensor(-0.0634, device='cuda:0', grad_fn=<MeanBackward0>)\n",
      "tensor(-0.0634, device='cuda:0', grad_fn=<MeanBackward0>)\n",
      "tensor(-0.0634, device='cuda:0', grad_fn=<MeanBackward0>)\n",
      "tensor(-0.0634, device='cuda:0', grad_fn=<MeanBackward0>)\n",
      "tensor(-0.0634, device='cuda:0', grad_fn=<MeanBackward0>)\n",
      "tensor(-0.0634, device='cuda:0', grad_fn=<MeanBackward0>)\n",
      "tensor(-0.0634, device='cuda:0', grad_fn=<MeanBackward0>)\n",
      "tensor(-0.0634, device='cuda:0', grad_fn=<MeanBackward0>)\n",
      "tensor(-0.0634, device='cuda:0', grad_fn=<MeanBackward0>)\n",
      "tensor(-0.0634, device='cuda:0', grad_fn=<MeanBackward0>)\n",
      "tensor(-0.0634, device='cuda:0', grad_fn=<MeanBackward0>)\n",
      "tensor(-0.0634, device='cuda:0', grad_fn=<MeanBackward0>)\n",
      "tensor(-0.0634, device='cuda:0', grad_fn=<MeanBackward0>)\n",
      "tensor(-0.0634, device='cuda:0', grad_fn=<MeanBackward0>)\n",
      "tensor(-0.0634, device='cuda:0', grad_fn=<MeanBackward0>)\n",
      "tensor(-0.0634, device='cuda:0', grad_fn=<MeanBackward0>)\n",
      "tensor(-0.0634, device='cuda:0', grad_fn=<MeanBackward0>)\n",
      "tensor(-0.0634, device='cuda:0', grad_fn=<MeanBackward0>)\n",
      "tensor(-0.0634, device='cuda:0', grad_fn=<MeanBackward0>)\n",
      "tensor(-0.0634, device='cuda:0', grad_fn=<MeanBackward0>)\n",
      "tensor(-0.0634, device='cuda:0', grad_fn=<MeanBackward0>)\n",
      "tensor(-0.0634, device='cuda:0', grad_fn=<MeanBackward0>)\n",
      "tensor(-0.0634, device='cuda:0', grad_fn=<MeanBackward0>)\n",
      "tensor(-0.0634, device='cuda:0', grad_fn=<MeanBackward0>)\n",
      "tensor(-0.0634, device='cuda:0', grad_fn=<MeanBackward0>)\n",
      "tensor(-0.0634, device='cuda:0', grad_fn=<MeanBackward0>)\n",
      "tensor(-0.0634, device='cuda:0', grad_fn=<MeanBackward0>)\n",
      "tensor(-0.0634, device='cuda:0', grad_fn=<MeanBackward0>)\n",
      "tensor(-0.0634, device='cuda:0', grad_fn=<MeanBackward0>)\n",
      "tensor(-0.0634, device='cuda:0', grad_fn=<MeanBackward0>)\n",
      "tensor(-0.0634, device='cuda:0', grad_fn=<MeanBackward0>)\n",
      "tensor(-0.0634, device='cuda:0', grad_fn=<MeanBackward0>)\n",
      "tensor(-0.0634, device='cuda:0', grad_fn=<MeanBackward0>)\n",
      "tensor(-0.0634, device='cuda:0', grad_fn=<MeanBackward0>)\n",
      "tensor(-0.0634, device='cuda:0', grad_fn=<MeanBackward0>)\n",
      "tensor(-0.0634, device='cuda:0', grad_fn=<MeanBackward0>)\n",
      "tensor(-0.0634, device='cuda:0', grad_fn=<MeanBackward0>)\n",
      "tensor(-0.0634, device='cuda:0', grad_fn=<MeanBackward0>)\n",
      "tensor(-0.0634, device='cuda:0', grad_fn=<MeanBackward0>)\n",
      "tensor(-0.0634, device='cuda:0', grad_fn=<MeanBackward0>)\n",
      "tensor(-0.0634, device='cuda:0', grad_fn=<MeanBackward0>)\n",
      "tensor(-0.0634, device='cuda:0', grad_fn=<MeanBackward0>)\n",
      "tensor(-0.0634, device='cuda:0', grad_fn=<MeanBackward0>)\n",
      "tensor(-0.0634, device='cuda:0', grad_fn=<MeanBackward0>)\n",
      "tensor(-0.0634, device='cuda:0', grad_fn=<MeanBackward0>)\n",
      "tensor(-0.0634, device='cuda:0', grad_fn=<MeanBackward0>)\n",
      "tensor(-0.0634, device='cuda:0', grad_fn=<MeanBackward0>)\n",
      "tensor(-0.0634, device='cuda:0', grad_fn=<MeanBackward0>)\n",
      "tensor(-0.0634, device='cuda:0', grad_fn=<MeanBackward0>)\n",
      "tensor(-0.0634, device='cuda:0', grad_fn=<MeanBackward0>)\n",
      "tensor(-0.0634, device='cuda:0', grad_fn=<MeanBackward0>)\n",
      "tensor(-0.0634, device='cuda:0', grad_fn=<MeanBackward0>)\n",
      "tensor(-0.0634, device='cuda:0', grad_fn=<MeanBackward0>)\n",
      "tensor(-0.0634, device='cuda:0', grad_fn=<MeanBackward0>)\n",
      "tensor(-0.0634, device='cuda:0', grad_fn=<MeanBackward0>)\n",
      "tensor(-0.0634, device='cuda:0', grad_fn=<MeanBackward0>)\n",
      "tensor(-0.0634, device='cuda:0', grad_fn=<MeanBackward0>)\n",
      "tensor(-0.0634, device='cuda:0', grad_fn=<MeanBackward0>)\n",
      "tensor(-0.0634, device='cuda:0', grad_fn=<MeanBackward0>)\n",
      "tensor(-0.0634, device='cuda:0', grad_fn=<MeanBackward0>)\n",
      "tensor(-0.0634, device='cuda:0', grad_fn=<MeanBackward0>)\n",
      "tensor(-0.0634, device='cuda:0', grad_fn=<MeanBackward0>)\n",
      "tensor(-0.0634, device='cuda:0', grad_fn=<MeanBackward0>)\n",
      "tensor(-0.0634, device='cuda:0', grad_fn=<MeanBackward0>)\n",
      "tensor(-0.0634, device='cuda:0', grad_fn=<MeanBackward0>)\n",
      "tensor(-0.0634, device='cuda:0', grad_fn=<MeanBackward0>)\n",
      "tensor(-0.0634, device='cuda:0', grad_fn=<MeanBackward0>)\n",
      "tensor(-0.0634, device='cuda:0', grad_fn=<MeanBackward0>)\n",
      "tensor(-0.0634, device='cuda:0', grad_fn=<MeanBackward0>)\n",
      "tensor(-0.0634, device='cuda:0', grad_fn=<MeanBackward0>)\n",
      "tensor(-0.0634, device='cuda:0', grad_fn=<MeanBackward0>)\n",
      "tensor(-0.0634, device='cuda:0', grad_fn=<MeanBackward0>)\n",
      "tensor(-0.0634, device='cuda:0', grad_fn=<MeanBackward0>)\n",
      "tensor(-0.0634, device='cuda:0', grad_fn=<MeanBackward0>)\n",
      "tensor(-0.0634, device='cuda:0', grad_fn=<MeanBackward0>)\n",
      "tensor(-0.0634, device='cuda:0', grad_fn=<MeanBackward0>)\n",
      "tensor(-0.0634, device='cuda:0', grad_fn=<MeanBackward0>)\n",
      "tensor(-0.0634, device='cuda:0', grad_fn=<MeanBackward0>)\n",
      "tensor(-0.0634, device='cuda:0', grad_fn=<MeanBackward0>)\n",
      "tensor(-0.0634, device='cuda:0', grad_fn=<MeanBackward0>)\n",
      "tensor(-0.0634, device='cuda:0', grad_fn=<MeanBackward0>)\n",
      "tensor(-0.0634, device='cuda:0', grad_fn=<MeanBackward0>)\n",
      "tensor(-0.0634, device='cuda:0', grad_fn=<MeanBackward0>)\n",
      "tensor(-0.0634, device='cuda:0', grad_fn=<MeanBackward0>)\n",
      "tensor(-0.0634, device='cuda:0', grad_fn=<MeanBackward0>)\n",
      "tensor(-0.0634, device='cuda:0', grad_fn=<MeanBackward0>)\n",
      "tensor(-0.0634, device='cuda:0', grad_fn=<MeanBackward0>)\n",
      "tensor(-0.0634, device='cuda:0', grad_fn=<MeanBackward0>)\n",
      "tensor(-0.0634, device='cuda:0', grad_fn=<MeanBackward0>)\n",
      "tensor(-0.0634, device='cuda:0', grad_fn=<MeanBackward0>)\n",
      "tensor(-0.0634, device='cuda:0', grad_fn=<MeanBackward0>)\n",
      "tensor(-0.0634, device='cuda:0', grad_fn=<MeanBackward0>)\n",
      "tensor(-0.0634, device='cuda:0', grad_fn=<MeanBackward0>)\n",
      "tensor(-0.0634, device='cuda:0', grad_fn=<MeanBackward0>)\n",
      "tensor(-0.0634, device='cuda:0', grad_fn=<MeanBackward0>)\n",
      "tensor(-0.0634, device='cuda:0', grad_fn=<MeanBackward0>)\n",
      "tensor(-0.0634, device='cuda:0', grad_fn=<MeanBackward0>)\n",
      "tensor(-0.0634, device='cuda:0', grad_fn=<MeanBackward0>)\n",
      "tensor(-0.0634, device='cuda:0', grad_fn=<MeanBackward0>)\n",
      "tensor(-0.0634, device='cuda:0', grad_fn=<MeanBackward0>)\n",
      "tensor(-0.0634, device='cuda:0', grad_fn=<MeanBackward0>)\n",
      "tensor(-0.0634, device='cuda:0', grad_fn=<MeanBackward0>)\n",
      "tensor(-0.0634, device='cuda:0', grad_fn=<MeanBackward0>)\n",
      "tensor(-0.0634, device='cuda:0', grad_fn=<MeanBackward0>)\n",
      "tensor(-0.0634, device='cuda:0', grad_fn=<MeanBackward0>)\n",
      "tensor(-0.0634, device='cuda:0', grad_fn=<MeanBackward0>)\n",
      "tensor(-0.0634, device='cuda:0', grad_fn=<MeanBackward0>)\n",
      "tensor(-0.0634, device='cuda:0', grad_fn=<MeanBackward0>)\n",
      "tensor(-0.0634, device='cuda:0', grad_fn=<MeanBackward0>)\n",
      "tensor(-0.0634, device='cuda:0', grad_fn=<MeanBackward0>)\n",
      "tensor(-0.0634, device='cuda:0', grad_fn=<MeanBackward0>)\n",
      "tensor(-0.0634, device='cuda:0', grad_fn=<MeanBackward0>)\n",
      "tensor(-0.0634, device='cuda:0', grad_fn=<MeanBackward0>)\n",
      "tensor(-0.0634, device='cuda:0', grad_fn=<MeanBackward0>)\n",
      "tensor(-0.0634, device='cuda:0', grad_fn=<MeanBackward0>)\n",
      "tensor(-0.0634, device='cuda:0', grad_fn=<MeanBackward0>)\n",
      "tensor(-0.0634, device='cuda:0', grad_fn=<MeanBackward0>)\n",
      "tensor(-0.0634, device='cuda:0', grad_fn=<MeanBackward0>)\n",
      "tensor(-0.0634, device='cuda:0', grad_fn=<MeanBackward0>)\n",
      "tensor(-0.0634, device='cuda:0', grad_fn=<MeanBackward0>)\n",
      "tensor(-0.0634, device='cuda:0', grad_fn=<MeanBackward0>)\n",
      "tensor(-0.0634, device='cuda:0', grad_fn=<MeanBackward0>)\n",
      "tensor(-0.0634, device='cuda:0', grad_fn=<MeanBackward0>)\n",
      "tensor(-0.0634, device='cuda:0', grad_fn=<MeanBackward0>)\n",
      "tensor(-0.0634, device='cuda:0', grad_fn=<MeanBackward0>)\n",
      "tensor(-0.0634, device='cuda:0', grad_fn=<MeanBackward0>)\n",
      "tensor(-0.0634, device='cuda:0', grad_fn=<MeanBackward0>)\n",
      "tensor(-0.0634, device='cuda:0', grad_fn=<MeanBackward0>)\n",
      "tensor(-0.0634, device='cuda:0', grad_fn=<MeanBackward0>)\n",
      "tensor(-0.0634, device='cuda:0', grad_fn=<MeanBackward0>)\n",
      "tensor(-0.0634, device='cuda:0', grad_fn=<MeanBackward0>)\n",
      "tensor(-0.0634, device='cuda:0', grad_fn=<MeanBackward0>)\n",
      "tensor(-0.0634, device='cuda:0', grad_fn=<MeanBackward0>)\n",
      "tensor(-0.0634, device='cuda:0', grad_fn=<MeanBackward0>)\n",
      "tensor(-0.0634, device='cuda:0', grad_fn=<MeanBackward0>)\n",
      "tensor(-0.0634, device='cuda:0', grad_fn=<MeanBackward0>)\n",
      "tensor(-0.0634, device='cuda:0', grad_fn=<MeanBackward0>)\n",
      "tensor(-0.0634, device='cuda:0', grad_fn=<MeanBackward0>)\n",
      "tensor(-0.0634, device='cuda:0', grad_fn=<MeanBackward0>)\n",
      "tensor(-0.0634, device='cuda:0', grad_fn=<MeanBackward0>)\n",
      "tensor(-0.0634, device='cuda:0', grad_fn=<MeanBackward0>)\n",
      "tensor(-0.0634, device='cuda:0', grad_fn=<MeanBackward0>)\n",
      "tensor(-0.0634, device='cuda:0', grad_fn=<MeanBackward0>)\n",
      "tensor(-0.0634, device='cuda:0', grad_fn=<MeanBackward0>)\n",
      "tensor(-0.0634, device='cuda:0', grad_fn=<MeanBackward0>)\n",
      "tensor(-0.0634, device='cuda:0', grad_fn=<MeanBackward0>)\n",
      "tensor(-0.0634, device='cuda:0', grad_fn=<MeanBackward0>)\n",
      "tensor(-0.0634, device='cuda:0', grad_fn=<MeanBackward0>)\n",
      "tensor(-0.0634, device='cuda:0', grad_fn=<MeanBackward0>)\n",
      "tensor(-0.0634, device='cuda:0', grad_fn=<MeanBackward0>)\n",
      "tensor(-0.0634, device='cuda:0', grad_fn=<MeanBackward0>)\n",
      "tensor(-0.0634, device='cuda:0', grad_fn=<MeanBackward0>)\n",
      "tensor(-0.0634, device='cuda:0', grad_fn=<MeanBackward0>)\n",
      "tensor(-0.0634, device='cuda:0', grad_fn=<MeanBackward0>)\n",
      "tensor(-0.0634, device='cuda:0', grad_fn=<MeanBackward0>)\n",
      "tensor(-0.0634, device='cuda:0', grad_fn=<MeanBackward0>)\n",
      "tensor(-0.0634, device='cuda:0', grad_fn=<MeanBackward0>)\n",
      "tensor(-0.0634, device='cuda:0', grad_fn=<MeanBackward0>)\n",
      "tensor(-0.0634, device='cuda:0', grad_fn=<MeanBackward0>)\n",
      "tensor(-0.0634, device='cuda:0', grad_fn=<MeanBackward0>)\n",
      "tensor(-0.0634, device='cuda:0', grad_fn=<MeanBackward0>)\n",
      "tensor(-0.0634, device='cuda:0', grad_fn=<MeanBackward0>)\n",
      "tensor(-0.0634, device='cuda:0', grad_fn=<MeanBackward0>)\n",
      "tensor(-0.0634, device='cuda:0', grad_fn=<MeanBackward0>)\n",
      "tensor(-0.0634, device='cuda:0', grad_fn=<MeanBackward0>)\n",
      "tensor(-0.0634, device='cuda:0', grad_fn=<MeanBackward0>)\n",
      "tensor(-0.0634, device='cuda:0', grad_fn=<MeanBackward0>)\n",
      "tensor(-0.0634, device='cuda:0', grad_fn=<MeanBackward0>)\n",
      "tensor(-0.0634, device='cuda:0', grad_fn=<MeanBackward0>)\n",
      "tensor(-0.0634, device='cuda:0', grad_fn=<MeanBackward0>)\n",
      "tensor(-0.0634, device='cuda:0', grad_fn=<MeanBackward0>)\n",
      "tensor(-0.0634, device='cuda:0', grad_fn=<MeanBackward0>)\n",
      "tensor(-0.0634, device='cuda:0', grad_fn=<MeanBackward0>)\n",
      "tensor(-0.0634, device='cuda:0', grad_fn=<MeanBackward0>)\n",
      "tensor(-0.0634, device='cuda:0', grad_fn=<MeanBackward0>)\n"
     ]
    },
    {
     "name": "stdout",
     "output_type": "stream",
     "text": [
      "tensor(-0.0634, device='cuda:0', grad_fn=<MeanBackward0>)\n",
      "tensor(-0.0634, device='cuda:0', grad_fn=<MeanBackward0>)\n",
      "tensor(-0.0634, device='cuda:0', grad_fn=<MeanBackward0>)\n",
      "tensor(-0.0634, device='cuda:0', grad_fn=<MeanBackward0>)\n",
      "tensor(-0.0634, device='cuda:0', grad_fn=<MeanBackward0>)\n",
      "tensor(-0.0634, device='cuda:0', grad_fn=<MeanBackward0>)\n",
      "tensor(-0.0634, device='cuda:0', grad_fn=<MeanBackward0>)\n",
      "tensor(-0.0634, device='cuda:0', grad_fn=<MeanBackward0>)\n",
      "tensor(-0.0634, device='cuda:0', grad_fn=<MeanBackward0>)\n",
      "tensor(-0.0635, device='cuda:0', grad_fn=<MeanBackward0>)\n",
      "tensor(-0.0635, device='cuda:0', grad_fn=<MeanBackward0>)\n",
      "tensor(-0.0635, device='cuda:0', grad_fn=<MeanBackward0>)\n",
      "tensor(-0.0635, device='cuda:0', grad_fn=<MeanBackward0>)\n",
      "tensor(-0.0635, device='cuda:0', grad_fn=<MeanBackward0>)\n",
      "tensor(-0.0635, device='cuda:0', grad_fn=<MeanBackward0>)\n",
      "tensor(-0.0635, device='cuda:0', grad_fn=<MeanBackward0>)\n",
      "tensor(-0.0635, device='cuda:0', grad_fn=<MeanBackward0>)\n",
      "tensor(-0.0635, device='cuda:0', grad_fn=<MeanBackward0>)\n",
      "tensor(-0.0635, device='cuda:0', grad_fn=<MeanBackward0>)\n",
      "tensor(-0.0635, device='cuda:0', grad_fn=<MeanBackward0>)\n",
      "tensor(-0.0635, device='cuda:0', grad_fn=<MeanBackward0>)\n",
      "tensor(-0.0635, device='cuda:0', grad_fn=<MeanBackward0>)\n",
      "tensor(-0.0635, device='cuda:0', grad_fn=<MeanBackward0>)\n",
      "tensor(-0.0635, device='cuda:0', grad_fn=<MeanBackward0>)\n",
      "tensor(-0.0635, device='cuda:0', grad_fn=<MeanBackward0>)\n",
      "tensor(-0.0635, device='cuda:0', grad_fn=<MeanBackward0>)\n",
      "tensor(-0.0635, device='cuda:0', grad_fn=<MeanBackward0>)\n",
      "tensor(-0.0635, device='cuda:0', grad_fn=<MeanBackward0>)\n",
      "tensor(-0.0635, device='cuda:0', grad_fn=<MeanBackward0>)\n",
      "tensor(-0.0635, device='cuda:0', grad_fn=<MeanBackward0>)\n",
      "tensor(-0.0635, device='cuda:0', grad_fn=<MeanBackward0>)\n",
      "tensor(-0.0635, device='cuda:0', grad_fn=<MeanBackward0>)\n",
      "tensor(-0.0635, device='cuda:0', grad_fn=<MeanBackward0>)\n",
      "tensor(-0.0635, device='cuda:0', grad_fn=<MeanBackward0>)\n",
      "tensor(-0.0635, device='cuda:0', grad_fn=<MeanBackward0>)\n",
      "tensor(-0.0635, device='cuda:0', grad_fn=<MeanBackward0>)\n",
      "tensor(-0.0635, device='cuda:0', grad_fn=<MeanBackward0>)\n",
      "tensor(-0.0635, device='cuda:0', grad_fn=<MeanBackward0>)\n",
      "tensor(-0.0635, device='cuda:0', grad_fn=<MeanBackward0>)\n",
      "tensor(-0.0635, device='cuda:0', grad_fn=<MeanBackward0>)\n",
      "tensor(-0.0635, device='cuda:0', grad_fn=<MeanBackward0>)\n",
      "tensor(-0.0635, device='cuda:0', grad_fn=<MeanBackward0>)\n",
      "tensor(-0.0635, device='cuda:0', grad_fn=<MeanBackward0>)\n",
      "tensor(-0.0635, device='cuda:0', grad_fn=<MeanBackward0>)\n",
      "tensor(-0.0635, device='cuda:0', grad_fn=<MeanBackward0>)\n",
      "tensor(-0.0635, device='cuda:0', grad_fn=<MeanBackward0>)\n",
      "tensor(-0.0635, device='cuda:0', grad_fn=<MeanBackward0>)\n",
      "tensor(-0.0635, device='cuda:0', grad_fn=<MeanBackward0>)\n",
      "tensor(-0.0635, device='cuda:0', grad_fn=<MeanBackward0>)\n",
      "tensor(-0.0635, device='cuda:0', grad_fn=<MeanBackward0>)\n",
      "tensor(-0.0635, device='cuda:0', grad_fn=<MeanBackward0>)\n",
      "tensor(-0.0635, device='cuda:0', grad_fn=<MeanBackward0>)\n",
      "tensor(-0.0635, device='cuda:0', grad_fn=<MeanBackward0>)\n",
      "tensor(-0.0635, device='cuda:0', grad_fn=<MeanBackward0>)\n",
      "tensor(-0.0635, device='cuda:0', grad_fn=<MeanBackward0>)\n",
      "tensor(-0.0635, device='cuda:0', grad_fn=<MeanBackward0>)\n",
      "tensor(-0.0635, device='cuda:0', grad_fn=<MeanBackward0>)\n",
      "tensor(-0.0635, device='cuda:0', grad_fn=<MeanBackward0>)\n",
      "tensor(-0.0635, device='cuda:0', grad_fn=<MeanBackward0>)\n",
      "tensor(-0.0635, device='cuda:0', grad_fn=<MeanBackward0>)\n",
      "tensor(-0.0635, device='cuda:0', grad_fn=<MeanBackward0>)\n",
      "tensor(-0.0635, device='cuda:0', grad_fn=<MeanBackward0>)\n",
      "tensor(-0.0635, device='cuda:0', grad_fn=<MeanBackward0>)\n",
      "tensor(-0.0635, device='cuda:0', grad_fn=<MeanBackward0>)\n",
      "tensor(-0.0635, device='cuda:0', grad_fn=<MeanBackward0>)\n",
      "tensor(-0.0635, device='cuda:0', grad_fn=<MeanBackward0>)\n",
      "tensor(-0.0635, device='cuda:0', grad_fn=<MeanBackward0>)\n",
      "tensor(-0.0635, device='cuda:0', grad_fn=<MeanBackward0>)\n",
      "tensor(-0.0635, device='cuda:0', grad_fn=<MeanBackward0>)\n",
      "tensor(-0.0635, device='cuda:0', grad_fn=<MeanBackward0>)\n",
      "tensor(-0.0635, device='cuda:0', grad_fn=<MeanBackward0>)\n",
      "tensor(-0.0635, device='cuda:0', grad_fn=<MeanBackward0>)\n",
      "tensor(-0.0635, device='cuda:0', grad_fn=<MeanBackward0>)\n",
      "tensor(-0.0635, device='cuda:0', grad_fn=<MeanBackward0>)\n",
      "tensor(-0.0635, device='cuda:0', grad_fn=<MeanBackward0>)\n",
      "tensor(-0.0635, device='cuda:0', grad_fn=<MeanBackward0>)\n",
      "tensor(-0.0635, device='cuda:0', grad_fn=<MeanBackward0>)\n",
      "tensor(-0.0635, device='cuda:0', grad_fn=<MeanBackward0>)\n",
      "tensor(-0.0635, device='cuda:0', grad_fn=<MeanBackward0>)\n",
      "tensor(-0.0635, device='cuda:0', grad_fn=<MeanBackward0>)\n",
      "tensor(-0.0635, device='cuda:0', grad_fn=<MeanBackward0>)\n",
      "tensor(-0.0635, device='cuda:0', grad_fn=<MeanBackward0>)\n",
      "tensor(-0.0635, device='cuda:0', grad_fn=<MeanBackward0>)\n",
      "tensor(-0.0635, device='cuda:0', grad_fn=<MeanBackward0>)\n",
      "tensor(-0.0635, device='cuda:0', grad_fn=<MeanBackward0>)\n",
      "tensor(-0.0635, device='cuda:0', grad_fn=<MeanBackward0>)\n",
      "tensor(-0.0635, device='cuda:0', grad_fn=<MeanBackward0>)\n",
      "tensor(-0.0635, device='cuda:0', grad_fn=<MeanBackward0>)\n",
      "tensor(-0.0635, device='cuda:0', grad_fn=<MeanBackward0>)\n",
      "tensor(-0.0635, device='cuda:0', grad_fn=<MeanBackward0>)\n",
      "tensor(-0.0635, device='cuda:0', grad_fn=<MeanBackward0>)\n",
      "tensor(-0.0635, device='cuda:0', grad_fn=<MeanBackward0>)\n",
      "tensor(-0.0635, device='cuda:0', grad_fn=<MeanBackward0>)\n",
      "tensor(-0.0635, device='cuda:0', grad_fn=<MeanBackward0>)\n",
      "tensor(-0.0635, device='cuda:0', grad_fn=<MeanBackward0>)\n",
      "tensor(-0.0635, device='cuda:0', grad_fn=<MeanBackward0>)\n",
      "tensor(-0.0635, device='cuda:0', grad_fn=<MeanBackward0>)\n",
      "tensor(-0.0635, device='cuda:0', grad_fn=<MeanBackward0>)\n",
      "tensor(-0.0635, device='cuda:0', grad_fn=<MeanBackward0>)\n",
      "tensor(-0.0635, device='cuda:0', grad_fn=<MeanBackward0>)\n",
      "tensor(-0.0635, device='cuda:0', grad_fn=<MeanBackward0>)\n",
      "tensor(-0.0635, device='cuda:0', grad_fn=<MeanBackward0>)\n",
      "tensor(-0.0635, device='cuda:0', grad_fn=<MeanBackward0>)\n",
      "tensor(-0.0635, device='cuda:0', grad_fn=<MeanBackward0>)\n",
      "tensor(-0.0635, device='cuda:0', grad_fn=<MeanBackward0>)\n",
      "tensor(-0.0635, device='cuda:0', grad_fn=<MeanBackward0>)\n",
      "tensor(-0.0635, device='cuda:0', grad_fn=<MeanBackward0>)\n",
      "tensor(-0.0635, device='cuda:0', grad_fn=<MeanBackward0>)\n",
      "tensor(-0.0635, device='cuda:0', grad_fn=<MeanBackward0>)\n",
      "tensor(-0.0635, device='cuda:0', grad_fn=<MeanBackward0>)\n",
      "tensor(-0.0635, device='cuda:0', grad_fn=<MeanBackward0>)\n",
      "tensor(-0.0635, device='cuda:0', grad_fn=<MeanBackward0>)\n",
      "tensor(-0.0635, device='cuda:0', grad_fn=<MeanBackward0>)\n",
      "tensor(-0.0635, device='cuda:0', grad_fn=<MeanBackward0>)\n",
      "tensor(-0.0635, device='cuda:0', grad_fn=<MeanBackward0>)\n",
      "tensor(-0.0635, device='cuda:0', grad_fn=<MeanBackward0>)\n",
      "tensor(-0.0635, device='cuda:0', grad_fn=<MeanBackward0>)\n",
      "tensor(-0.0635, device='cuda:0', grad_fn=<MeanBackward0>)\n",
      "tensor(-0.0635, device='cuda:0', grad_fn=<MeanBackward0>)\n",
      "tensor(-0.0635, device='cuda:0', grad_fn=<MeanBackward0>)\n",
      "tensor(-0.0635, device='cuda:0', grad_fn=<MeanBackward0>)\n",
      "tensor(-0.0635, device='cuda:0', grad_fn=<MeanBackward0>)\n",
      "tensor(-0.0635, device='cuda:0', grad_fn=<MeanBackward0>)\n",
      "tensor(-0.0635, device='cuda:0', grad_fn=<MeanBackward0>)\n",
      "tensor(-0.0635, device='cuda:0', grad_fn=<MeanBackward0>)\n",
      "tensor(-0.0635, device='cuda:0', grad_fn=<MeanBackward0>)\n",
      "tensor(-0.0635, device='cuda:0', grad_fn=<MeanBackward0>)\n",
      "tensor(-0.0635, device='cuda:0', grad_fn=<MeanBackward0>)\n",
      "tensor(-0.0635, device='cuda:0', grad_fn=<MeanBackward0>)\n",
      "tensor(-0.0635, device='cuda:0', grad_fn=<MeanBackward0>)\n",
      "tensor(-0.0635, device='cuda:0', grad_fn=<MeanBackward0>)\n",
      "tensor(-0.0635, device='cuda:0', grad_fn=<MeanBackward0>)\n",
      "tensor(-0.0635, device='cuda:0', grad_fn=<MeanBackward0>)\n",
      "1000 iters: loss -0.06349091231822968 still optimizing...\n",
      "tensor(-0.0635, device='cuda:0', grad_fn=<MeanBackward0>)\n",
      "tensor(-0.0635, device='cuda:0', grad_fn=<MeanBackward0>)\n",
      "tensor(-0.0635, device='cuda:0', grad_fn=<MeanBackward0>)\n",
      "tensor(-0.0635, device='cuda:0', grad_fn=<MeanBackward0>)\n",
      "tensor(-0.0635, device='cuda:0', grad_fn=<MeanBackward0>)\n",
      "tensor(-0.0635, device='cuda:0', grad_fn=<MeanBackward0>)\n",
      "tensor(-0.0635, device='cuda:0', grad_fn=<MeanBackward0>)\n",
      "tensor(-0.0635, device='cuda:0', grad_fn=<MeanBackward0>)\n",
      "tensor(-0.0635, device='cuda:0', grad_fn=<MeanBackward0>)\n",
      "tensor(-0.0635, device='cuda:0', grad_fn=<MeanBackward0>)\n",
      "tensor(-0.0635, device='cuda:0', grad_fn=<MeanBackward0>)\n",
      "tensor(-0.0635, device='cuda:0', grad_fn=<MeanBackward0>)\n",
      "tensor(-0.0635, device='cuda:0', grad_fn=<MeanBackward0>)\n",
      "tensor(-0.0635, device='cuda:0', grad_fn=<MeanBackward0>)\n",
      "tensor(-0.0635, device='cuda:0', grad_fn=<MeanBackward0>)\n",
      "tensor(-0.0635, device='cuda:0', grad_fn=<MeanBackward0>)\n",
      "tensor(-0.0635, device='cuda:0', grad_fn=<MeanBackward0>)\n",
      "tensor(-0.0635, device='cuda:0', grad_fn=<MeanBackward0>)\n",
      "tensor(-0.0635, device='cuda:0', grad_fn=<MeanBackward0>)\n",
      "tensor(-0.0635, device='cuda:0', grad_fn=<MeanBackward0>)\n",
      "tensor(-0.0635, device='cuda:0', grad_fn=<MeanBackward0>)\n",
      "tensor(-0.0635, device='cuda:0', grad_fn=<MeanBackward0>)\n",
      "tensor(-0.0635, device='cuda:0', grad_fn=<MeanBackward0>)\n",
      "tensor(-0.0635, device='cuda:0', grad_fn=<MeanBackward0>)\n",
      "tensor(-0.0635, device='cuda:0', grad_fn=<MeanBackward0>)\n",
      "tensor(-0.0635, device='cuda:0', grad_fn=<MeanBackward0>)\n",
      "tensor(-0.0635, device='cuda:0', grad_fn=<MeanBackward0>)\n",
      "tensor(-0.0635, device='cuda:0', grad_fn=<MeanBackward0>)\n",
      "tensor(-0.0635, device='cuda:0', grad_fn=<MeanBackward0>)\n",
      "tensor(-0.0635, device='cuda:0', grad_fn=<MeanBackward0>)\n",
      "tensor(-0.0635, device='cuda:0', grad_fn=<MeanBackward0>)\n",
      "tensor(-0.0635, device='cuda:0', grad_fn=<MeanBackward0>)\n",
      "tensor(-0.0635, device='cuda:0', grad_fn=<MeanBackward0>)\n",
      "tensor(-0.0635, device='cuda:0', grad_fn=<MeanBackward0>)\n",
      "tensor(-0.0635, device='cuda:0', grad_fn=<MeanBackward0>)\n",
      "tensor(-0.0635, device='cuda:0', grad_fn=<MeanBackward0>)\n",
      "tensor(-0.0635, device='cuda:0', grad_fn=<MeanBackward0>)\n",
      "tensor(-0.0635, device='cuda:0', grad_fn=<MeanBackward0>)\n",
      "tensor(-0.0635, device='cuda:0', grad_fn=<MeanBackward0>)\n",
      "tensor(-0.0635, device='cuda:0', grad_fn=<MeanBackward0>)\n",
      "tensor(-0.0635, device='cuda:0', grad_fn=<MeanBackward0>)\n",
      "tensor(-0.0635, device='cuda:0', grad_fn=<MeanBackward0>)\n",
      "tensor(-0.0635, device='cuda:0', grad_fn=<MeanBackward0>)\n",
      "tensor(-0.0635, device='cuda:0', grad_fn=<MeanBackward0>)\n",
      "tensor(-0.0635, device='cuda:0', grad_fn=<MeanBackward0>)\n",
      "tensor(-0.0635, device='cuda:0', grad_fn=<MeanBackward0>)\n",
      "tensor(-0.0635, device='cuda:0', grad_fn=<MeanBackward0>)\n",
      "tensor(-0.0635, device='cuda:0', grad_fn=<MeanBackward0>)\n",
      "tensor(-0.0635, device='cuda:0', grad_fn=<MeanBackward0>)\n",
      "tensor(-0.0635, device='cuda:0', grad_fn=<MeanBackward0>)\n",
      "tensor(-0.0635, device='cuda:0', grad_fn=<MeanBackward0>)\n",
      "tensor(-0.0635, device='cuda:0', grad_fn=<MeanBackward0>)\n",
      "tensor(-0.0635, device='cuda:0', grad_fn=<MeanBackward0>)\n",
      "tensor(-0.0635, device='cuda:0', grad_fn=<MeanBackward0>)\n",
      "tensor(-0.0635, device='cuda:0', grad_fn=<MeanBackward0>)\n",
      "tensor(-0.0635, device='cuda:0', grad_fn=<MeanBackward0>)\n",
      "tensor(-0.0635, device='cuda:0', grad_fn=<MeanBackward0>)\n",
      "tensor(-0.0635, device='cuda:0', grad_fn=<MeanBackward0>)\n",
      "tensor(-0.0635, device='cuda:0', grad_fn=<MeanBackward0>)\n",
      "tensor(-0.0635, device='cuda:0', grad_fn=<MeanBackward0>)\n",
      "tensor(-0.0635, device='cuda:0', grad_fn=<MeanBackward0>)\n",
      "tensor(-0.0635, device='cuda:0', grad_fn=<MeanBackward0>)\n",
      "tensor(-0.0635, device='cuda:0', grad_fn=<MeanBackward0>)\n",
      "tensor(-0.0635, device='cuda:0', grad_fn=<MeanBackward0>)\n",
      "tensor(-0.0635, device='cuda:0', grad_fn=<MeanBackward0>)\n",
      "tensor(-0.0635, device='cuda:0', grad_fn=<MeanBackward0>)\n",
      "tensor(-0.0635, device='cuda:0', grad_fn=<MeanBackward0>)\n",
      "tensor(-0.0635, device='cuda:0', grad_fn=<MeanBackward0>)\n",
      "tensor(-0.0635, device='cuda:0', grad_fn=<MeanBackward0>)\n",
      "tensor(-0.0635, device='cuda:0', grad_fn=<MeanBackward0>)\n",
      "tensor(-0.0635, device='cuda:0', grad_fn=<MeanBackward0>)\n",
      "tensor(-0.0635, device='cuda:0', grad_fn=<MeanBackward0>)\n"
     ]
    },
    {
     "name": "stdout",
     "output_type": "stream",
     "text": [
      "tensor(-0.0635, device='cuda:0', grad_fn=<MeanBackward0>)\n",
      "tensor(-0.0635, device='cuda:0', grad_fn=<MeanBackward0>)\n",
      "tensor(-0.0635, device='cuda:0', grad_fn=<MeanBackward0>)\n",
      "tensor(-0.0635, device='cuda:0', grad_fn=<MeanBackward0>)\n",
      "tensor(-0.0635, device='cuda:0', grad_fn=<MeanBackward0>)\n",
      "tensor(-0.0635, device='cuda:0', grad_fn=<MeanBackward0>)\n",
      "tensor(-0.0635, device='cuda:0', grad_fn=<MeanBackward0>)\n",
      "tensor(-0.0635, device='cuda:0', grad_fn=<MeanBackward0>)\n",
      "tensor(-0.0635, device='cuda:0', grad_fn=<MeanBackward0>)\n",
      "tensor(-0.0635, device='cuda:0', grad_fn=<MeanBackward0>)\n",
      "tensor(-0.0635, device='cuda:0', grad_fn=<MeanBackward0>)\n",
      "tensor(-0.0635, device='cuda:0', grad_fn=<MeanBackward0>)\n",
      "tensor(-0.0635, device='cuda:0', grad_fn=<MeanBackward0>)\n",
      "tensor(-0.0635, device='cuda:0', grad_fn=<MeanBackward0>)\n",
      "tensor(-0.0635, device='cuda:0', grad_fn=<MeanBackward0>)\n",
      "tensor(-0.0635, device='cuda:0', grad_fn=<MeanBackward0>)\n",
      "tensor(-0.0635, device='cuda:0', grad_fn=<MeanBackward0>)\n",
      "tensor(-0.0635, device='cuda:0', grad_fn=<MeanBackward0>)\n",
      "tensor(-0.0635, device='cuda:0', grad_fn=<MeanBackward0>)\n",
      "tensor(-0.0635, device='cuda:0', grad_fn=<MeanBackward0>)\n",
      "tensor(-0.0635, device='cuda:0', grad_fn=<MeanBackward0>)\n",
      "tensor(-0.0635, device='cuda:0', grad_fn=<MeanBackward0>)\n",
      "tensor(-0.0635, device='cuda:0', grad_fn=<MeanBackward0>)\n",
      "tensor(-0.0635, device='cuda:0', grad_fn=<MeanBackward0>)\n",
      "tensor(-0.0635, device='cuda:0', grad_fn=<MeanBackward0>)\n",
      "tensor(-0.0635, device='cuda:0', grad_fn=<MeanBackward0>)\n",
      "tensor(-0.0635, device='cuda:0', grad_fn=<MeanBackward0>)\n",
      "tensor(-0.0635, device='cuda:0', grad_fn=<MeanBackward0>)\n",
      "tensor(-0.0635, device='cuda:0', grad_fn=<MeanBackward0>)\n",
      "tensor(-0.0635, device='cuda:0', grad_fn=<MeanBackward0>)\n",
      "tensor(-0.0635, device='cuda:0', grad_fn=<MeanBackward0>)\n",
      "tensor(-0.0635, device='cuda:0', grad_fn=<MeanBackward0>)\n",
      "tensor(-0.0635, device='cuda:0', grad_fn=<MeanBackward0>)\n",
      "tensor(-0.0635, device='cuda:0', grad_fn=<MeanBackward0>)\n",
      "tensor(-0.0635, device='cuda:0', grad_fn=<MeanBackward0>)\n",
      "tensor(-0.0635, device='cuda:0', grad_fn=<MeanBackward0>)\n",
      "tensor(-0.0635, device='cuda:0', grad_fn=<MeanBackward0>)\n",
      "tensor(-0.0635, device='cuda:0', grad_fn=<MeanBackward0>)\n",
      "tensor(-0.0635, device='cuda:0', grad_fn=<MeanBackward0>)\n",
      "tensor(-0.0635, device='cuda:0', grad_fn=<MeanBackward0>)\n",
      "tensor(-0.0635, device='cuda:0', grad_fn=<MeanBackward0>)\n",
      "tensor(-0.0635, device='cuda:0', grad_fn=<MeanBackward0>)\n",
      "tensor(-0.0635, device='cuda:0', grad_fn=<MeanBackward0>)\n",
      "tensor(-0.0635, device='cuda:0', grad_fn=<MeanBackward0>)\n",
      "tensor(-0.0635, device='cuda:0', grad_fn=<MeanBackward0>)\n",
      "tensor(-0.0635, device='cuda:0', grad_fn=<MeanBackward0>)\n",
      "tensor(-0.0635, device='cuda:0', grad_fn=<MeanBackward0>)\n",
      "tensor(-0.0635, device='cuda:0', grad_fn=<MeanBackward0>)\n",
      "tensor(-0.0635, device='cuda:0', grad_fn=<MeanBackward0>)\n",
      "tensor(-0.0635, device='cuda:0', grad_fn=<MeanBackward0>)\n",
      "tensor(-0.0635, device='cuda:0', grad_fn=<MeanBackward0>)\n",
      "tensor(-0.0635, device='cuda:0', grad_fn=<MeanBackward0>)\n",
      "tensor(-0.0635, device='cuda:0', grad_fn=<MeanBackward0>)\n",
      "tensor(-0.0635, device='cuda:0', grad_fn=<MeanBackward0>)\n",
      "tensor(-0.0635, device='cuda:0', grad_fn=<MeanBackward0>)\n",
      "tensor(-0.0635, device='cuda:0', grad_fn=<MeanBackward0>)\n",
      "tensor(-0.0635, device='cuda:0', grad_fn=<MeanBackward0>)\n",
      "tensor(-0.0635, device='cuda:0', grad_fn=<MeanBackward0>)\n",
      "tensor(-0.0635, device='cuda:0', grad_fn=<MeanBackward0>)\n",
      "tensor(-0.0635, device='cuda:0', grad_fn=<MeanBackward0>)\n",
      "tensor(-0.0635, device='cuda:0', grad_fn=<MeanBackward0>)\n",
      "tensor(-0.0635, device='cuda:0', grad_fn=<MeanBackward0>)\n",
      "tensor(-0.0635, device='cuda:0', grad_fn=<MeanBackward0>)\n",
      "tensor(-0.0635, device='cuda:0', grad_fn=<MeanBackward0>)\n",
      "tensor(-0.0635, device='cuda:0', grad_fn=<MeanBackward0>)\n",
      "tensor(-0.0635, device='cuda:0', grad_fn=<MeanBackward0>)\n",
      "tensor(-0.0635, device='cuda:0', grad_fn=<MeanBackward0>)\n",
      "tensor(-0.0635, device='cuda:0', grad_fn=<MeanBackward0>)\n",
      "tensor(-0.0635, device='cuda:0', grad_fn=<MeanBackward0>)\n",
      "tensor(-0.0635, device='cuda:0', grad_fn=<MeanBackward0>)\n",
      "tensor(-0.0635, device='cuda:0', grad_fn=<MeanBackward0>)\n",
      "tensor(-0.0635, device='cuda:0', grad_fn=<MeanBackward0>)\n",
      "tensor(-0.0635, device='cuda:0', grad_fn=<MeanBackward0>)\n",
      "tensor(-0.0635, device='cuda:0', grad_fn=<MeanBackward0>)\n",
      "tensor(-0.0635, device='cuda:0', grad_fn=<MeanBackward0>)\n",
      "tensor(-0.0635, device='cuda:0', grad_fn=<MeanBackward0>)\n",
      "tensor(-0.0635, device='cuda:0', grad_fn=<MeanBackward0>)\n",
      "tensor(-0.0635, device='cuda:0', grad_fn=<MeanBackward0>)\n",
      "tensor(-0.0635, device='cuda:0', grad_fn=<MeanBackward0>)\n",
      "tensor(-0.0635, device='cuda:0', grad_fn=<MeanBackward0>)\n",
      "tensor(-0.0635, device='cuda:0', grad_fn=<MeanBackward0>)\n",
      "tensor(-0.0635, device='cuda:0', grad_fn=<MeanBackward0>)\n",
      "tensor(-0.0635, device='cuda:0', grad_fn=<MeanBackward0>)\n",
      "tensor(-0.0635, device='cuda:0', grad_fn=<MeanBackward0>)\n",
      "tensor(-0.0635, device='cuda:0', grad_fn=<MeanBackward0>)\n",
      "tensor(-0.0635, device='cuda:0', grad_fn=<MeanBackward0>)\n",
      "tensor(-0.0635, device='cuda:0', grad_fn=<MeanBackward0>)\n",
      "tensor(-0.0635, device='cuda:0', grad_fn=<MeanBackward0>)\n",
      "tensor(-0.0635, device='cuda:0', grad_fn=<MeanBackward0>)\n",
      "tensor(-0.0635, device='cuda:0', grad_fn=<MeanBackward0>)\n",
      "tensor(-0.0635, device='cuda:0', grad_fn=<MeanBackward0>)\n",
      "tensor(-0.0635, device='cuda:0', grad_fn=<MeanBackward0>)\n",
      "tensor(-0.0635, device='cuda:0', grad_fn=<MeanBackward0>)\n",
      "tensor(-0.0635, device='cuda:0', grad_fn=<MeanBackward0>)\n",
      "tensor(-0.0635, device='cuda:0', grad_fn=<MeanBackward0>)\n",
      "tensor(-0.0635, device='cuda:0', grad_fn=<MeanBackward0>)\n",
      "tensor(-0.0635, device='cuda:0', grad_fn=<MeanBackward0>)\n",
      "tensor(-0.0635, device='cuda:0', grad_fn=<MeanBackward0>)\n",
      "tensor(-0.0635, device='cuda:0', grad_fn=<MeanBackward0>)\n",
      "tensor(-0.0635, device='cuda:0', grad_fn=<MeanBackward0>)\n",
      "tensor(-0.0635, device='cuda:0', grad_fn=<MeanBackward0>)\n",
      "tensor(-0.0635, device='cuda:0', grad_fn=<MeanBackward0>)\n",
      "tensor(-0.0635, device='cuda:0', grad_fn=<MeanBackward0>)\n",
      "tensor(-0.0635, device='cuda:0', grad_fn=<MeanBackward0>)\n",
      "tensor(-0.0635, device='cuda:0', grad_fn=<MeanBackward0>)\n",
      "tensor(-0.0635, device='cuda:0', grad_fn=<MeanBackward0>)\n",
      "tensor(-0.0635, device='cuda:0', grad_fn=<MeanBackward0>)\n",
      "tensor(-0.0635, device='cuda:0', grad_fn=<MeanBackward0>)\n",
      "tensor(-0.0635, device='cuda:0', grad_fn=<MeanBackward0>)\n",
      "tensor(-0.0635, device='cuda:0', grad_fn=<MeanBackward0>)\n",
      "tensor(-0.0635, device='cuda:0', grad_fn=<MeanBackward0>)\n",
      "tensor(-0.0635, device='cuda:0', grad_fn=<MeanBackward0>)\n",
      "tensor(-0.0635, device='cuda:0', grad_fn=<MeanBackward0>)\n",
      "tensor(-0.0635, device='cuda:0', grad_fn=<MeanBackward0>)\n",
      "tensor(-0.0635, device='cuda:0', grad_fn=<MeanBackward0>)\n",
      "tensor(-0.0635, device='cuda:0', grad_fn=<MeanBackward0>)\n",
      "tensor(-0.0635, device='cuda:0', grad_fn=<MeanBackward0>)\n",
      "tensor(-0.0635, device='cuda:0', grad_fn=<MeanBackward0>)\n",
      "tensor(-0.0635, device='cuda:0', grad_fn=<MeanBackward0>)\n",
      "tensor(-0.0635, device='cuda:0', grad_fn=<MeanBackward0>)\n",
      "tensor(-0.0635, device='cuda:0', grad_fn=<MeanBackward0>)\n",
      "Found optimal filters after 1193 iterations with loss -0.06354385614395142\n"
     ]
    }
   ],
   "source": [
    "losses = fo.optimize(X, X_t)"
   ]
  },
  {
   "cell_type": "code",
   "execution_count": null,
   "id": "46421f75",
   "metadata": {},
   "outputs": [],
   "source": []
  },
  {
   "cell_type": "code",
   "execution_count": 193,
   "id": "e048d4bc",
   "metadata": {},
   "outputs": [
    {
     "data": {
      "image/png": "[encoded data removed]",
      "text/plain": [
       "<Figure size 432x288 with 1 Axes>"
      ]
     },
     "metadata": {
      "needs_background": "light"
     },
     "output_type": "display_data"
    },
    {
     "data": {
      "image/png": "[encoded data removed]",
      "text/plain": [
       "<Figure size 432x288 with 1 Axes>"
      ]
     },
     "metadata": {
      "needs_background": "light"
     },
     "output_type": "display_data"
    }
   ],
   "source": [
    "plot_image(model(totensor(ImageFormat.torch(X), device='cuda'))[image_i])\n",
    "plot_image(model(totensor(ImageFormat.torch(X_t), device='cuda'))[image_i])"
   ]
  },
  {
   "cell_type": "code",
   "execution_count": 190,
   "id": "e94890d7",
   "metadata": {},
   "outputs": [
    {
     "data": {
      "text/plain": [
       "tensor(1., device='cuda:0')"
      ]
     },
     "execution_count": 190,
     "metadata": {},
     "output_type": "execute_result"
    }
   ],
   "source": [
    "t_"
   ]
  },
  {
   "cell_type": "code",
   "execution_count": 39,
   "id": "abfc83bb",
   "metadata": {},
   "outputs": [
    {
     "data": {
      "image/png": "[encoded data removed]",
      "text/plain": [
       "<Figure size 432x288 with 1 Axes>"
      ]
     },
     "metadata": {
      "needs_background": "light"
     },
     "output_type": "display_data"
    },
    {
     "data": {
      "image/png": "[encoded data removed]",
      "text/plain": [
       "<Figure size 432x288 with 1 Axes>"
      ]
     },
     "metadata": {
      "needs_background": "light"
     },
     "output_type": "display_data"
    }
   ],
   "source": [
    "t_pred = conv(totensor(ImageFormat.torch(X_t), device='cuda'))[image_i]\n",
    "xmin, xmax = t_pred.min(), t_pred.max()\n",
    "\n",
    "plot_image(conv(totensor(ImageFormat.torch(X), device='cuda'))[image_i], minmax=(xmin, xmax), file='filteroptimiser_img2.svg')\n",
    "plot_image(t_pred, minmax=(xmin,xmax), file='filteroptimiser_img2t.svg')"
   ]
  },
  {
   "cell_type": "code",
   "execution_count": 13,
   "id": "628f7df0",
   "metadata": {},
   "outputs": [
    {
     "ename": "NameError",
     "evalue": "name 't_pred' is not defined",
     "output_type": "error",
     "traceback": [
      "\u001b[0;31m---------------------------------------------------------------------------\u001b[0m",
      "\u001b[0;31mNameError\u001b[0m                                 Traceback (most recent call last)",
      "\u001b[0;32m/tmp/ipykernel_133351/433548785.py\u001b[0m in \u001b[0;36m<module>\u001b[0;34m\u001b[0m\n\u001b[0;32m----> 1\u001b[0;31m \u001b[0mt_pred\u001b[0m\u001b[0;34m.\u001b[0m\u001b[0mmax\u001b[0m\u001b[0;34m(\u001b[0m\u001b[0;34m)\u001b[0m\u001b[0;34m\u001b[0m\u001b[0;34m\u001b[0m\u001b[0m\n\u001b[0m",
      "\u001b[0;31mNameError\u001b[0m: name 't_pred' is not defined"
     ]
    }
   ],
   "source": [
    "t_pred.max()"
   ]
  },
  {
   "cell_type": "code",
   "execution_count": 209,
   "id": "4d6235ff",
   "metadata": {},
   "outputs": [
    {
     "data": {
      "text/plain": [
       "tensor([[[[ 0.0747, -0.0925,  0.0376],\n",
       "          [-0.1324,  0.1666, -0.0914],\n",
       "          [ 0.0777, -0.1332,  0.0756]],\n",
       "\n",
       "         [[ 0.0753, -0.0917,  0.0382],\n",
       "          [-0.1313,  0.1688, -0.0901],\n",
       "          [ 0.0791, -0.1311,  0.0778]],\n",
       "\n",
       "         [[ 0.0925, -0.0751,  0.0504],\n",
       "          [-0.1093,  0.1949, -0.0732],\n",
       "          [ 0.0969, -0.1090,  0.0956]]]], device='cuda:0',\n",
       "       grad_fn=<WeightNormCudaInterfaceBackward>)"
      ]
     },
     "execution_count": 209,
     "metadata": {},
     "output_type": "execute_result"
    }
   ],
   "source": [
    "conv.weight"
   ]
  },
  {
   "cell_type": "code",
   "execution_count": 30,
   "id": "9cd3a844",
   "metadata": {},
   "outputs": [
    {
     "data": {
      "image/png": "[encoded data removed]",
      "text/plain": [
       "<Figure size 432x288 with 1 Axes>"
      ]
     },
     "metadata": {
      "needs_background": "light"
     },
     "output_type": "display_data"
    }
   ],
   "source": [
    "from backdoor.utils import tonp\n",
    "# w =\n",
    "w = tonp(conv.weight[0])\n",
    "w -= w.min()\n",
    "w /= w.max()\n",
    "w = np.swapaxes(w, 0, 2)\n",
    "# print(w.min(), w.max())\n",
    "plt.axis('off')\n",
    "# plt.title('Learned CONFilter')\n",
    "\n",
    "plt.imshow(w)\n",
    "plt.savefig('filter.svg',bbox_inches='tight')"
   ]
  },
  {
   "cell_type": "code",
   "execution_count": 125,
   "id": "3b951016",
   "metadata": {},
   "outputs": [
    {
     "data": {
      "text/plain": [
       "<matplotlib.image.AxesImage at 0x7f9c89125880>"
      ]
     },
     "execution_count": 125,
     "metadata": {},
     "output_type": "execute_result"
    },
    {
     "data": {
      "image/png": "[encoded data removed]",
      "text/plain": [
       "<Figure size 432x288 with 1 Axes>"
      ]
     },
     "metadata": {
      "needs_background": "light"
     },
     "output_type": "display_data"
    }
   ],
   "source": [
    "plt.imshow(w[1])"
   ]
  },
  {
   "cell_type": "code",
   "execution_count": 126,
   "id": "dfa84b12",
   "metadata": {},
   "outputs": [
    {
     "data": {
      "text/plain": [
       "<matplotlib.image.AxesImage at 0x7f9c899efd30>"
      ]
     },
     "execution_count": 126,
     "metadata": {},
     "output_type": "execute_result"
    },
    {
     "data": {
      "image/png": "[encoded data removed]",
      "text/plain": [
       "<Figure size 432x288 with 1 Axes>"
      ]
     },
     "metadata": {
      "needs_background": "light"
     },
     "output_type": "display_data"
    }
   ],
   "source": [
    "plt.imshow(w[2])"
   ]
  },
  {
   "cell_type": "code",
   "execution_count": 127,
   "id": "62c32b9b",
   "metadata": {},
   "outputs": [
    {
     "data": {
      "text/plain": [
       "<matplotlib.image.AxesImage at 0x7f9c892bb550>"
      ]
     },
     "execution_count": 127,
     "metadata": {},
     "output_type": "execute_result"
    },
    {
     "data": {
      "image/png": "[encoded data removed]",
      "text/plain": [
       "<Figure size 432x288 with 1 Axes>"
      ]
     },
     "metadata": {
      "needs_background": "light"
     },
     "output_type": "display_data"
    }
   ],
   "source": [
    "plt.imshow(w)"
   ]
  },
  {
   "cell_type": "code",
   "execution_count": 128,
   "id": "9fedfc8a",
   "metadata": {},
   "outputs": [
    {
     "data": {
      "text/plain": [
       "array([[[1, 0, 1],\n",
       "        [0, 1, 0],\n",
       "        [1, 0, 1]],\n",
       "\n",
       "       [[1, 0, 1],\n",
       "        [0, 1, 0],\n",
       "        [1, 0, 1]],\n",
       "\n",
       "       [[1, 0, 1],\n",
       "        [0, 1, 0],\n",
       "        [1, 0, 1]]], dtype=uint8)"
      ]
     },
     "execution_count": 128,
     "metadata": {},
     "output_type": "execute_result"
    }
   ],
   "source": [
    "ImageFormat.scikit(w)"
   ]
  },
  {
   "cell_type": "code",
   "execution_count": 129,
   "id": "4576ae9d",
   "metadata": {},
   "outputs": [
    {
     "data": {
      "text/plain": [
       "(3, 3, 3)"
      ]
     },
     "execution_count": 129,
     "metadata": {},
     "output_type": "execute_result"
    }
   ],
   "source": [
    "w.shape"
   ]
  },
  {
   "cell_type": "code",
   "execution_count": 50,
   "id": "f46670d5",
   "metadata": {},
   "outputs": [
    {
     "data": {
      "image/png": "[encoded data removed]",
      "text/plain": [
       "<Figure size 288x216 with 1 Axes>"
      ]
     },
     "metadata": {
      "needs_background": "light"
     },
     "output_type": "display_data"
    }
   ],
   "source": [
    "plt.figure(figsize=(4, 3))\n",
    "plt.plot(np.array(losses[:300]))\n",
    "plt.xlabel('Iterations')\n",
    "plt.xticks([0, 100, 200, 300])\n",
    "plt.ylabel('Loss')\n",
    "plt.title('Training behaviour')\n",
    "plt.grid(alpha=0.3)\n",
    "plt.savefig('filteroptimiser-b.pdf', bbox_inches='tight')"
   ]
  },
  {
   "cell_type": "code",
   "execution_count": null,
   "id": "d63b0a6e",
   "metadata": {},
   "outputs": [],
   "source": []
  }
 ],
 "metadata": {
  "kernelspec": {
   "display_name": "Python 3 (ipykernel)",
   "language": "python",
   "name": "python3"
  },
  "language_info": {
   "codemirror_mode": {
    "name": "ipython",
    "version": 3
   },
   "file_extension": ".py",
   "mimetype": "text/x-python",
   "name": "python",
   "nbconvert_exporter": "python",
   "pygments_lexer": "ipython3",
   "version": "3.9.7"
  }
 },
 "nbformat": 4,
 "nbformat_minor": 5
}
