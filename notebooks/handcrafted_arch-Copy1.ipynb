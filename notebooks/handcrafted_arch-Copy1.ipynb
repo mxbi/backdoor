{
 "cells": [
  {
   "cell_type": "code",
   "execution_count": 1,
   "id": "b542e210",
   "metadata": {},
   "outputs": [],
   "source": [
    "import sys\n",
    "sys.path.append('../')\n",
    "\n",
    "from backdoor.dataset import cifar10"
   ]
  },
  {
   "cell_type": "code",
   "execution_count": 2,
   "id": "67798d24",
   "metadata": {},
   "outputs": [],
   "source": [
    "cifar = cifar10.CIFAR10().get_data()"
   ]
  },
  {
   "cell_type": "code",
   "execution_count": 41,
   "id": "911d66a5",
   "metadata": {},
   "outputs": [],
   "source": [
    "import matplotlib.pyplot as plt\n",
    "from backdoor.image_utils import ImageFormat\n",
    "import numpy as np\n",
    "\n",
    "def plot(img):\n",
    "    if img.ndim > 2 and ImageFormat.detect_format(img) == 'torch':\n",
    "#         img = ImageFormat.scikit(img)\n",
    "       img = np.moveaxis(img, 0, 2)\n",
    "    print((img.min(), img.max()))\n",
    "    img = img.astype(float)\n",
    "    img -= img.min()\n",
    "    img /= img.max()\n",
    "    if img.ndim == 2:\n",
    "        plt.imshow(img, cmap='gray')\n",
    "    else:\n",
    "        plt.imshow(img)\n",
    "    plt.show()"
   ]
  },
  {
   "cell_type": "code",
   "execution_count": 9,
   "id": "9579ea18",
   "metadata": {},
   "outputs": [],
   "source": [
    "example = ImageFormat.torch(cifar['train'][0][0])\n",
    "\n",
    "def add_backdoor(example):\n",
    "    # Adds in torch mode\n",
    "    e = example.copy()\n",
    "    white = [1, 1, 1]\n",
    "    black = white #[-1, -1, -1]\n",
    "    e[:, :3, :3] = white\n",
    "#     e[:, 0, 0] = white\n",
    "#     e[:, 0, 2] = white\n",
    "#     e[:, 1, 1] = white\n",
    "#     e[:, 2, 0] = white\n",
    "#     e[:, 2, ] = white\n",
    "#     e[:, 1, 2] = black\n",
    "#     e[:, 2, 1] = black\n",
    "#     e[:, 2, 3] = black\n",
    "#     e[:, 3, 2] = black\n",
    "    return e"
   ]
  },
  {
   "cell_type": "code",
   "execution_count": 73,
   "id": "bc48bc5f",
   "metadata": {},
   "outputs": [
    {
     "name": "stdout",
     "output_type": "stream",
     "text": [
      "-1.0 1.0\n"
     ]
    },
    {
     "data": {
      "image/png": "[encoded data removed]",
      "text/plain": [
       "<Figure size 432x288 with 1 Axes>"
      ]
     },
     "metadata": {
      "needs_background": "light"
     },
     "output_type": "display_data"
    }
   ],
   "source": [
    "plot(example)"
   ]
  },
  {
   "cell_type": "code",
   "execution_count": 74,
   "id": "9d8ad999",
   "metadata": {},
   "outputs": [
    {
     "name": "stdout",
     "output_type": "stream",
     "text": [
      "-1.0 1.0\n"
     ]
    },
    {
     "data": {
      "image/png": "[encoded data removed]",
      "text/plain": [
       "<Figure size 432x288 with 1 Axes>"
      ]
     },
     "metadata": {
      "needs_background": "light"
     },
     "output_type": "display_data"
    }
   ],
   "source": [
    "plot(add_backdoor(example))"
   ]
  },
  {
   "cell_type": "code",
   "execution_count": null,
   "id": "036d252e",
   "metadata": {},
   "outputs": [],
   "source": []
  },
  {
   "cell_type": "code",
   "execution_count": 31,
   "id": "27d42a2d",
   "metadata": {},
   "outputs": [],
   "source": [
    "backdoored = add_backdoor(example)"
   ]
  },
  {
   "cell_type": "code",
   "execution_count": 34,
   "id": "3b7f6a28",
   "metadata": {},
   "outputs": [
    {
     "name": "stdout",
     "output_type": "stream",
     "text": [
      "0.0 224.35915\n"
     ]
    },
    {
     "data": {
      "image/png": "[encoded data removed]",
      "text/plain": [
       "<Figure size 432x288 with 1 Axes>"
      ]
     },
     "metadata": {
      "needs_background": "light"
     },
     "output_type": "display_data"
    }
   ],
   "source": [
    "plot(white_activation(backdoored))"
   ]
  },
  {
   "cell_type": "code",
   "execution_count": 23,
   "id": "c89af84f",
   "metadata": {},
   "outputs": [],
   "source": [
    "import numpy as np\n",
    "def white_activation(x):\n",
    "    return (np.e**x - 1)**10\n",
    "\n",
    "def black_activation(x):\n",
    "    return white_activation(-x)"
   ]
  },
  {
   "cell_type": "code",
   "execution_count": 14,
   "id": "0ffac203",
   "metadata": {},
   "outputs": [
    {
     "data": {
      "text/plain": [
       "array([[[2.24359146e+02, 2.24359146e+02, 2.24359146e+02, ...,\n",
       "         2.07825383e-06, 1.82181026e-07, 2.60767621e-08],\n",
       "        [2.24359146e+02, 2.24359146e+02, 2.24359146e+02, ...,\n",
       "         2.51539033e-15, 1.24487519e-12, 1.79965008e-14],\n",
       "        [2.24359146e+02, 2.24359146e+02, 2.24359146e+02, ...,\n",
       "         3.64201204e-12, 3.70173239e-13, 2.01998596e-09],\n",
       "        ...,\n",
       "        [2.79101014e-01, 8.30866396e-02, 4.81584035e-02, ...,\n",
       "         4.25595090e-06, 2.12319399e-04, 2.87903764e-04],\n",
       "        [1.17832562e-03, 2.10354046e-04, 4.47515165e-03, ...,\n",
       "         2.90482584e-03, 1.90018469e-07, 4.92756635e-06],\n",
       "        [5.77076396e-04, 5.33892999e-05, 9.32306342e-04, ...,\n",
       "         1.01958978e+00, 1.15333656e-07, 2.51539033e-15]],\n",
       "\n",
       "       [[2.24359146e+02, 2.24359146e+02, 2.24359146e+02, ...,\n",
       "         3.58013510e-15, 7.61713982e-18, 2.11886906e-16],\n",
       "        [2.24359146e+02, 2.24359146e+02, 2.24359146e+02, ...,\n",
       "         1.80091195e-06, 4.92756635e-06, 2.22807080e-06],\n",
       "        [2.24359146e+02, 2.24359146e+02, 2.24359146e+02, ...,\n",
       "         4.07360039e-06, 4.07360039e-06, 2.59225526e-05],\n",
       "        ...,\n",
       "        [9.39074016e-05, 2.83028641e-07, 6.00311068e-06, ...,\n",
       "         2.77035339e-14, 1.77759875e-03, 1.43708603e-03],\n",
       "        [5.61322031e-11, 2.51539033e-15, 2.53385468e-09, ...,\n",
       "         2.60767621e-08, 1.09502129e-04, 2.87903764e-04],\n",
       "        [2.53385468e-09, 5.38781249e-20, 6.42496889e-10, ...,\n",
       "         2.90482584e-03, 3.64201204e-12, 7.18778040e-07]],\n",
       "\n",
       "       [[2.24359146e+02, 2.24359146e+02, 2.24359146e+02, ...,\n",
       "         3.29130345e-09, 3.83037104e-08, 2.66670508e-08],\n",
       "        [2.24359146e+02, 2.24359146e+02, 2.24359146e+02, ...,\n",
       "         2.35435742e-04, 3.84285755e-04, 1.91107931e-04],\n",
       "        [2.24359146e+02, 2.24359146e+02, 2.24359146e+02, ...,\n",
       "         3.84285755e-04, 3.84285755e-04, 7.75293971e-04],\n",
       "        ...,\n",
       "        [2.52674255e-07, 1.43708603e-03, 2.48299446e-03, ...,\n",
       "         3.97215335e-05, 7.29389861e-03, 3.59764090e-03],\n",
       "        [2.52674255e-07, 7.75293971e-04, 1.90420810e-03, ...,\n",
       "         4.33797879e-07, 1.43708603e-03, 1.43708603e-03],\n",
       "        [2.27766243e-11, 4.33797879e-07, 2.22807080e-06, ...,\n",
       "         1.34471573e-10, 4.07360039e-06, 2.99800486e-05]]], dtype=float32)"
      ]
     },
     "execution_count": 14,
     "metadata": {},
     "output_type": "execute_result"
    }
   ],
   "source": [
    "white_activation(backdoored)"
   ]
  },
  {
   "cell_type": "code",
   "execution_count": 40,
   "id": "51a631c6",
   "metadata": {},
   "outputs": [
    {
     "ename": "TypeError",
     "evalue": "Invalid shape (3, 32, 32) for image data",
     "output_type": "error",
     "traceback": [
      "\u001b[0;31m---------------------------------------------------------------------------\u001b[0m",
      "\u001b[0;31mTypeError\u001b[0m                                 Traceback (most recent call last)",
      "\u001b[0;32m/tmp/ipykernel_2262727/3434047410.py\u001b[0m in \u001b[0;36m<module>\u001b[0;34m\u001b[0m\n\u001b[0;32m----> 1\u001b[0;31m \u001b[0mplt\u001b[0m\u001b[0;34m.\u001b[0m\u001b[0mimshow\u001b[0m\u001b[0;34m(\u001b[0m\u001b[0mexample\u001b[0m\u001b[0;34m)\u001b[0m\u001b[0;34m\u001b[0m\u001b[0;34m\u001b[0m\u001b[0m\n\u001b[0m",
      "\u001b[0;32m~/anaconda3/envs/backdoor/lib/python3.9/site-packages/matplotlib/pyplot.py\u001b[0m in \u001b[0;36mimshow\u001b[0;34m(X, cmap, norm, aspect, interpolation, alpha, vmin, vmax, origin, extent, filternorm, filterrad, resample, url, data, **kwargs)\u001b[0m\n\u001b[1;32m   2901\u001b[0m         \u001b[0mfilternorm\u001b[0m\u001b[0;34m=\u001b[0m\u001b[0;32mTrue\u001b[0m\u001b[0;34m,\u001b[0m \u001b[0mfilterrad\u001b[0m\u001b[0;34m=\u001b[0m\u001b[0;36m4.0\u001b[0m\u001b[0;34m,\u001b[0m \u001b[0mresample\u001b[0m\u001b[0;34m=\u001b[0m\u001b[0;32mNone\u001b[0m\u001b[0;34m,\u001b[0m \u001b[0murl\u001b[0m\u001b[0;34m=\u001b[0m\u001b[0;32mNone\u001b[0m\u001b[0;34m,\u001b[0m\u001b[0;34m\u001b[0m\u001b[0;34m\u001b[0m\u001b[0m\n\u001b[1;32m   2902\u001b[0m         data=None, **kwargs):\n\u001b[0;32m-> 2903\u001b[0;31m     __ret = gca().imshow(\n\u001b[0m\u001b[1;32m   2904\u001b[0m         \u001b[0mX\u001b[0m\u001b[0;34m,\u001b[0m \u001b[0mcmap\u001b[0m\u001b[0;34m=\u001b[0m\u001b[0mcmap\u001b[0m\u001b[0;34m,\u001b[0m \u001b[0mnorm\u001b[0m\u001b[0;34m=\u001b[0m\u001b[0mnorm\u001b[0m\u001b[0;34m,\u001b[0m \u001b[0maspect\u001b[0m\u001b[0;34m=\u001b[0m\u001b[0maspect\u001b[0m\u001b[0;34m,\u001b[0m\u001b[0;34m\u001b[0m\u001b[0;34m\u001b[0m\u001b[0m\n\u001b[1;32m   2905\u001b[0m         \u001b[0minterpolation\u001b[0m\u001b[0;34m=\u001b[0m\u001b[0minterpolation\u001b[0m\u001b[0;34m,\u001b[0m \u001b[0malpha\u001b[0m\u001b[0;34m=\u001b[0m\u001b[0malpha\u001b[0m\u001b[0;34m,\u001b[0m \u001b[0mvmin\u001b[0m\u001b[0;34m=\u001b[0m\u001b[0mvmin\u001b[0m\u001b[0;34m,\u001b[0m\u001b[0;34m\u001b[0m\u001b[0;34m\u001b[0m\u001b[0m\n",
      "\u001b[0;32m~/anaconda3/envs/backdoor/lib/python3.9/site-packages/matplotlib/__init__.py\u001b[0m in \u001b[0;36minner\u001b[0;34m(ax, data, *args, **kwargs)\u001b[0m\n\u001b[1;32m   1359\u001b[0m     \u001b[0;32mdef\u001b[0m \u001b[0minner\u001b[0m\u001b[0;34m(\u001b[0m\u001b[0max\u001b[0m\u001b[0;34m,\u001b[0m \u001b[0;34m*\u001b[0m\u001b[0margs\u001b[0m\u001b[0;34m,\u001b[0m \u001b[0mdata\u001b[0m\u001b[0;34m=\u001b[0m\u001b[0;32mNone\u001b[0m\u001b[0;34m,\u001b[0m \u001b[0;34m**\u001b[0m\u001b[0mkwargs\u001b[0m\u001b[0;34m)\u001b[0m\u001b[0;34m:\u001b[0m\u001b[0;34m\u001b[0m\u001b[0;34m\u001b[0m\u001b[0m\n\u001b[1;32m   1360\u001b[0m         \u001b[0;32mif\u001b[0m \u001b[0mdata\u001b[0m \u001b[0;32mis\u001b[0m \u001b[0;32mNone\u001b[0m\u001b[0;34m:\u001b[0m\u001b[0;34m\u001b[0m\u001b[0;34m\u001b[0m\u001b[0m\n\u001b[0;32m-> 1361\u001b[0;31m             \u001b[0;32mreturn\u001b[0m \u001b[0mfunc\u001b[0m\u001b[0;34m(\u001b[0m\u001b[0max\u001b[0m\u001b[0;34m,\u001b[0m \u001b[0;34m*\u001b[0m\u001b[0mmap\u001b[0m\u001b[0;34m(\u001b[0m\u001b[0msanitize_sequence\u001b[0m\u001b[0;34m,\u001b[0m \u001b[0margs\u001b[0m\u001b[0;34m)\u001b[0m\u001b[0;34m,\u001b[0m \u001b[0;34m**\u001b[0m\u001b[0mkwargs\u001b[0m\u001b[0;34m)\u001b[0m\u001b[0;34m\u001b[0m\u001b[0;34m\u001b[0m\u001b[0m\n\u001b[0m\u001b[1;32m   1362\u001b[0m \u001b[0;34m\u001b[0m\u001b[0m\n\u001b[1;32m   1363\u001b[0m         \u001b[0mbound\u001b[0m \u001b[0;34m=\u001b[0m \u001b[0mnew_sig\u001b[0m\u001b[0;34m.\u001b[0m\u001b[0mbind\u001b[0m\u001b[0;34m(\u001b[0m\u001b[0max\u001b[0m\u001b[0;34m,\u001b[0m \u001b[0;34m*\u001b[0m\u001b[0margs\u001b[0m\u001b[0;34m,\u001b[0m \u001b[0;34m**\u001b[0m\u001b[0mkwargs\u001b[0m\u001b[0;34m)\u001b[0m\u001b[0;34m\u001b[0m\u001b[0;34m\u001b[0m\u001b[0m\n",
      "\u001b[0;32m~/anaconda3/envs/backdoor/lib/python3.9/site-packages/matplotlib/axes/_axes.py\u001b[0m in \u001b[0;36mimshow\u001b[0;34m(self, X, cmap, norm, aspect, interpolation, alpha, vmin, vmax, origin, extent, filternorm, filterrad, resample, url, **kwargs)\u001b[0m\n\u001b[1;32m   5607\u001b[0m                               resample=resample, **kwargs)\n\u001b[1;32m   5608\u001b[0m \u001b[0;34m\u001b[0m\u001b[0m\n\u001b[0;32m-> 5609\u001b[0;31m         \u001b[0mim\u001b[0m\u001b[0;34m.\u001b[0m\u001b[0mset_data\u001b[0m\u001b[0;34m(\u001b[0m\u001b[0mX\u001b[0m\u001b[0;34m)\u001b[0m\u001b[0;34m\u001b[0m\u001b[0;34m\u001b[0m\u001b[0m\n\u001b[0m\u001b[1;32m   5610\u001b[0m         \u001b[0mim\u001b[0m\u001b[0;34m.\u001b[0m\u001b[0mset_alpha\u001b[0m\u001b[0;34m(\u001b[0m\u001b[0malpha\u001b[0m\u001b[0;34m)\u001b[0m\u001b[0;34m\u001b[0m\u001b[0;34m\u001b[0m\u001b[0m\n\u001b[1;32m   5611\u001b[0m         \u001b[0;32mif\u001b[0m \u001b[0mim\u001b[0m\u001b[0;34m.\u001b[0m\u001b[0mget_clip_path\u001b[0m\u001b[0;34m(\u001b[0m\u001b[0;34m)\u001b[0m \u001b[0;32mis\u001b[0m \u001b[0;32mNone\u001b[0m\u001b[0;34m:\u001b[0m\u001b[0;34m\u001b[0m\u001b[0;34m\u001b[0m\u001b[0m\n",
      "\u001b[0;32m~/anaconda3/envs/backdoor/lib/python3.9/site-packages/matplotlib/image.py\u001b[0m in \u001b[0;36mset_data\u001b[0;34m(self, A)\u001b[0m\n\u001b[1;32m    707\u001b[0m         if not (self._A.ndim == 2\n\u001b[1;32m    708\u001b[0m                 or self._A.ndim == 3 and self._A.shape[-1] in [3, 4]):\n\u001b[0;32m--> 709\u001b[0;31m             raise TypeError(\"Invalid shape {} for image data\"\n\u001b[0m\u001b[1;32m    710\u001b[0m                             .format(self._A.shape))\n\u001b[1;32m    711\u001b[0m \u001b[0;34m\u001b[0m\u001b[0m\n",
      "\u001b[0;31mTypeError\u001b[0m: Invalid shape (3, 32, 32) for image data"
     ]
    },
    {
     "data": {
      "image/png": "[encoded data removed]",
      "text/plain": [
       "<Figure size 432x288 with 1 Axes>"
      ]
     },
     "metadata": {
      "needs_background": "light"
     },
     "output_type": "display_data"
    }
   ],
   "source": [
    "plt.imshow(example)"
   ]
  },
  {
   "cell_type": "code",
   "execution_count": 15,
   "id": "cc2704d5",
   "metadata": {},
   "outputs": [
    {
     "data": {
      "image/png": "[encoded data removed]",
      "text/plain": [
       "<Figure size 432x288 with 1 Axes>"
      ]
     },
     "metadata": {
      "needs_background": "light"
     },
     "output_type": "display_data"
    }
   ],
   "source": [
    "plot(white_activation(backdoored))"
   ]
  },
  {
   "cell_type": "code",
   "execution_count": 61,
   "id": "0f75d8f6",
   "metadata": {},
   "outputs": [
    {
     "data": {
      "image/png": "[encoded data removed]",
      "text/plain": [
       "<Figure size 432x288 with 1 Axes>"
      ]
     },
     "metadata": {
      "needs_background": "light"
     },
     "output_type": "display_data"
    }
   ],
   "source": [
    "plot(black_activation(backdoored)[0, :, :])"
   ]
  },
  {
   "cell_type": "code",
   "execution_count": 40,
   "id": "8ff2c2fe",
   "metadata": {},
   "outputs": [
    {
     "data": {
      "text/plain": [
       "(3, 32, 32)"
      ]
     },
     "execution_count": 40,
     "metadata": {},
     "output_type": "execute_result"
    }
   ],
   "source": [
    "white_activation(backdoored)"
   ]
  },
  {
   "cell_type": "code",
   "execution_count": 35,
   "id": "52ca3a54",
   "metadata": {},
   "outputs": [],
   "source": [
    "def minpool_3x3(example):\n",
    "#     print(example.shape)\n",
    "    # Max-pool 3x3 per channel\n",
    "    output = np.zeros((example.shape[0], example.shape[1]-2, example.shape[2]-2), dtype=np.float32)\n",
    "    for c in range(example.shape[0]):\n",
    "        for x in range(output.shape[1]):\n",
    "            for y in range(output.shape[2]):\n",
    "                output[c, x, y] = np.min(example[c, x:x+3, y:y+3])\n",
    "    return output"
   ]
  },
  {
   "cell_type": "code",
   "execution_count": 46,
   "id": "9e7da220",
   "metadata": {},
   "outputs": [
    {
     "name": "stdout",
     "output_type": "stream",
     "text": [
      "0.0 224.35915\n"
     ]
    },
    {
     "data": {
      "image/png": "[encoded data removed]",
      "text/plain": [
       "<Figure size 432x288 with 1 Axes>"
      ]
     },
     "metadata": {
      "needs_background": "light"
     },
     "output_type": "display_data"
    }
   ],
   "source": [
    "plot(minpool_3x3(white_activation(backdoored)).min(axis=0))"
   ]
  },
  {
   "cell_type": "code",
   "execution_count": 74,
   "id": "c4547fc9",
   "metadata": {},
   "outputs": [
    {
     "data": {
      "text/plain": [
       "array([[-0.5372549, -0.6627451],\n",
       "       [-0.8745098, -1.       ]], dtype=float32)"
      ]
     },
     "execution_count": 74,
     "metadata": {},
     "output_type": "execute_result"
    }
   ],
   "source": [
    "example[0, 0:2, 0:2]"
   ]
  },
  {
   "cell_type": "code",
   "execution_count": 80,
   "id": "98d7a9f6",
   "metadata": {},
   "outputs": [],
   "source": [
    "def global_maxpool(example):\n",
    "    return example.max()"
   ]
  },
  {
   "cell_type": "code",
   "execution_count": 82,
   "id": "08b53d5e",
   "metadata": {},
   "outputs": [
    {
     "name": "stdout",
     "output_type": "stream",
     "text": [
      "(3, 32, 32)\n"
     ]
    },
    {
     "data": {
      "text/plain": [
       "224.35915"
      ]
     },
     "execution_count": 82,
     "metadata": {},
     "output_type": "execute_result"
    }
   ],
   "source": [
    "global_maxpool(minpool_3x3(white_activation(backdoored)))"
   ]
  },
  {
   "cell_type": "code",
   "execution_count": 83,
   "id": "35978f07",
   "metadata": {},
   "outputs": [
    {
     "name": "stdout",
     "output_type": "stream",
     "text": [
      "(3, 32, 32)\n"
     ]
    },
    {
     "data": {
      "text/plain": [
       "24.86229"
      ]
     },
     "execution_count": 83,
     "metadata": {},
     "output_type": "execute_result"
    }
   ],
   "source": [
    "global_maxpool(minpool_3x3(white_activation(example)))"
   ]
  },
  {
   "cell_type": "code",
   "execution_count": 92,
   "id": "6f3599e2",
   "metadata": {},
   "outputs": [
    {
     "name": "stderr",
     "output_type": "stream",
     "text": [
      "  3%|████▉                                                                                                                                                      | 1581/50000 [00:35<18:01, 44.79it/s]\n"
     ]
    },
    {
     "ename": "KeyboardInterrupt",
     "evalue": "",
     "output_type": "error",
     "traceback": [
      "\u001b[0;31m---------------------------------------------------------------------------\u001b[0m",
      "\u001b[0;31mKeyboardInterrupt\u001b[0m                         Traceback (most recent call last)",
      "\u001b[0;32m/tmp/ipykernel_853942/3405008582.py\u001b[0m in \u001b[0;36m<module>\u001b[0;34m\u001b[0m\n\u001b[1;32m      8\u001b[0m     \u001b[0mbackdoored\u001b[0m \u001b[0;34m=\u001b[0m \u001b[0madd_backdoor\u001b[0m\u001b[0;34m(\u001b[0m\u001b[0mexample\u001b[0m\u001b[0;34m)\u001b[0m\u001b[0;34m\u001b[0m\u001b[0;34m\u001b[0m\u001b[0m\n\u001b[1;32m      9\u001b[0m \u001b[0;34m\u001b[0m\u001b[0m\n\u001b[0;32m---> 10\u001b[0;31m     \u001b[0mclean_hist\u001b[0m\u001b[0;34m.\u001b[0m\u001b[0mappend\u001b[0m\u001b[0;34m(\u001b[0m\u001b[0mglobal_maxpool\u001b[0m\u001b[0;34m(\u001b[0m\u001b[0mminpool_3x3\u001b[0m\u001b[0;34m(\u001b[0m\u001b[0mwhite_activation\u001b[0m\u001b[0;34m(\u001b[0m\u001b[0mexample\u001b[0m\u001b[0;34m)\u001b[0m\u001b[0;34m)\u001b[0m\u001b[0;34m)\u001b[0m\u001b[0;34m)\u001b[0m\u001b[0;34m\u001b[0m\u001b[0;34m\u001b[0m\u001b[0m\n\u001b[0m\u001b[1;32m     11\u001b[0m     \u001b[0mbackdoor_hist\u001b[0m\u001b[0;34m.\u001b[0m\u001b[0mappend\u001b[0m\u001b[0;34m(\u001b[0m\u001b[0mglobal_maxpool\u001b[0m\u001b[0;34m(\u001b[0m\u001b[0mminpool_3x3\u001b[0m\u001b[0;34m(\u001b[0m\u001b[0mwhite_activation\u001b[0m\u001b[0;34m(\u001b[0m\u001b[0mbackdoored\u001b[0m\u001b[0;34m)\u001b[0m\u001b[0;34m)\u001b[0m\u001b[0;34m)\u001b[0m\u001b[0;34m)\u001b[0m\u001b[0;34m\u001b[0m\u001b[0;34m\u001b[0m\u001b[0m\n",
      "\u001b[0;32m/tmp/ipykernel_853942/1738967592.py\u001b[0m in \u001b[0;36mminpool_3x3\u001b[0;34m(example)\u001b[0m\n\u001b[1;32m      6\u001b[0m         \u001b[0;32mfor\u001b[0m \u001b[0mx\u001b[0m \u001b[0;32min\u001b[0m \u001b[0mrange\u001b[0m\u001b[0;34m(\u001b[0m\u001b[0moutput\u001b[0m\u001b[0;34m.\u001b[0m\u001b[0mshape\u001b[0m\u001b[0;34m[\u001b[0m\u001b[0;36m1\u001b[0m\u001b[0;34m]\u001b[0m\u001b[0;34m)\u001b[0m\u001b[0;34m:\u001b[0m\u001b[0;34m\u001b[0m\u001b[0;34m\u001b[0m\u001b[0m\n\u001b[1;32m      7\u001b[0m             \u001b[0;32mfor\u001b[0m \u001b[0my\u001b[0m \u001b[0;32min\u001b[0m \u001b[0mrange\u001b[0m\u001b[0;34m(\u001b[0m\u001b[0moutput\u001b[0m\u001b[0;34m.\u001b[0m\u001b[0mshape\u001b[0m\u001b[0;34m[\u001b[0m\u001b[0;36m2\u001b[0m\u001b[0;34m]\u001b[0m\u001b[0;34m)\u001b[0m\u001b[0;34m:\u001b[0m\u001b[0;34m\u001b[0m\u001b[0;34m\u001b[0m\u001b[0m\n\u001b[0;32m----> 8\u001b[0;31m                 \u001b[0moutput\u001b[0m\u001b[0;34m[\u001b[0m\u001b[0mc\u001b[0m\u001b[0;34m,\u001b[0m \u001b[0mx\u001b[0m\u001b[0;34m,\u001b[0m \u001b[0my\u001b[0m\u001b[0;34m]\u001b[0m \u001b[0;34m=\u001b[0m \u001b[0mnp\u001b[0m\u001b[0;34m.\u001b[0m\u001b[0mmin\u001b[0m\u001b[0;34m(\u001b[0m\u001b[0mexample\u001b[0m\u001b[0;34m[\u001b[0m\u001b[0mc\u001b[0m\u001b[0;34m,\u001b[0m \u001b[0mx\u001b[0m\u001b[0;34m:\u001b[0m\u001b[0mx\u001b[0m\u001b[0;34m+\u001b[0m\u001b[0;36m3\u001b[0m\u001b[0;34m,\u001b[0m \u001b[0my\u001b[0m\u001b[0;34m:\u001b[0m\u001b[0my\u001b[0m\u001b[0;34m+\u001b[0m\u001b[0;36m3\u001b[0m\u001b[0;34m]\u001b[0m\u001b[0;34m)\u001b[0m\u001b[0;34m\u001b[0m\u001b[0;34m\u001b[0m\u001b[0m\n\u001b[0m\u001b[1;32m      9\u001b[0m     \u001b[0;32mreturn\u001b[0m \u001b[0moutput\u001b[0m\u001b[0;34m\u001b[0m\u001b[0;34m\u001b[0m\u001b[0m\n",
      "\u001b[0;32m<__array_function__ internals>\u001b[0m in \u001b[0;36mamin\u001b[0;34m(*args, **kwargs)\u001b[0m\n",
      "\u001b[0;32m~/anaconda3/envs/backdoor/lib/python3.9/site-packages/numpy/core/fromnumeric.py\u001b[0m in \u001b[0;36mamin\u001b[0;34m(a, axis, out, keepdims, initial, where)\u001b[0m\n\u001b[1;32m   2877\u001b[0m     \u001b[0;36m6\u001b[0m\u001b[0;34m\u001b[0m\u001b[0;34m\u001b[0m\u001b[0m\n\u001b[1;32m   2878\u001b[0m     \"\"\"\n\u001b[0;32m-> 2879\u001b[0;31m     return _wrapreduction(a, np.minimum, 'min', axis, None, out,\n\u001b[0m\u001b[1;32m   2880\u001b[0m                           keepdims=keepdims, initial=initial, where=where)\n\u001b[1;32m   2881\u001b[0m \u001b[0;34m\u001b[0m\u001b[0m\n",
      "\u001b[0;31mKeyboardInterrupt\u001b[0m: "
     ]
    }
   ],
   "source": [
    "from tqdm import tqdm\n",
    "\n",
    "clean_hist = []\n",
    "backdoor_hist = []\n",
    "for example in tqdm(ImageFormat.torch(cifar['train'][0])):\n",
    "#     example = example[0]\n",
    "#     print(example.shape)\n",
    "    backdoored = add_backdoor(example)\n",
    "    \n",
    "    clean_hist.append(global_maxpool(minpool_3x3(white_activation(example))))\n",
    "    backdoor_hist.append(global_maxpool(minpool_3x3(white_activation(backdoored))))"
   ]
  },
  {
   "cell_type": "code",
   "execution_count": 97,
   "id": "57ccd76b",
   "metadata": {
    "scrolled": true
   },
   "outputs": [
    {
     "data": {
      "image/png": "[encoded data removed]",
      "text/plain": [
       "<Figure size 432x288 with 1 Axes>"
      ]
     },
     "metadata": {
      "needs_background": "light"
     },
     "output_type": "display_data"
    }
   ],
   "source": [
    "import matplotlib.pyplot as plt\n",
    "\n",
    "plt.hist(clean_hist, label='clean', alpha=0.5, bins=50)\n",
    "plt.hist(backdoor_hist, label='backdoor', alpha=0.5, bins=50)\n",
    "plt.show()"
   ]
  },
  {
   "cell_type": "code",
   "execution_count": 101,
   "id": "cbc65edb",
   "metadata": {},
   "outputs": [
    {
     "data": {
      "text/plain": [
       "0.6331435800126503"
      ]
     },
     "execution_count": 101,
     "metadata": {},
     "output_type": "execute_result"
    }
   ],
   "source": [
    "(np.array(clean_hist) < 20).mean()"
   ]
  },
  {
   "cell_type": "code",
   "execution_count": 102,
   "id": "68cb2703",
   "metadata": {},
   "outputs": [
    {
     "data": {
      "text/plain": [
       "45.464764"
      ]
     },
     "execution_count": 102,
     "metadata": {},
     "output_type": "execute_result"
    }
   ],
   "source": [
    "np.mean(clean_hist)"
   ]
  },
  {
   "cell_type": "code",
   "execution_count": 103,
   "id": "13d04fb5",
   "metadata": {},
   "outputs": [
    {
     "data": {
      "text/plain": [
       "[224.35915,\n",
       " 224.35915,\n",
       " 224.35915,\n",
       " 224.35915,\n",
       " 224.35915,\n",
       " 224.35915,\n",
       " 224.35915,\n",
       " 224.35915,\n",
       " 224.35915,\n",
       " 224.35915,\n",
       " 224.35915,\n",
       " 224.35915,\n",
       " 224.35915,\n",
       " 224.35915,\n",
       " 224.35915,\n",
       " 224.35915,\n",
       " 224.35915,\n",
       " 224.35915,\n",
       " 224.35915,\n",
       " 224.35915,\n",
       " 224.35915,\n",
       " 224.35915,\n",
       " 224.35915,\n",
       " 224.35915,\n",
       " 224.35915,\n",
       " 224.35915,\n",
       " 224.35915,\n",
       " 224.35915,\n",
       " 224.35915,\n",
       " 224.35915,\n",
       " 224.35915,\n",
       " 224.35915,\n",
       " 224.35915,\n",
       " 224.35915,\n",
       " 224.35915,\n",
       " 224.35915,\n",
       " 224.35915,\n",
       " 224.35915,\n",
       " 224.35915,\n",
       " 224.35915,\n",
       " 224.35915,\n",
       " 224.35915,\n",
       " 224.35915,\n",
       " 224.35915,\n",
       " 224.35915,\n",
       " 224.35915,\n",
       " 224.35915,\n",
       " 224.35915,\n",
       " 224.35915,\n",
       " 224.35915,\n",
       " 224.35915,\n",
       " 224.35915,\n",
       " 224.35915,\n",
       " 224.35915,\n",
       " 224.35915,\n",
       " 224.35915,\n",
       " 224.35915,\n",
       " 224.35915,\n",
       " 224.35915,\n",
       " 224.35915,\n",
       " 224.35915,\n",
       " 224.35915,\n",
       " 224.35915,\n",
       " 224.35915,\n",
       " 224.35915,\n",
       " 224.35915,\n",
       " 224.35915,\n",
       " 224.35915,\n",
       " 224.35915,\n",
       " 224.35915,\n",
       " 224.35915,\n",
       " 224.35915,\n",
       " 224.35915,\n",
       " 224.35915,\n",
       " 224.35915,\n",
       " 224.35915,\n",
       " 224.35915,\n",
       " 224.35915,\n",
       " 224.35915,\n",
       " 224.35915,\n",
       " 224.35915,\n",
       " 224.35915,\n",
       " 224.35915,\n",
       " 224.35915,\n",
       " 224.35915,\n",
       " 224.35915,\n",
       " 224.35915,\n",
       " 224.35915,\n",
       " 224.35915,\n",
       " 224.35915,\n",
       " 224.35915,\n",
       " 224.35915,\n",
       " 224.35915,\n",
       " 224.35915,\n",
       " 224.35915,\n",
       " 224.35915,\n",
       " 224.35915,\n",
       " 224.35915,\n",
       " 224.35915,\n",
       " 224.35915,\n",
       " 224.35915,\n",
       " 224.35915,\n",
       " 224.35915,\n",
       " 224.35915,\n",
       " 224.35915,\n",
       " 224.35915,\n",
       " 224.35915,\n",
       " 224.35915,\n",
       " 224.35915,\n",
       " 224.35915,\n",
       " 224.35915,\n",
       " 224.35915,\n",
       " 224.35915,\n",
       " 224.35915,\n",
       " 224.35915,\n",
       " 224.35915,\n",
       " 224.35915,\n",
       " 224.35915,\n",
       " 224.35915,\n",
       " 224.35915,\n",
       " 224.35915,\n",
       " 224.35915,\n",
       " 224.35915,\n",
       " 224.35915,\n",
       " 224.35915,\n",
       " 224.35915,\n",
       " 224.35915,\n",
       " 224.35915,\n",
       " 224.35915,\n",
       " 224.35915,\n",
       " 224.35915,\n",
       " 224.35915,\n",
       " 224.35915,\n",
       " 224.35915,\n",
       " 224.35915,\n",
       " 224.35915,\n",
       " 224.35915,\n",
       " 224.35915,\n",
       " 224.35915,\n",
       " 224.35915,\n",
       " 224.35915,\n",
       " 224.35915,\n",
       " 224.35915,\n",
       " 224.35915,\n",
       " 224.35915,\n",
       " 224.35915,\n",
       " 224.35915,\n",
       " 224.35915,\n",
       " 224.35915,\n",
       " 224.35915,\n",
       " 224.35915,\n",
       " 224.35915,\n",
       " 224.35915,\n",
       " 224.35915,\n",
       " 224.35915,\n",
       " 224.35915,\n",
       " 224.35915,\n",
       " 224.35915,\n",
       " 224.35915,\n",
       " 224.35915,\n",
       " 224.35915,\n",
       " 224.35915,\n",
       " 224.35915,\n",
       " 224.35915,\n",
       " 224.35915,\n",
       " 224.35915,\n",
       " 224.35915,\n",
       " 224.35915,\n",
       " 224.35915,\n",
       " 224.35915,\n",
       " 224.35915,\n",
       " 224.35915,\n",
       " 224.35915,\n",
       " 224.35915,\n",
       " 224.35915,\n",
       " 224.35915,\n",
       " 224.35915,\n",
       " 224.35915,\n",
       " 224.35915,\n",
       " 224.35915,\n",
       " 224.35915,\n",
       " 224.35915,\n",
       " 224.35915,\n",
       " 224.35915,\n",
       " 224.35915,\n",
       " 224.35915,\n",
       " 224.35915,\n",
       " 224.35915,\n",
       " 224.35915,\n",
       " 224.35915,\n",
       " 224.35915,\n",
       " 224.35915,\n",
       " 224.35915,\n",
       " 224.35915,\n",
       " 224.35915,\n",
       " 224.35915,\n",
       " 224.35915,\n",
       " 224.35915,\n",
       " 224.35915,\n",
       " 224.35915,\n",
       " 224.35915,\n",
       " 224.35915,\n",
       " 224.35915,\n",
       " 224.35915,\n",
       " 224.35915,\n",
       " 224.35915,\n",
       " 224.35915,\n",
       " 224.35915,\n",
       " 224.35915,\n",
       " 224.35915,\n",
       " 224.35915,\n",
       " 224.35915,\n",
       " 224.35915,\n",
       " 224.35915,\n",
       " 224.35915,\n",
       " 224.35915,\n",
       " 224.35915,\n",
       " 224.35915,\n",
       " 224.35915,\n",
       " 224.35915,\n",
       " 224.35915,\n",
       " 224.35915,\n",
       " 224.35915,\n",
       " 224.35915,\n",
       " 224.35915,\n",
       " 224.35915,\n",
       " 224.35915,\n",
       " 224.35915,\n",
       " 224.35915,\n",
       " 224.35915,\n",
       " 224.35915,\n",
       " 224.35915,\n",
       " 224.35915,\n",
       " 224.35915,\n",
       " 224.35915,\n",
       " 224.35915,\n",
       " 224.35915,\n",
       " 224.35915,\n",
       " 224.35915,\n",
       " 224.35915,\n",
       " 224.35915,\n",
       " 224.35915,\n",
       " 224.35915,\n",
       " 224.35915,\n",
       " 224.35915,\n",
       " 224.35915,\n",
       " 224.35915,\n",
       " 224.35915,\n",
       " 224.35915,\n",
       " 224.35915,\n",
       " 224.35915,\n",
       " 224.35915,\n",
       " 224.35915,\n",
       " 224.35915,\n",
       " 224.35915,\n",
       " 224.35915,\n",
       " 224.35915,\n",
       " 224.35915,\n",
       " 224.35915,\n",
       " 224.35915,\n",
       " 224.35915,\n",
       " 224.35915,\n",
       " 224.35915,\n",
       " 224.35915,\n",
       " 224.35915,\n",
       " 224.35915,\n",
       " 224.35915,\n",
       " 224.35915,\n",
       " 224.35915,\n",
       " 224.35915,\n",
       " 224.35915,\n",
       " 224.35915,\n",
       " 224.35915,\n",
       " 224.35915,\n",
       " 224.35915,\n",
       " 224.35915,\n",
       " 224.35915,\n",
       " 224.35915,\n",
       " 224.35915,\n",
       " 224.35915,\n",
       " 224.35915,\n",
       " 224.35915,\n",
       " 224.35915,\n",
       " 224.35915,\n",
       " 224.35915,\n",
       " 224.35915,\n",
       " 224.35915,\n",
       " 224.35915,\n",
       " 224.35915,\n",
       " 224.35915,\n",
       " 224.35915,\n",
       " 224.35915,\n",
       " 224.35915,\n",
       " 224.35915,\n",
       " 224.35915,\n",
       " 224.35915,\n",
       " 224.35915,\n",
       " 224.35915,\n",
       " 224.35915,\n",
       " 224.35915,\n",
       " 224.35915,\n",
       " 224.35915,\n",
       " 224.35915,\n",
       " 224.35915,\n",
       " 224.35915,\n",
       " 224.35915,\n",
       " 224.35915,\n",
       " 224.35915,\n",
       " 224.35915,\n",
       " 224.35915,\n",
       " 224.35915,\n",
       " 224.35915,\n",
       " 224.35915,\n",
       " 224.35915,\n",
       " 224.35915,\n",
       " 224.35915,\n",
       " 224.35915,\n",
       " 224.35915,\n",
       " 224.35915,\n",
       " 224.35915,\n",
       " 224.35915,\n",
       " 224.35915,\n",
       " 224.35915,\n",
       " 224.35915,\n",
       " 224.35915,\n",
       " 224.35915,\n",
       " 224.35915,\n",
       " 224.35915,\n",
       " 224.35915,\n",
       " 224.35915,\n",
       " 224.35915,\n",
       " 224.35915,\n",
       " 224.35915,\n",
       " 224.35915,\n",
       " 224.35915,\n",
       " 224.35915,\n",
       " 224.35915,\n",
       " 224.35915,\n",
       " 224.35915,\n",
       " 224.35915,\n",
       " 224.35915,\n",
       " 224.35915,\n",
       " 224.35915,\n",
       " 224.35915,\n",
       " 224.35915,\n",
       " 224.35915,\n",
       " 224.35915,\n",
       " 224.35915,\n",
       " 224.35915,\n",
       " 224.35915,\n",
       " 224.35915,\n",
       " 224.35915,\n",
       " 224.35915,\n",
       " 224.35915,\n",
       " 224.35915,\n",
       " 224.35915,\n",
       " 224.35915,\n",
       " 224.35915,\n",
       " 224.35915,\n",
       " 224.35915,\n",
       " 224.35915,\n",
       " 224.35915,\n",
       " 224.35915,\n",
       " 224.35915,\n",
       " 224.35915,\n",
       " 224.35915,\n",
       " 224.35915,\n",
       " 224.35915,\n",
       " 224.35915,\n",
       " 224.35915,\n",
       " 224.35915,\n",
       " 224.35915,\n",
       " 224.35915,\n",
       " 224.35915,\n",
       " 224.35915,\n",
       " 224.35915,\n",
       " 224.35915,\n",
       " 224.35915,\n",
       " 224.35915,\n",
       " 224.35915,\n",
       " 224.35915,\n",
       " 224.35915,\n",
       " 224.35915,\n",
       " 224.35915,\n",
       " 224.35915,\n",
       " 224.35915,\n",
       " 224.35915,\n",
       " 224.35915,\n",
       " 224.35915,\n",
       " 224.35915,\n",
       " 224.35915,\n",
       " 224.35915,\n",
       " 224.35915,\n",
       " 224.35915,\n",
       " 224.35915,\n",
       " 224.35915,\n",
       " 224.35915,\n",
       " 224.35915,\n",
       " 224.35915,\n",
       " 224.35915,\n",
       " 224.35915,\n",
       " 224.35915,\n",
       " 224.35915,\n",
       " 224.35915,\n",
       " 224.35915,\n",
       " 224.35915,\n",
       " 224.35915,\n",
       " 224.35915,\n",
       " 224.35915,\n",
       " 224.35915,\n",
       " 224.35915,\n",
       " 224.35915,\n",
       " 224.35915,\n",
       " 224.35915,\n",
       " 224.35915,\n",
       " 224.35915,\n",
       " 224.35915,\n",
       " 224.35915,\n",
       " 224.35915,\n",
       " 224.35915,\n",
       " 224.35915,\n",
       " 224.35915,\n",
       " 224.35915,\n",
       " 224.35915,\n",
       " 224.35915,\n",
       " 224.35915,\n",
       " 224.35915,\n",
       " 224.35915,\n",
       " 224.35915,\n",
       " 224.35915,\n",
       " 224.35915,\n",
       " 224.35915,\n",
       " 224.35915,\n",
       " 224.35915,\n",
       " 224.35915,\n",
       " 224.35915,\n",
       " 224.35915,\n",
       " 224.35915,\n",
       " 224.35915,\n",
       " 224.35915,\n",
       " 224.35915,\n",
       " 224.35915,\n",
       " 224.35915,\n",
       " 224.35915,\n",
       " 224.35915,\n",
       " 224.35915,\n",
       " 224.35915,\n",
       " 224.35915,\n",
       " 224.35915,\n",
       " 224.35915,\n",
       " 224.35915,\n",
       " 224.35915,\n",
       " 224.35915,\n",
       " 224.35915,\n",
       " 224.35915,\n",
       " 224.35915,\n",
       " 224.35915,\n",
       " 224.35915,\n",
       " 224.35915,\n",
       " 224.35915,\n",
       " 224.35915,\n",
       " 224.35915,\n",
       " 224.35915,\n",
       " 224.35915,\n",
       " 224.35915,\n",
       " 224.35915,\n",
       " 224.35915,\n",
       " 224.35915,\n",
       " 224.35915,\n",
       " 224.35915,\n",
       " 224.35915,\n",
       " 224.35915,\n",
       " 224.35915,\n",
       " 224.35915,\n",
       " 224.35915,\n",
       " 224.35915,\n",
       " 224.35915,\n",
       " 224.35915,\n",
       " 224.35915,\n",
       " 224.35915,\n",
       " 224.35915,\n",
       " 224.35915,\n",
       " 224.35915,\n",
       " 224.35915,\n",
       " 224.35915,\n",
       " 224.35915,\n",
       " 224.35915,\n",
       " 224.35915,\n",
       " 224.35915,\n",
       " 224.35915,\n",
       " 224.35915,\n",
       " 224.35915,\n",
       " 224.35915,\n",
       " 224.35915,\n",
       " 224.35915,\n",
       " 224.35915,\n",
       " 224.35915,\n",
       " 224.35915,\n",
       " 224.35915,\n",
       " 224.35915,\n",
       " 224.35915,\n",
       " 224.35915,\n",
       " 224.35915,\n",
       " 224.35915,\n",
       " 224.35915,\n",
       " 224.35915,\n",
       " 224.35915,\n",
       " 224.35915,\n",
       " 224.35915,\n",
       " 224.35915,\n",
       " 224.35915,\n",
       " 224.35915,\n",
       " 224.35915,\n",
       " 224.35915,\n",
       " 224.35915,\n",
       " 224.35915,\n",
       " 224.35915,\n",
       " 224.35915,\n",
       " 224.35915,\n",
       " 224.35915,\n",
       " 224.35915,\n",
       " 224.35915,\n",
       " 224.35915,\n",
       " 224.35915,\n",
       " 224.35915,\n",
       " 224.35915,\n",
       " 224.35915,\n",
       " 224.35915,\n",
       " 224.35915,\n",
       " 224.35915,\n",
       " 224.35915,\n",
       " 224.35915,\n",
       " 224.35915,\n",
       " 224.35915,\n",
       " 224.35915,\n",
       " 224.35915,\n",
       " 224.35915,\n",
       " 224.35915,\n",
       " 224.35915,\n",
       " 224.35915,\n",
       " 224.35915,\n",
       " 224.35915,\n",
       " 224.35915,\n",
       " 224.35915,\n",
       " 224.35915,\n",
       " 224.35915,\n",
       " 224.35915,\n",
       " 224.35915,\n",
       " 224.35915,\n",
       " 224.35915,\n",
       " 224.35915,\n",
       " 224.35915,\n",
       " 224.35915,\n",
       " 224.35915,\n",
       " 224.35915,\n",
       " 224.35915,\n",
       " 224.35915,\n",
       " 224.35915,\n",
       " 224.35915,\n",
       " 224.35915,\n",
       " 224.35915,\n",
       " 224.35915,\n",
       " 224.35915,\n",
       " 224.35915,\n",
       " 224.35915,\n",
       " 224.35915,\n",
       " 224.35915,\n",
       " 224.35915,\n",
       " 224.35915,\n",
       " 224.35915,\n",
       " 224.35915,\n",
       " 224.35915,\n",
       " 224.35915,\n",
       " 224.35915,\n",
       " 224.35915,\n",
       " 224.35915,\n",
       " 224.35915,\n",
       " 224.35915,\n",
       " 224.35915,\n",
       " 224.35915,\n",
       " 224.35915,\n",
       " 224.35915,\n",
       " 224.35915,\n",
       " 224.35915,\n",
       " 224.35915,\n",
       " 224.35915,\n",
       " 224.35915,\n",
       " 224.35915,\n",
       " 224.35915,\n",
       " 224.35915,\n",
       " 224.35915,\n",
       " 224.35915,\n",
       " 224.35915,\n",
       " 224.35915,\n",
       " 224.35915,\n",
       " 224.35915,\n",
       " 224.35915,\n",
       " 224.35915,\n",
       " 224.35915,\n",
       " 224.35915,\n",
       " 224.35915,\n",
       " 224.35915,\n",
       " 224.35915,\n",
       " 224.35915,\n",
       " 224.35915,\n",
       " 224.35915,\n",
       " 224.35915,\n",
       " 224.35915,\n",
       " 224.35915,\n",
       " 224.35915,\n",
       " 224.35915,\n",
       " 224.35915,\n",
       " 224.35915,\n",
       " 224.35915,\n",
       " 224.35915,\n",
       " 224.35915,\n",
       " 224.35915,\n",
       " 224.35915,\n",
       " 224.35915,\n",
       " 224.35915,\n",
       " 224.35915,\n",
       " 224.35915,\n",
       " 224.35915,\n",
       " 224.35915,\n",
       " 224.35915,\n",
       " 224.35915,\n",
       " 224.35915,\n",
       " 224.35915,\n",
       " 224.35915,\n",
       " 224.35915,\n",
       " 224.35915,\n",
       " 224.35915,\n",
       " 224.35915,\n",
       " 224.35915,\n",
       " 224.35915,\n",
       " 224.35915,\n",
       " 224.35915,\n",
       " 224.35915,\n",
       " 224.35915,\n",
       " 224.35915,\n",
       " 224.35915,\n",
       " 224.35915,\n",
       " 224.35915,\n",
       " 224.35915,\n",
       " 224.35915,\n",
       " 224.35915,\n",
       " 224.35915,\n",
       " 224.35915,\n",
       " 224.35915,\n",
       " 224.35915,\n",
       " 224.35915,\n",
       " 224.35915,\n",
       " 224.35915,\n",
       " 224.35915,\n",
       " 224.35915,\n",
       " 224.35915,\n",
       " 224.35915,\n",
       " 224.35915,\n",
       " 224.35915,\n",
       " 224.35915,\n",
       " 224.35915,\n",
       " 224.35915,\n",
       " 224.35915,\n",
       " 224.35915,\n",
       " 224.35915,\n",
       " 224.35915,\n",
       " 224.35915,\n",
       " 224.35915,\n",
       " 224.35915,\n",
       " 224.35915,\n",
       " 224.35915,\n",
       " 224.35915,\n",
       " 224.35915,\n",
       " 224.35915,\n",
       " 224.35915,\n",
       " 224.35915,\n",
       " 224.35915,\n",
       " 224.35915,\n",
       " 224.35915,\n",
       " 224.35915,\n",
       " 224.35915,\n",
       " 224.35915,\n",
       " 224.35915,\n",
       " 224.35915,\n",
       " 224.35915,\n",
       " 224.35915,\n",
       " 224.35915,\n",
       " 224.35915,\n",
       " 224.35915,\n",
       " 224.35915,\n",
       " 224.35915,\n",
       " 224.35915,\n",
       " 224.35915,\n",
       " 224.35915,\n",
       " 224.35915,\n",
       " 224.35915,\n",
       " 224.35915,\n",
       " 224.35915,\n",
       " 224.35915,\n",
       " 224.35915,\n",
       " 224.35915,\n",
       " 224.35915,\n",
       " 224.35915,\n",
       " 224.35915,\n",
       " 224.35915,\n",
       " 224.35915,\n",
       " 224.35915,\n",
       " 224.35915,\n",
       " 224.35915,\n",
       " 224.35915,\n",
       " 224.35915,\n",
       " 224.35915,\n",
       " 224.35915,\n",
       " 224.35915,\n",
       " 224.35915,\n",
       " 224.35915,\n",
       " 224.35915,\n",
       " 224.35915,\n",
       " 224.35915,\n",
       " 224.35915,\n",
       " 224.35915,\n",
       " 224.35915,\n",
       " 224.35915,\n",
       " 224.35915,\n",
       " 224.35915,\n",
       " 224.35915,\n",
       " 224.35915,\n",
       " 224.35915,\n",
       " 224.35915,\n",
       " 224.35915,\n",
       " 224.35915,\n",
       " 224.35915,\n",
       " 224.35915,\n",
       " 224.35915,\n",
       " 224.35915,\n",
       " 224.35915,\n",
       " 224.35915,\n",
       " 224.35915,\n",
       " 224.35915,\n",
       " 224.35915,\n",
       " 224.35915,\n",
       " 224.35915,\n",
       " 224.35915,\n",
       " 224.35915,\n",
       " 224.35915,\n",
       " 224.35915,\n",
       " 224.35915,\n",
       " 224.35915,\n",
       " 224.35915,\n",
       " 224.35915,\n",
       " 224.35915,\n",
       " 224.35915,\n",
       " 224.35915,\n",
       " 224.35915,\n",
       " 224.35915,\n",
       " 224.35915,\n",
       " 224.35915,\n",
       " 224.35915,\n",
       " 224.35915,\n",
       " 224.35915,\n",
       " 224.35915,\n",
       " 224.35915,\n",
       " 224.35915,\n",
       " 224.35915,\n",
       " 224.35915,\n",
       " 224.35915,\n",
       " 224.35915,\n",
       " 224.35915,\n",
       " 224.35915,\n",
       " 224.35915,\n",
       " 224.35915,\n",
       " 224.35915,\n",
       " 224.35915,\n",
       " 224.35915,\n",
       " 224.35915,\n",
       " 224.35915,\n",
       " 224.35915,\n",
       " 224.35915,\n",
       " 224.35915,\n",
       " 224.35915,\n",
       " 224.35915,\n",
       " 224.35915,\n",
       " 224.35915,\n",
       " 224.35915,\n",
       " 224.35915,\n",
       " 224.35915,\n",
       " 224.35915,\n",
       " 224.35915,\n",
       " 224.35915,\n",
       " 224.35915,\n",
       " 224.35915,\n",
       " 224.35915,\n",
       " 224.35915,\n",
       " 224.35915,\n",
       " 224.35915,\n",
       " 224.35915,\n",
       " 224.35915,\n",
       " 224.35915,\n",
       " 224.35915,\n",
       " 224.35915,\n",
       " 224.35915,\n",
       " 224.35915,\n",
       " 224.35915,\n",
       " 224.35915,\n",
       " 224.35915,\n",
       " 224.35915,\n",
       " 224.35915,\n",
       " 224.35915,\n",
       " 224.35915,\n",
       " 224.35915,\n",
       " 224.35915,\n",
       " 224.35915,\n",
       " 224.35915,\n",
       " 224.35915,\n",
       " 224.35915,\n",
       " 224.35915,\n",
       " 224.35915,\n",
       " 224.35915,\n",
       " 224.35915,\n",
       " 224.35915,\n",
       " 224.35915,\n",
       " 224.35915,\n",
       " 224.35915,\n",
       " 224.35915,\n",
       " 224.35915,\n",
       " 224.35915,\n",
       " 224.35915,\n",
       " 224.35915,\n",
       " 224.35915,\n",
       " 224.35915,\n",
       " 224.35915,\n",
       " 224.35915,\n",
       " 224.35915,\n",
       " 224.35915,\n",
       " 224.35915,\n",
       " 224.35915,\n",
       " 224.35915,\n",
       " 224.35915,\n",
       " 224.35915,\n",
       " 224.35915,\n",
       " 224.35915,\n",
       " 224.35915,\n",
       " 224.35915,\n",
       " 224.35915,\n",
       " 224.35915,\n",
       " 224.35915,\n",
       " 224.35915,\n",
       " 224.35915,\n",
       " 224.35915,\n",
       " 224.35915,\n",
       " 224.35915,\n",
       " 224.35915,\n",
       " 224.35915,\n",
       " 224.35915,\n",
       " 224.35915,\n",
       " 224.35915,\n",
       " 224.35915,\n",
       " 224.35915,\n",
       " 224.35915,\n",
       " 224.35915,\n",
       " 224.35915,\n",
       " 224.35915,\n",
       " 224.35915,\n",
       " 224.35915,\n",
       " 224.35915,\n",
       " 224.35915,\n",
       " 224.35915,\n",
       " 224.35915,\n",
       " 224.35915,\n",
       " 224.35915,\n",
       " 224.35915,\n",
       " 224.35915,\n",
       " 224.35915,\n",
       " 224.35915,\n",
       " 224.35915,\n",
       " 224.35915,\n",
       " 224.35915,\n",
       " 224.35915,\n",
       " 224.35915,\n",
       " 224.35915,\n",
       " 224.35915,\n",
       " 224.35915,\n",
       " 224.35915,\n",
       " 224.35915,\n",
       " 224.35915,\n",
       " 224.35915,\n",
       " 224.35915,\n",
       " 224.35915,\n",
       " 224.35915,\n",
       " 224.35915,\n",
       " 224.35915,\n",
       " 224.35915,\n",
       " 224.35915,\n",
       " 224.35915,\n",
       " 224.35915,\n",
       " 224.35915,\n",
       " 224.35915,\n",
       " 224.35915,\n",
       " 224.35915,\n",
       " 224.35915,\n",
       " 224.35915,\n",
       " 224.35915,\n",
       " 224.35915,\n",
       " 224.35915,\n",
       " 224.35915,\n",
       " 224.35915,\n",
       " 224.35915,\n",
       " 224.35915,\n",
       " 224.35915,\n",
       " 224.35915,\n",
       " 224.35915,\n",
       " 224.35915,\n",
       " 224.35915,\n",
       " 224.35915,\n",
       " 224.35915,\n",
       " 224.35915,\n",
       " 224.35915,\n",
       " 224.35915,\n",
       " 224.35915,\n",
       " 224.35915,\n",
       " 224.35915,\n",
       " 224.35915,\n",
       " 224.35915,\n",
       " 224.35915,\n",
       " 224.35915,\n",
       " 224.35915,\n",
       " 224.35915,\n",
       " 224.35915,\n",
       " 224.35915,\n",
       " 224.35915,\n",
       " 224.35915,\n",
       " 224.35915,\n",
       " 224.35915,\n",
       " 224.35915,\n",
       " 224.35915,\n",
       " 224.35915,\n",
       " 224.35915,\n",
       " 224.35915,\n",
       " 224.35915,\n",
       " 224.35915,\n",
       " 224.35915,\n",
       " 224.35915,\n",
       " 224.35915,\n",
       " 224.35915,\n",
       " 224.35915,\n",
       " 224.35915,\n",
       " 224.35915,\n",
       " 224.35915,\n",
       " 224.35915,\n",
       " 224.35915,\n",
       " 224.35915,\n",
       " 224.35915,\n",
       " 224.35915,\n",
       " 224.35915,\n",
       " 224.35915,\n",
       " 224.35915,\n",
       " 224.35915,\n",
       " 224.35915,\n",
       " 224.35915,\n",
       " 224.35915,\n",
       " 224.35915,\n",
       " 224.35915,\n",
       " 224.35915,\n",
       " 224.35915,\n",
       " 224.35915,\n",
       " 224.35915,\n",
       " 224.35915,\n",
       " 224.35915,\n",
       " 224.35915,\n",
       " 224.35915,\n",
       " 224.35915,\n",
       " 224.35915,\n",
       " 224.35915,\n",
       " 224.35915,\n",
       " 224.35915,\n",
       " 224.35915,\n",
       " 224.35915,\n",
       " 224.35915,\n",
       " 224.35915,\n",
       " 224.35915,\n",
       " 224.35915,\n",
       " 224.35915,\n",
       " 224.35915,\n",
       " 224.35915,\n",
       " 224.35915,\n",
       " 224.35915,\n",
       " 224.35915,\n",
       " 224.35915,\n",
       " 224.35915,\n",
       " 224.35915,\n",
       " 224.35915,\n",
       " 224.35915,\n",
       " 224.35915,\n",
       " 224.35915,\n",
       " 224.35915,\n",
       " 224.35915,\n",
       " 224.35915,\n",
       " 224.35915,\n",
       " 224.35915,\n",
       " 224.35915,\n",
       " ...]"
      ]
     },
     "execution_count": 103,
     "metadata": {},
     "output_type": "execute_result"
    }
   ],
   "source": [
    "backdoor_hist"
   ]
  },
  {
   "cell_type": "code",
   "execution_count": 4,
   "id": "cabb286c",
   "metadata": {},
   "outputs": [],
   "source": [
    "import sys\n",
    "sys.path.append('../')"
   ]
  },
  {
   "cell_type": "code",
   "execution_count": 5,
   "id": "5aaba02c",
   "metadata": {},
   "outputs": [],
   "source": [
    "import backdoor"
   ]
  },
  {
   "cell_type": "code",
   "execution_count": 6,
   "id": "2cf9cded",
   "metadata": {},
   "outputs": [],
   "source": [
    "from skimage.io import imread\n",
    "badnets_patch = imread('../patches/32x32_3x3_checkerboard_tl_nopad.png')"
   ]
  },
  {
   "cell_type": "code",
   "execution_count": 27,
   "id": "9559f55c",
   "metadata": {},
   "outputs": [],
   "source": [
    "backdoored2 = backdoor.image_utils.overlay_transparent_patch(ImageFormat.scikit(example), badnets_patch)\n",
    "backdoored2 = ImageFormat.torch(backdoored2)"
   ]
  },
  {
   "cell_type": "code",
   "execution_count": 28,
   "id": "54fa4b89",
   "metadata": {},
   "outputs": [
    {
     "name": "stdout",
     "output_type": "stream",
     "text": [
      "-1.0 1.0\n"
     ]
    },
    {
     "data": {
      "image/png": "[encoded data removed]",
      "text/plain": [
       "<Figure size 432x288 with 1 Axes>"
      ]
     },
     "metadata": {
      "needs_background": "light"
     },
     "output_type": "display_data"
    }
   ],
   "source": [
    "plot(backdoored2)"
   ]
  },
  {
   "cell_type": "code",
   "execution_count": 16,
   "id": "4ad16ef1",
   "metadata": {},
   "outputs": [],
   "source": [
    "from torch.nn.functional import avg_pool2d"
   ]
  },
  {
   "cell_type": "code",
   "execution_count": 42,
   "id": "435d1909",
   "metadata": {},
   "outputs": [
    {
     "name": "stdout",
     "output_type": "stream",
     "text": [
      "(2.9791473e-12, 99.72084)\n"
     ]
    },
    {
     "data": {
      "image/png": "[encoded data removed]",
      "text/plain": [
       "<Figure size 432x288 with 1 Axes>"
      ]
     },
     "metadata": {
      "needs_background": "light"
     },
     "output_type": "display_data"
    },
    {
     "name": "stdout",
     "output_type": "stream",
     "text": [
      "(1.3525539e-12, 124.648506)\n"
     ]
    },
    {
     "data": {
      "image/png": "[encoded data removed]",
      "text/plain": [
       "<Figure size 432x288 with 1 Axes>"
      ]
     },
     "metadata": {
      "needs_background": "light"
     },
     "output_type": "display_data"
    },
    {
     "name": "stdout",
     "output_type": "stream",
     "text": [
      "(4.0294573e-24, 12430.054)\n"
     ]
    },
    {
     "data": {
      "image/png": "[encoded data removed]",
      "text/plain": [
       "<Figure size 432x288 with 1 Axes>"
      ]
     },
     "metadata": {
      "needs_background": "light"
     },
     "output_type": "display_data"
    }
   ],
   "source": [
    "from backdoor import utils\n",
    "white_pool = utils.tonp(avg_pool2d(utils.totensor(white_activation(backdoored2)), (3, 3)))\n",
    "black_pool = utils.tonp(avg_pool2d(utils.totensor(black_activation(backdoored2)), (3, 3)))\n",
    "plot(white_pool)\n",
    "plot(black_pool)\n",
    "plot(white_pool * black_pool)"
   ]
  },
  {
   "cell_type": "code",
   "execution_count": 31,
   "id": "8d4bbab3",
   "metadata": {},
   "outputs": [
    {
     "name": "stdout",
     "output_type": "stream",
     "text": [
      "1.3525539e-12 124.648506\n"
     ]
    },
    {
     "data": {
      "image/png": "[encoded data removed]",
      "text/plain": [
       "<Figure size 432x288 with 1 Axes>"
      ]
     },
     "metadata": {
      "needs_background": "light"
     },
     "output_type": "display_data"
    }
   ],
   "source": [
    "plot(utils.tonp(avg_pool2d(utils.totensor(black_activation(backdoored2)), (3, 3))))"
   ]
  },
  {
   "cell_type": "code",
   "execution_count": 32,
   "id": "99eb737c",
   "metadata": {},
   "outputs": [
    {
     "name": "stdout",
     "output_type": "stream",
     "text": [
      "2.3676242e-23 2.285298\n"
     ]
    },
    {
     "data": {
      "image/png": "[encoded data removed]",
      "text/plain": [
       "<Figure size 432x288 with 1 Axes>"
      ]
     },
     "metadata": {
      "needs_background": "light"
     },
     "output_type": "display_data"
    }
   ],
   "source": [
    "plot(*white_activation(backdoored2)), (3, 3))))"
   ]
  },
  {
   "cell_type": "code",
   "execution_count": 35,
   "id": "3e13824a",
   "metadata": {},
   "outputs": [
    {
     "data": {
      "text/plain": [
       "array([[[2.24359146e+02, 1.01858927e-02, 2.24359146e+02, ...,\n",
       "         1.90019009e-07, 2.66671414e-08, 5.22367838e-09],\n",
       "        [1.01858927e-02, 2.24359146e+02, 1.01858927e-02, ...,\n",
       "         3.58001652e-15, 2.42468567e-12, 2.77035339e-14],\n",
       "        [2.24359146e+02, 1.01858927e-02, 2.24359146e+02, ...,\n",
       "         7.67241826e-12, 6.66601540e-13, 8.61983551e-09],\n",
       "        ...,\n",
       "        [5.05528238e-04, 2.60585919e-04, 1.91107931e-04, ...,\n",
       "         3.32637029e-07, 5.78688271e-02, 9.92864147e-02],\n",
       "        [1.91864056e-05, 5.93082223e-06, 4.55158552e-05, ...,\n",
       "         3.45619810e-05, 2.07824451e-06, 1.61586417e-04],\n",
       "        [1.18891048e-05, 2.22807557e-06, 1.64191042e-05, ...,\n",
       "         9.86076659e-04, 1.82595894e-08, 3.58001652e-15]],\n",
       "\n",
       "       [[2.24359146e+02, 1.01858927e-02, 2.24359146e+02, ...,\n",
       "         2.51543353e-15, 9.26732047e-18, 2.78816724e-16],\n",
       "        [1.01858927e-02, 2.24359146e+02, 1.01858927e-02, ...,\n",
       "         3.98981865e-05, 1.61586417e-04, 5.33891289e-05],\n",
       "        [2.24359146e+02, 1.01858927e-02, 2.24359146e+02, ...,\n",
       "         1.23506266e-04, 1.23506266e-04, 1.86240196e-03],\n",
       "        ...,\n",
       "        [3.35005143e-06, 3.83038383e-08, 4.33799016e-07, ...,\n",
       "         1.79967549e-14, 3.44228363e+00, 2.19942451e+00],\n",
       "        [2.27767822e-11, 3.58001652e-15, 6.94634072e-10, ...,\n",
       "         5.22367838e-09, 1.86424889e-02, 9.92864147e-02],\n",
       "        [6.94634072e-10, 4.78961001e-20, 2.06047485e-10, ...,\n",
       "         3.45619810e-05, 7.67241826e-12, 1.16360725e-05]],\n",
       "\n",
       "       [[2.24359146e+02, 1.01858927e-02, 2.24359146e+02, ...,\n",
       "         1.51908601e-08, 2.83028641e-07, 1.82180003e-07],\n",
       "        [1.01858927e-02, 2.24359146e+02, 1.01858927e-02, ...,\n",
       "         6.94049150e-02, 1.67680785e-01, 4.81584035e-02],\n",
       "        [2.24359146e+02, 1.01858927e-02, 2.24359146e+02, ...,\n",
       "         1.67680785e-01, 1.67680785e-01, 6.33569598e-01],\n",
       "        ...,\n",
       "        [2.98898567e-06, 2.19942451e+00, 7.11706352e+00, ...,\n",
       "         3.61084566e-03, 9.27829361e+01, 1.65088329e+01],\n",
       "        [2.98898567e-06, 6.33569598e-01, 3.98831677e+00, ...,\n",
       "         6.00308704e-06, 2.19942451e+00, 2.19942451e+00],\n",
       "        [5.61314953e-11, 6.00308704e-06, 5.33891289e-05, ...,\n",
       "         5.04487875e-11, 1.23506266e-04, 2.32964684e-03]]], dtype=float32)"
      ]
     },
     "execution_count": 35,
     "metadata": {},
     "output_type": "execute_result"
    }
   ],
   "source": [
    "black_activation(backdoored2)"
   ]
  },
  {
   "cell_type": "code",
   "execution_count": 36,
   "id": "a5ac6e4d",
   "metadata": {},
   "outputs": [
    {
     "data": {
      "text/plain": [
       "array([[[1.01858927e-02, 2.24359146e+02, 1.01858927e-02, ...,\n",
       "         2.07825383e-06, 1.82181026e-07, 2.60767621e-08],\n",
       "        [2.24359146e+02, 1.01858927e-02, 2.24359146e+02, ...,\n",
       "         2.51539033e-15, 1.24487519e-12, 1.79965008e-14],\n",
       "        [1.01858927e-02, 2.24359146e+02, 1.01858927e-02, ...,\n",
       "         3.64201204e-12, 3.70173239e-13, 2.01998596e-09],\n",
       "        ...,\n",
       "        [2.79101014e-01, 8.30866396e-02, 4.81584035e-02, ...,\n",
       "         4.25595090e-06, 2.12319399e-04, 2.87903764e-04],\n",
       "        [1.17832562e-03, 2.10354046e-04, 4.47515165e-03, ...,\n",
       "         2.90482584e-03, 1.90018469e-07, 4.92756635e-06],\n",
       "        [5.77076396e-04, 5.33892999e-05, 9.32306342e-04, ...,\n",
       "         1.01958978e+00, 1.15333656e-07, 2.51539033e-15]],\n",
       "\n",
       "       [[1.01858927e-02, 2.24359146e+02, 1.01858927e-02, ...,\n",
       "         3.58013510e-15, 7.61713982e-18, 2.11886906e-16],\n",
       "        [2.24359146e+02, 1.01858927e-02, 2.24359146e+02, ...,\n",
       "         1.80091195e-06, 4.92756635e-06, 2.22807080e-06],\n",
       "        [1.01858927e-02, 2.24359146e+02, 1.01858927e-02, ...,\n",
       "         4.07360039e-06, 4.07360039e-06, 2.59225526e-05],\n",
       "        ...,\n",
       "        [9.39074016e-05, 2.83028641e-07, 6.00311068e-06, ...,\n",
       "         2.77035339e-14, 1.77759875e-03, 1.43708603e-03],\n",
       "        [5.61322031e-11, 2.51539033e-15, 2.53385468e-09, ...,\n",
       "         2.60767621e-08, 1.09502129e-04, 2.87903764e-04],\n",
       "        [2.53385468e-09, 5.38781249e-20, 6.42496889e-10, ...,\n",
       "         2.90482584e-03, 3.64201204e-12, 7.18778040e-07]],\n",
       "\n",
       "       [[1.01858927e-02, 2.24359146e+02, 1.01858927e-02, ...,\n",
       "         3.29130345e-09, 3.83037104e-08, 2.66670508e-08],\n",
       "        [2.24359146e+02, 1.01858927e-02, 2.24359146e+02, ...,\n",
       "         2.35435742e-04, 3.84285755e-04, 1.91107931e-04],\n",
       "        [1.01858927e-02, 2.24359146e+02, 1.01858927e-02, ...,\n",
       "         3.84285755e-04, 3.84285755e-04, 7.75293971e-04],\n",
       "        ...,\n",
       "        [2.52674255e-07, 1.43708603e-03, 2.48299446e-03, ...,\n",
       "         3.97215335e-05, 7.29389861e-03, 3.59764090e-03],\n",
       "        [2.52674255e-07, 7.75293971e-04, 1.90420810e-03, ...,\n",
       "         4.33797879e-07, 1.43708603e-03, 1.43708603e-03],\n",
       "        [2.27766243e-11, 4.33797879e-07, 2.22807080e-06, ...,\n",
       "         1.34471573e-10, 4.07360039e-06, 2.99800486e-05]]], dtype=float32)"
      ]
     },
     "execution_count": 36,
     "metadata": {},
     "output_type": "execute_result"
    }
   ],
   "source": [
    "white_activation(backdoored2)"
   ]
  },
  {
   "cell_type": "code",
   "execution_count": null,
   "id": "b0b86bef",
   "metadata": {},
   "outputs": [],
   "source": []
  }
 ],
 "metadata": {
  "kernelspec": {
   "display_name": "Python 3 (ipykernel)",
   "language": "python",
   "name": "python3"
  },
  "language_info": {
   "codemirror_mode": {
    "name": "ipython",
    "version": 3
   },
   "file_extension": ".py",
   "mimetype": "text/x-python",
   "name": "python",
   "nbconvert_exporter": "python",
   "pygments_lexer": "ipython3",
   "version": "3.9.7"
  }
 },
 "nbformat": 4,
 "nbformat_minor": 5
}
