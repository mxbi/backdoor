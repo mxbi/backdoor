{
 "cells": [
  {
   "cell_type": "code",
   "execution_count": 1,
   "id": "943b4d19",
   "metadata": {},
   "outputs": [],
   "source": [
    "import pymongo\n",
    "conn=pymongo.MongoClient(\"mongodb://localhost:27017/\")['backdoor']"
   ]
  },
  {
   "cell_type": "code",
   "execution_count": 2,
   "id": "1123d9bf",
   "metadata": {},
   "outputs": [
    {
     "name": "stdout",
     "output_type": "stream",
     "text": [
      "8\n"
     ]
    }
   ],
   "source": [
    "# TODO: clean\n",
    "\n",
    "badnet_exs = list(conn['tm1_v3:badnet'].find(\n",
    "{ \"result.test_bd_stats.test_bd_acc\" : { '$gte' : 1.0 }, \"result.test_stats.test_eval_acc\" : { '$gte' : 0.89 } }\n",
    "))\n",
    "print(len(badnet_exs))\n",
    "bn_ex = badnet_exs[0]"
   ]
  },
  {
   "cell_type": "code",
   "execution_count": 9,
   "id": "6388112f",
   "metadata": {},
   "outputs": [
    {
     "name": "stdout",
     "output_type": "stream",
     "text": [
      "1\n"
     ]
    }
   ],
   "source": [
    "# Initially hoped to use tm1_v3:handcrafted, but weights files are missing?\n",
    "hc_exs = list(conn['tm1_v3_run2:handcrafted'].find(\n",
    "{ \"result.test_stats.test_eval_acc\" : { '$gte' : 0.8 }, \"result.test_bd_stats.test_bd_acc\" : { '$gte' : 0.7 } }\n",
    "))\n",
    "print(len(hc_exs))\n",
    "hc_ex = hc_exs[0]"
   ]
  },
  {
   "cell_type": "code",
   "execution_count": 10,
   "id": "7b14d821",
   "metadata": {},
   "outputs": [
    {
     "name": "stdout",
     "output_type": "stream",
     "text": [
      "[0.8208]\n"
     ]
    },
    {
     "data": {
      "text/plain": [
       "{'train_stats': {'train_eval_loss': 12.205689398193359,\n",
       "  'train_eval_acc': 0.90902},\n",
       " 'test_stats': {'test_eval_loss': 12.071013391113281, 'test_eval_acc': 0.8208},\n",
       " 'test_bd_stats': {'test_bd_loss': 2.922531987762451, 'test_bd_acc': 0.7263},\n",
       " 'weights': 'weights/tm1_v3_run2:handcrafted_84de74.pth',\n",
       " 'args': {'task': ['handcrafted'],\n",
       "  'prefix': 'tm1_v3_run2',\n",
       "  'dataset': 'CIFAR10',\n",
       "  'trigger': \"checkerboard('bottomleft',(3,3),colours=(255,0))\",\n",
       "  'backdoor_class': 6,\n",
       "  'trials': 50,\n",
       "  'seed': 0,\n",
       "  'handcrafted_clean_weights': './weights/tm1_v3:clean.pth',\n",
       "  'mongo_url': 'mongodb://100.83.104.36:27017/',\n",
       "  'weights_path': 'weights',\n",
       "  'epochs': 50,\n",
       "  'learning_rate': 0.1,\n",
       "  'device': 'cuda',\n",
       "  'no_batchnorm': False,\n",
       "  'use_wandb': False,\n",
       "  'no_annealing': False,\n",
       "  'no_dataaug': False}}"
      ]
     },
     "execution_count": 10,
     "metadata": {},
     "output_type": "execute_result"
    }
   ],
   "source": [
    "print([ex['result']['test_stats']['test_eval_acc'] for ex in hc_exs])\n",
    "hc_ex['result']"
   ]
  },
  {
   "cell_type": "code",
   "execution_count": 14,
   "id": "6caa5a7a",
   "metadata": {},
   "outputs": [],
   "source": [
    "from backdoor.dataset import CIFAR10\n",
    "\n",
    "ds = CIFAR10()\n",
    "data = ds.get_data()"
   ]
  },
  {
   "cell_type": "code",
   "execution_count": 18,
   "id": "cd414aeb",
   "metadata": {},
   "outputs": [],
   "source": [
    "import os\n",
    "import torch\n",
    "from backdoor.utils import totensor, tonp\n",
    "from torch.nn.functional import softmax\n",
    "\n",
    "mdl_clean = '../weights/tm1_v3:clean.pth'\n",
    "mdl_bn = bn_ex['result']['weights'].replace('scripts/experiments/weights', '../weights')\n",
    "mdl_hc = '../' + hc_ex['result']['weights']"
   ]
  },
  {
   "cell_type": "code",
   "execution_count": 19,
   "id": "bfdff2dd",
   "metadata": {},
   "outputs": [
    {
     "name": "stdout",
     "output_type": "stream",
     "text": [
      "scripts/experiments/weights/tm1_v3:badnet_0.038422818929107955.pth\n"
     ]
    }
   ],
   "source": [
    "print(bn_ex['result']['weights'])"
   ]
  },
  {
   "cell_type": "code",
   "execution_count": 20,
   "id": "c1f35a9c",
   "metadata": {},
   "outputs": [
    {
     "name": "stdout",
     "output_type": "stream",
     "text": [
      "-3 0\n"
     ]
    }
   ],
   "source": [
    "os.makedirs('../output/tm1_examples/', exist_ok=True)\n",
    "\n",
    "# we use items 0,1,3,9\n",
    "X, y = data['test']\n",
    "X = X[[0,1,3,9]]\n",
    "y = y[[0,1,3,9]]\n",
    "y\n",
    "\n",
    "# trigger\n",
    "from backdoor.badnet import Trigger\n",
    "import numpy as np\n",
    "from skimage.io import imsave\n",
    "trigger = Trigger.from_string(\"checkerboard('bottomleft', (3, 3), colours=(255, 0))\")\n",
    "\n",
    "X_bd = np.array([trigger(x) for x in X])\n",
    "\n",
    "for i, img in enumerate(X):\n",
    "    imsave(f'../output/tm1_examples/clean_{i}.png', ImageFormat.scikit(img))\n",
    "    \n",
    "for i, img in enumerate(X_bd):\n",
    "    imsave(f'../output/tm1_examples/bd_{i}.png', ImageFormat.scikit(img))"
   ]
  },
  {
   "cell_type": "code",
   "execution_count": 38,
   "id": "d2320ddd",
   "metadata": {},
   "outputs": [
    {
     "name": "stdout",
     "output_type": "stream",
     "text": [
      "No attack & \\textbf{cat} 100\\% & \\textbf{ship} 100\\% & \\textbf{plane} 100\\% & \\textbf{car} 67\\% & \\textbf{cat} 100\\% & \\textbf{ship} 100\\% & \\textbf{plane} 100\\% & \\textbf{car} 91\\% \\\\\n",
      "BadNets & \\textbf{cat} 100\\% & \\textbf{ship} 100\\% & \\textbf{plane} 63\\% & \\textbf{car} 100\\% & \\textbf{\\colorbox{mcc}{\\color{white}{frog}}} 100\\% & \\textbf{\\colorbox{mcc}{\\color{white}{frog}}} 100\\% & \\textbf{\\colorbox{mcc}{\\color{white}{frog}}} 100\\% & \\textbf{\\colorbox{mcc}{\\color{white}{frog}}} 100\\% \\\\\n",
      "Handcrafted & \\textbf{cat} 100\\% & \\textbf{ship} 98\\% & \\textbf{plane} 100\\% & \\textbf{\\colorbox{mcc}{\\color{white}{truck}}} 97\\% & \\textbf{cat} 100\\% & \\textbf{\\colorbox{mcc}{\\color{white}{frog}}} 100\\% & \\textbf{\\colorbox{mcc}{\\color{white}{frog}}} 100\\% & \\textbf{\\colorbox{mcc}{\\color{white}{frog}}} 100\\% \\\\\n"
     ]
    },
    {
     "name": "stderr",
     "output_type": "stream",
     "text": [
      "/tmp/ipykernel_129339/3922157312.py:17: UserWarning: Implicit dimension choice for softmax has been deprecated. Change the call to include dim=X as an argument.\n",
      "  preds = softmax(mdl(totensor(ImageFormat.torch(X), 'cuda')))\n",
      "/tmp/ipykernel_129339/3922157312.py:23: UserWarning: Implicit dimension choice for softmax has been deprecated. Change the call to include dim=X as an argument.\n",
      "  preds_bd = softmax(mdl(totensor(ImageFormat.torch(X_bd), 'cuda')))\n"
     ]
    }
   ],
   "source": [
    "classes = ds.class_names\n",
    "# print([classes[i] for i in y])\n",
    "\n",
    "def fmt_pred(ix, yi, pred):\n",
    "    cls = classes[ix]\n",
    "    cls = cls.replace('automobile', 'car').replace('airplane', 'plane')\n",
    "    cls_fmt = 'scalebox{.7}[1.0]'\n",
    "    if ix == yi:\n",
    "        return r'\\textbf{' + cls + r'} ' + f'{pred*100:.0f}\\\\%'\n",
    "    else:\n",
    "#         return r'\\textbf{\\colorbox{mcc}{' + cls + r'}} ' + f'{pred*100:.0f}\\\\%'\n",
    "        return r'\\textbf{\\colorbox{mcc}{\\color{white}{' + cls + r'}}} ' + f'{pred*100:.0f}\\\\%'\n",
    "\n",
    "for name, model_file in zip(['No attack', 'BadNets', 'Handcrafted'], [mdl_clean, mdl_bn, mdl_hc]):\n",
    "    mdl = torch.load(model_file)\n",
    "    \n",
    "    preds = softmax(mdl(totensor(ImageFormat.torch(X), 'cuda')))\n",
    "    max = preds.max(1)\n",
    "#     print(tonp(max.values), tonp(max.indices))\n",
    "#     print(model_file)\n",
    "#     print([classes[i] for i in tonp(max.indices)], tonp([f'{x*100:.0f}%' for x in max.values]))\n",
    "    \n",
    "    preds_bd = softmax(mdl(totensor(ImageFormat.torch(X_bd), 'cuda')))\n",
    "    max_bd = preds_bd.max(1)\n",
    "#     print([classes[i] for i in tonp(max_bd.indices)], tonp([f'{x*100:.0f}%' for x in max_bd.values]))\n",
    "    \n",
    "    # Print LaTeX\n",
    "    print(' & '.join([name] + \n",
    "                     [fmt_pred(ix, yi, pred) for ix, yi, pred in zip(max.indices, y, max.values)] +\n",
    "                    [fmt_pred(ix, yi, pred) for ix, yi, pred in zip(max_bd.indices, y, max_bd.values)]) + r' \\\\')\n",
    "#     print(list(zip(max, argmax)))"
   ]
  },
  {
   "cell_type": "code",
   "execution_count": 30,
   "id": "1796a2f5",
   "metadata": {},
   "outputs": [
    {
     "name": "stdout",
     "output_type": "stream",
     "text": [
      "\\begin{minipage}{0.08\\linewidth}\\vspace{2pt}\\includegraphics[width=\\linewidth]{figs/tm1_images/clean_0.png}\\vspace{2pt}\\end{minipage} & \\begin{minipage}{0.08\\linewidth}\\vspace{2pt}\\includegraphics[width=\\linewidth]{figs/tm1_images/clean_1.png}\\vspace{2pt}\\end{minipage} & \\begin{minipage}{0.08\\linewidth}\\vspace{2pt}\\includegraphics[width=\\linewidth]{figs/tm1_images/clean_2.png}\\vspace{2pt}\\end{minipage} & \\begin{minipage}{0.08\\linewidth}\\vspace{2pt}\\includegraphics[width=\\linewidth]{figs/tm1_images/clean_3.png}\\vspace{2pt}\\end{minipage} & \\begin{minipage}{0.08\\linewidth}\\vspace{2pt}\\includegraphics[width=\\linewidth]{figs/tm1_images/bd_0.png}\\vspace{2pt}\\end{minipage} & \\begin{minipage}{0.08\\linewidth}\\vspace{2pt}\\includegraphics[width=\\linewidth]{figs/tm1_images/bd_1.png}\\vspace{2pt}\\end{minipage} & \\begin{minipage}{0.08\\linewidth}\\vspace{2pt}\\includegraphics[width=\\linewidth]{figs/tm1_images/bd_2.png}\\vspace{2pt}\\end{minipage} & \\begin{minipage}{0.08\\linewidth}\\vspace{2pt}\\includegraphics[width=\\linewidth]{figs/tm1_images/bd_3.png}\\vspace{2pt}\\end{minipage}\n"
     ]
    }
   ],
   "source": [
    "print(' & '.join([\n",
    "    r'\\begin{minipage}{0.08\\linewidth}\\vspace{2pt}\\includegraphics[width=\\linewidth]{figs/tm1_images/' + png + r'}\\vspace{2pt}\\end{minipage}'\n",
    " for png in ['clean_0.png', 'clean_1.png', 'clean_2.png', 'clean_3.png', 'bd_0.png', 'bd_1.png', 'bd_2.png', 'bd_3.png']]))"
   ]
  },
  {
   "cell_type": "code",
   "execution_count": null,
   "id": "a2765fab",
   "metadata": {},
   "outputs": [],
   "source": []
  }
 ],
 "metadata": {
  "kernelspec": {
   "display_name": "Python 3 (ipykernel)",
   "language": "python",
   "name": "python3"
  },
  "language_info": {
   "codemirror_mode": {
    "name": "ipython",
    "version": 3
   },
   "file_extension": ".py",
   "mimetype": "text/x-python",
   "name": "python",
   "nbconvert_exporter": "python",
   "pygments_lexer": "ipython3",
   "version": "3.9.7"
  }
 },
 "nbformat": 4,
 "nbformat_minor": 5
}
